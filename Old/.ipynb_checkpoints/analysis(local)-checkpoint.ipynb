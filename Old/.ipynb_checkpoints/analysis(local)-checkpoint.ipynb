{
 "cells": [
  {
   "cell_type": "markdown",
   "metadata": {
    "colab_type": "text",
    "id": "Ih4BUpHM2aLY"
   },
   "source": [
    "# Loading Packages/Functions"
   ]
  },
  {
   "cell_type": "code",
   "execution_count": 1,
   "metadata": {
    "colab": {},
    "colab_type": "code",
    "id": "NhjydxFPOm6u"
   },
   "outputs": [],
   "source": [
    "import tensorflow as tf\n",
    "import tensorflow.keras.backend as K\n",
    "\n",
    "import tensorflow.keras as keras\n",
    "\n",
    "from tensorflow.keras.models import Sequential,Model,load_model\n",
    "from tensorflow.keras.layers import Input, Dense, Dropout, LSTM, Activation, Bidirectional, Flatten, AdditiveAttention\n",
    "from tensorflow.keras import utils\n",
    "from tensorflow.keras.callbacks import ModelCheckpoint\n",
    "from tensorflow.keras.utils import Sequence\n",
    "\n"
   ]
  },
  {
   "cell_type": "code",
   "execution_count": 2,
   "metadata": {
    "colab": {},
    "colab_type": "code",
    "id": "YZ_ekR97-nYW"
   },
   "outputs": [],
   "source": [
    "from music21 import *\n",
    "import numpy as np\n",
    "import pandas as pd\n",
    "import matplotlib.pyplot as plt\n",
    "import os\n",
    "import datetime\n",
    "import pytz\n",
    "from IPython.display import clear_output\n",
    "\n",
    "import glob\n",
    "import pickle"
   ]
  },
  {
   "cell_type": "markdown",
   "metadata": {
    "colab_type": "text",
    "id": "Tjm_GqFh2iiE"
   },
   "source": [
    "Mounting Google Drive"
   ]
  },
  {
   "cell_type": "code",
   "execution_count": null,
   "metadata": {
    "colab": {
     "base_uri": "https://localhost:8080/",
     "height": 122
    },
    "colab_type": "code",
    "id": "uNI5_5C47uzT",
    "outputId": "0bff2910-85f3-4ff1-de28-99bbd6559943"
   },
   "outputs": [
    {
     "name": "stdout",
     "output_type": "stream",
     "text": [
      "Go to this URL in a browser: https://accounts.google.com/o/oauth2/auth?client_id=947318989803-6bn6qk8qdgf4n4g3pfee6491hc0brc4i.apps.googleusercontent.com&redirect_uri=urn%3aietf%3awg%3aoauth%3a2.0%3aoob&response_type=code&scope=email%20https%3a%2f%2fwww.googleapis.com%2fauth%2fdocs.test%20https%3a%2f%2fwww.googleapis.com%2fauth%2fdrive%20https%3a%2f%2fwww.googleapis.com%2fauth%2fdrive.photos.readonly%20https%3a%2f%2fwww.googleapis.com%2fauth%2fpeopleapi.readonly\n",
      "\n",
      "Enter your authorization code:\n",
      "··········\n",
      "Mounted at /content/gdrive/\n"
     ]
    }
   ],
   "source": [
    "\n",
    "from google.colab import drive\n",
    "drive.mount('/content/gdrive/')\n"
   ]
  },
  {
   "cell_type": "code",
   "execution_count": null,
   "metadata": {
    "colab": {
     "base_uri": "https://localhost:8080/",
     "height": 34
    },
    "colab_type": "code",
    "id": "bgaUFYdIEdgo",
    "outputId": "09cd0a8f-da21-4496-e432-785a171c264f"
   },
   "outputs": [
    {
     "name": "stdout",
     "output_type": "stream",
     "text": [
      "/content/gdrive/My Drive/MusicRep\n"
     ]
    }
   ],
   "source": [
    "%cd /content/gdrive/My Drive/MusicRep"
   ]
  },
  {
   "cell_type": "markdown",
   "metadata": {
    "colab_type": "text",
    "id": "A9ByjIaC25co"
   },
   "source": [
    "# Extract data from dataset /preprocess\n",
    "\n",
    "and store for later.\n",
    "Includes preprocessing for loading batches into the network."
   ]
  },
  {
   "cell_type": "code",
   "execution_count": null,
   "metadata": {
    "colab": {},
    "colab_type": "code",
    "id": "mHOh783QfJ4d"
   },
   "outputs": [],
   "source": [
    "# Extracts notes in a many-hot representation\n",
    "def get_notes_hot():\n",
    "  max_T_x=5000\n",
    "  n_x=129\n",
    "  resolution=4 #in how many notes we slice a quarter \n",
    "  notes_hot=[]\n",
    "\n",
    "  for file in glob.glob(\"essen/europa/**/*.krn\",recursive=True):\n",
    "    \n",
    "    print(\"Parsing %s\" % file)\n",
    "    midi=converter.parse(file)\n",
    "    try: # file has instrument parts\n",
    "        s2 = instrument.partitionByInstrument(midi) #Change to only grab the piano???\n",
    "        notes_to_parse = s2.parts[0].recurse() \n",
    "    except: # file has notes in a flat structure\n",
    "        notes_to_parse = midi.flat.notes\n",
    "\n",
    "    T_x = int((notes_to_parse[-1].offset+notes_to_parse[-1].quarterLength)*resolution)\n",
    "    if T_x > max_T_x:\n",
    "      print(f'T_x in {file} exceeds 5000: is {T_x}')\n",
    "      T_x = max_T_x\n",
    "    X_ohe = np.zeros((T_x, n_x))\n",
    "    for n in notes_to_parse:\n",
    "      if isinstance(n, note.Note):\n",
    "        X_ohe[int(n.offset*resolution), n.pitch.midi-1] = 1\n",
    "        for d in range(1,int(n.quarterLength*resolution)):\n",
    "          X_ohe[int(n.offset*resolution)+d, n.pitch.midi-1] = 1\n",
    "      elif isinstance(n, note.Rest):\n",
    "        for d in range(int(n.quarterLength*resolution)):\n",
    "          X_ohe[int(n.offset*resolution)+d, 128] = 1\n",
    "    # add to the list  \n",
    "    notes_hot.append(X_ohe)\n",
    "\n",
    "  #Scan all notes to see if there are implicit rests (notes with all 0s) or overlapping notes\n",
    "  implicit_rests=0\n",
    "  overlapping_notes=0\n",
    "  for piece in notes_hot:\n",
    "    for n in piece:\n",
    "      if sum(n)<1:\n",
    "        n[128]=1\n",
    "        implicit_rests+=1\n",
    "      elif sum(n)>1:\n",
    "        keep_note=note.argmax()\n",
    "        n=np.zeros(129)\n",
    "        n[keep_note]=1\n",
    "        overlapping_notes+=1\n",
    "\n",
    "  with open('data/notes_hot_new', 'wb') as filepath:\n",
    "    pickle.dump(notes_hot, filepath)\n",
    "  print(f'Pieces processed: {len(notes_hot)}')\n",
    "  print(f'Implicit Rests Detected: {implicit_rests}')\n",
    "  print(f'Overlapping Notes Detected: {overlapping_notes}')\n",
    "  return notes_hot"
   ]
  },
  {
   "cell_type": "code",
   "execution_count": null,
   "metadata": {
    "colab": {},
    "colab_type": "code",
    "id": "N4I-MR0jK3mu"
   },
   "outputs": [],
   "source": [
    "notes_hot=get_notes_hot()"
   ]
  },
  {
   "cell_type": "code",
   "execution_count": null,
   "metadata": {
    "colab": {},
    "colab_type": "code",
    "id": "vzda0XDYKVMc"
   },
   "outputs": [],
   "source": [
    "# Extracts notes as vectors of midi indices\n",
    "\n",
    "def get_notes_midi():\n",
    "  \n",
    "  resolution=4 #in how many notes we slice a quarter \n",
    "  notes=[]\n",
    "  \n",
    "\n",
    "  for file in glob.glob(\"essen/europa/**/*.krn\",recursive=True):\n",
    "    print(\"Parsing %s\" % file)\n",
    "    \n",
    "    midi=converter.parse(file)\n",
    "    try: # file has instrument parts\n",
    "        s2 = instrument.partitionByInstrument(midi) #Change to only grab the piano???\n",
    "        notes_to_parse = s2.parts[0].recurse() \n",
    "    except: # file has notes in a flat structure\n",
    "        notes_to_parse = midi.flat.notes\n",
    "   \n",
    "    dur = int((notes_to_parse[-1].offset+notes_to_parse[-1].quarterLength)*resolution)\n",
    "    notes_list=np.ones(dur,dtype='int')*128\n",
    "\n",
    "    \n",
    "    for n in notes_to_parse:\n",
    "      if isinstance(n, note.Note):\n",
    "        notes_list[int(n.offset*resolution)]=int(n.pitch.midi)          \n",
    "        for d in range(1,int(n.quarterLength*resolution)):\n",
    "          notes_list[int(n.offset*resolution)+d]=129\n",
    "      elif isinstance(n,note.Rest):\n",
    "        for d in range(int(n.quarterLength*resolution)):\n",
    "          notes_list[int(n.offset*resolution)+d]=128\n",
    "    # add to the list  \n",
    "    notes.append(notes_list)\n",
    "  \n",
    "  notes=np.array(notes)\n",
    "  \n",
    "  \n",
    "  with open('data/notes_midi', 'wb') as filepath:\n",
    "    pickle.dump(notes, filepath)\n",
    "  return notes"
   ]
  },
  {
   "cell_type": "code",
   "execution_count": null,
   "metadata": {
    "colab": {
     "base_uri": "https://localhost:8080/",
     "height": 34
    },
    "colab_type": "code",
    "id": "kseITVeXy9hx",
    "outputId": "48d8cb04-8c6b-4539-b627-d0dac5ec56e7"
   },
   "outputs": [
    {
     "name": "stdout",
     "output_type": "stream",
     "text": [
      "/content\n"
     ]
    }
   ],
   "source": [
    "%cd /content"
   ]
  },
  {
   "cell_type": "code",
   "execution_count": null,
   "metadata": {
    "colab": {},
    "colab_type": "code",
    "id": "EWdh86HfYr--"
   },
   "outputs": [],
   "source": [
    "#copy the notes file from drive to colab folder\n",
    "!cp '/content/gdrive/My Drive/MusicRep/data/notes_midi' '/content'"
   ]
  },
  {
   "cell_type": "code",
   "execution_count": null,
   "metadata": {
    "colab": {},
    "colab_type": "code",
    "id": "I3-JvkxsFt_k"
   },
   "outputs": [],
   "source": [
    "#If you already have done this, you can load the pickled file:\n",
    "object = pd.read_pickle(r'notes_midi')\n",
    "notes=object"
   ]
  },
  {
   "cell_type": "code",
   "execution_count": null,
   "metadata": {
    "colab": {
     "base_uri": "https://localhost:8080/",
     "height": 34
    },
    "colab_type": "code",
    "id": "LlLngbkVGCiv",
    "outputId": "5abacc38-6930-4eb8-86b3-5e83fcb6e70a"
   },
   "outputs": [
    {
     "data": {
      "text/plain": [
       "(6213,)"
      ]
     },
     "execution_count": 8,
     "metadata": {
      "tags": []
     },
     "output_type": "execute_result"
    }
   ],
   "source": [
    "notes.shape"
   ]
  },
  {
   "cell_type": "markdown",
   "metadata": {
    "colab_type": "text",
    "id": "DRAkV_L-Glr-"
   },
   "source": [
    "## Now we can choose which pieces to use based on their note count\n",
    "\n"
   ]
  },
  {
   "cell_type": "code",
   "execution_count": null,
   "metadata": {
    "colab": {},
    "colab_type": "code",
    "id": "wTNlCHNpoMgy"
   },
   "outputs": [],
   "source": [
    "durations=np.empty(0)\n",
    "\n",
    "for piece in notes:\n",
    "  durations=np.append(durations,piece.shape[0])\n",
    "notes=np.array(notes)\n",
    "inds=durations.argsort()\n",
    "durations=durations[inds]\n",
    "notes_sorted=notes[inds]"
   ]
  },
  {
   "cell_type": "code",
   "execution_count": null,
   "metadata": {
    "colab": {},
    "colab_type": "code",
    "id": "f6P9bWWPSocW"
   },
   "outputs": [],
   "source": [
    "#create a histogram of occurences of events in each timestep\n",
    "from collections import Counter \n",
    "notes_hist={}\n",
    "for piece in notes:\n",
    "  elements,counts=np.unique(piece,return_counts=True)\n",
    "  piece_hist=dict(zip(elements,counts))\n",
    "  notes_hist=Counter(piece_hist)+Counter(notes_hist)"
   ]
  },
  {
   "cell_type": "code",
   "execution_count": null,
   "metadata": {
    "colab": {
     "base_uri": "https://localhost:8080/",
     "height": 282
    },
    "colab_type": "code",
    "id": "SRyoZJDdVUXl",
    "outputId": "9f0b133f-738a-4d14-b48b-0e844564f017"
   },
   "outputs": [
    {
     "data": {
      "text/plain": [
       "<BarContainer object of 46 artists>"
      ]
     },
     "execution_count": 10,
     "metadata": {
      "tags": []
     },
     "output_type": "execute_result"
    },
    {
     "data": {
      "image/png": "[encoded data removed]",
      "text/plain": [
       "<Figure size 432x288 with 1 Axes>"
      ]
     },
     "metadata": {
      "image/png": {
       "height": 248,
       "width": 394
      },
      "needs_background": "light",
      "tags": []
     },
     "output_type": "display_data"
    }
   ],
   "source": [
    "plt.bar(notes_hist.keys(),notes_hist.values())"
   ]
  },
  {
   "cell_type": "code",
   "execution_count": null,
   "metadata": {
    "colab": {
     "base_uri": "https://localhost:8080/",
     "height": 790
    },
    "colab_type": "code",
    "id": "psg-huBSX8ZM",
    "outputId": "3f03848a-acab-4fe7-be52-5c5076dd64b7"
   },
   "outputs": [
    {
     "data": {
      "text/plain": [
       "Counter({45: 2,\n",
       "         46: 1,\n",
       "         47: 8,\n",
       "         48: 205,\n",
       "         49: 19,\n",
       "         50: 373,\n",
       "         51: 65,\n",
       "         52: 1192,\n",
       "         53: 930,\n",
       "         54: 572,\n",
       "         55: 4744,\n",
       "         56: 250,\n",
       "         57: 3580,\n",
       "         58: 689,\n",
       "         59: 3486,\n",
       "         60: 8525,\n",
       "         61: 908,\n",
       "         62: 15088,\n",
       "         63: 2123,\n",
       "         64: 13061,\n",
       "         65: 17127,\n",
       "         66: 7981,\n",
       "         67: 38577,\n",
       "         68: 3561,\n",
       "         69: 44245,\n",
       "         70: 17212,\n",
       "         71: 26976,\n",
       "         72: 33213,\n",
       "         73: 4065,\n",
       "         74: 27160,\n",
       "         75: 2598,\n",
       "         76: 7712,\n",
       "         77: 3379,\n",
       "         78: 836,\n",
       "         79: 1320,\n",
       "         80: 78,\n",
       "         81: 185,\n",
       "         82: 112,\n",
       "         83: 43,\n",
       "         84: 36,\n",
       "         85: 1,\n",
       "         86: 17,\n",
       "         87: 2,\n",
       "         89: 1,\n",
       "         128: 54914,\n",
       "         129: 759573})"
      ]
     },
     "execution_count": 253,
     "metadata": {
      "tags": []
     },
     "output_type": "execute_result"
    }
   ],
   "source": [
    "notes_hist"
   ]
  },
  {
   "cell_type": "code",
   "execution_count": null,
   "metadata": {
    "colab": {
     "base_uri": "https://localhost:8080/",
     "height": 202
    },
    "colab_type": "code",
    "id": "OfuUnxJEq6rE",
    "outputId": "42f48ba2-ec2f-470e-f56c-d9e0fd0e849d"
   },
   "outputs": [
    {
     "data": {
      "text/plain": [
       "(array([  0,   1,   2,   3,   4,   5,   6,   7,   8,   9,  10,  11,  12,\n",
       "         13,  14,  15,  16,  17,  18,  19,  20,  21,  22,  23,  24,  25,\n",
       "         26,  27,  28,  29,  30,  31,  32,  33,  34,  35,  36,  37,  38,\n",
       "         39,  40,  41,  42,  43,  44,  45,  46,  47,  48,  49,  50,  51,\n",
       "         52,  53,  54,  55,  56,  57,  58,  59,  60,  61,  62,  63,  64,\n",
       "         65,  66,  67,  68,  69,  70,  71,  72,  73,  74,  75,  76,  77,\n",
       "         78,  79,  80,  81,  82,  83,  84,  85,  86,  87,  88,  89,  90,\n",
       "         91,  92,  93,  94,  95,  96,  97,  98,  99, 100, 101, 102, 103,\n",
       "        104, 105, 106, 107, 108, 109, 110, 111, 112, 113, 114, 115, 116,\n",
       "        117, 118, 119, 120, 121, 122, 123, 124, 125, 126, 127, 128, 129,\n",
       "        130, 131, 132, 133, 134, 135, 136, 137, 138, 139, 140]),)"
      ]
     },
     "execution_count": 43,
     "metadata": {
      "tags": []
     },
     "output_type": "execute_result"
    }
   ],
   "source": [
    "np.nonzero(durations<60)"
   ]
  },
  {
   "cell_type": "code",
   "execution_count": null,
   "metadata": {
    "colab": {
     "base_uri": "https://localhost:8080/",
     "height": 634
    },
    "colab_type": "code",
    "id": "0IgP6-Efo3Lz",
    "outputId": "f6db0f90-c932-433b-a925-fef604f123de"
   },
   "outputs": [
    {
     "data": {
      "text/plain": [
       "(array([460., 214., 985., 230., 203., 664., 459., 270., 137.,  40., 767.,\n",
       "        128., 106., 136., 292.,  18.,  39., 158.,  36.,  93.,   7.,  44.,\n",
       "         34.,  21.,  99.,  15.,  10.,  15.,  14.,  25.,   6.,   0.,  27.,\n",
       "          7.,  32.,  11.,  12.,   3.,   5.,  30.,   7.,   9.,   2.,   7.,\n",
       "         34.,   6.,  19.,   9.,   1.,  10.,   9.,   7.,   3.,   0.,  14.,\n",
       "          5.,   3.,   1.,   7.]),\n",
       " array([ 60.        ,  73.08474576,  86.16949153,  99.25423729,\n",
       "        112.33898305, 125.42372881, 138.50847458, 151.59322034,\n",
       "        164.6779661 , 177.76271186, 190.84745763, 203.93220339,\n",
       "        217.01694915, 230.10169492, 243.18644068, 256.27118644,\n",
       "        269.3559322 , 282.44067797, 295.52542373, 308.61016949,\n",
       "        321.69491525, 334.77966102, 347.86440678, 360.94915254,\n",
       "        374.03389831, 387.11864407, 400.20338983, 413.28813559,\n",
       "        426.37288136, 439.45762712, 452.54237288, 465.62711864,\n",
       "        478.71186441, 491.79661017, 504.88135593, 517.96610169,\n",
       "        531.05084746, 544.13559322, 557.22033898, 570.30508475,\n",
       "        583.38983051, 596.47457627, 609.55932203, 622.6440678 ,\n",
       "        635.72881356, 648.81355932, 661.89830508, 674.98305085,\n",
       "        688.06779661, 701.15254237, 714.23728814, 727.3220339 ,\n",
       "        740.40677966, 753.49152542, 766.57627119, 779.66101695,\n",
       "        792.74576271, 805.83050847, 818.91525424, 832.        ]),\n",
       " <a list of 59 Patch objects>)"
      ]
     },
     "execution_count": 18,
     "metadata": {
      "tags": []
     },
     "output_type": "execute_result"
    },
    {
     "data": {
      "image/png": "[encoded data removed]",
      "text/plain": [
       "<Figure size 432x288 with 1 Axes>"
      ]
     },
     "metadata": {
      "image/png": {
       "height": 248,
       "width": 381
      },
      "needs_background": "light",
      "tags": []
     },
     "output_type": "display_data"
    }
   ],
   "source": [
    "plt.hist(durations[141:6146],bins='auto')"
   ]
  },
  {
   "cell_type": "code",
   "execution_count": null,
   "metadata": {
    "colab": {},
    "colab_type": "code",
    "id": "6vF57H7ztx9s"
   },
   "outputs": [],
   "source": [
    "notes=notes_sorted[141:5460] #60-300\n"
   ]
  },
  {
   "cell_type": "code",
   "execution_count": null,
   "metadata": {
    "colab": {
     "base_uri": "https://localhost:8080/",
     "height": 34
    },
    "colab_type": "code",
    "id": "-1BB9NfD6MWV",
    "outputId": "19fbfc1f-1757-47ba-a839-169e67a1eabe"
   },
   "outputs": [
    {
     "data": {
      "text/plain": [
       "(600,)"
      ]
     },
     "execution_count": 46,
     "metadata": {
      "tags": []
     },
     "output_type": "execute_result"
    }
   ],
   "source": [
    "notes_sorted[6000].shape"
   ]
  },
  {
   "cell_type": "code",
   "execution_count": null,
   "metadata": {
    "colab": {},
    "colab_type": "code",
    "id": "vXzo6HZoZD-9"
   },
   "outputs": [],
   "source": [
    "notes=notes_sorted[141:6146] #<1000"
   ]
  },
  {
   "cell_type": "code",
   "execution_count": null,
   "metadata": {
    "colab": {},
    "colab_type": "code",
    "id": "QExU5YaKpZJb"
   },
   "outputs": [],
   "source": [
    "np.random.shuffle(notes)"
   ]
  },
  {
   "cell_type": "code",
   "execution_count": null,
   "metadata": {
    "colab": {
     "base_uri": "https://localhost:8080/",
     "height": 34
    },
    "colab_type": "code",
    "id": "6SJgbJgzoXGh",
    "outputId": "181df811-e467-42c8-a55f-bfa5b832bd8b"
   },
   "outputs": [
    {
     "data": {
      "text/plain": [
       "(6005,)"
      ]
     },
     "execution_count": 10,
     "metadata": {
      "tags": []
     },
     "output_type": "execute_result"
    }
   ],
   "source": [
    "notes.shape"
   ]
  },
  {
   "cell_type": "code",
   "execution_count": null,
   "metadata": {
    "colab": {},
    "colab_type": "code",
    "id": "xIXJmZk4fu6G"
   },
   "outputs": [],
   "source": [
    "validation_split=0.1\n",
    "notes_train=notes[0:len(notes)-int(validation_split*len(notes))]\n",
    "notes_validate=notes[len(notes)-int(validation_split*len(notes)):len(notes)]"
   ]
  },
  {
   "cell_type": "code",
   "execution_count": null,
   "metadata": {
    "colab": {
     "base_uri": "https://localhost:8080/",
     "height": 34
    },
    "colab_type": "code",
    "id": "8rzSI4EmgQjt",
    "outputId": "ebe84278-c1dd-4335-c18b-2cfcfeca95b9"
   },
   "outputs": [
    {
     "data": {
      "text/plain": [
       "5405"
      ]
     },
     "execution_count": 13,
     "metadata": {
      "tags": []
     },
     "output_type": "execute_result"
    }
   ],
   "source": [
    "len(notes_train)"
   ]
  },
  {
   "cell_type": "code",
   "execution_count": null,
   "metadata": {
    "colab": {
     "base_uri": "https://localhost:8080/",
     "height": 34
    },
    "colab_type": "code",
    "id": "73iNfAdorjx0",
    "outputId": "e007981d-6e28-49cf-bc6f-325baa97a979"
   },
   "outputs": [
    {
     "name": "stdout",
     "output_type": "stream",
     "text": [
      "/content\n"
     ]
    }
   ],
   "source": [
    "%cd /content"
   ]
  },
  {
   "cell_type": "code",
   "execution_count": null,
   "metadata": {
    "colab": {},
    "colab_type": "code",
    "id": "vPBs201rNjEG"
   },
   "outputs": [],
   "source": [
    "#returns a dictionary of all notes that appear in the dataset\n",
    "def keep_dataset_notes(notes):\n",
    "  x=set()\n",
    "  for piece in notes:\n",
    "      x=x.union(set(piece))\n",
    "  temp=zip(notes_set,range(len(sorted(x))))\n",
    "  return dict(temp)"
   ]
  },
  {
   "cell_type": "code",
   "execution_count": null,
   "metadata": {
    "colab": {},
    "colab_type": "code",
    "id": "MhBt4oQPR-_N"
   },
   "outputs": [],
   "source": [
    "notes_set=keep_dataset_notes(notes)"
   ]
  },
  {
   "cell_type": "code",
   "execution_count": null,
   "metadata": {
    "colab": {
     "base_uri": "https://localhost:8080/",
     "height": 34
    },
    "colab_type": "code",
    "id": "5BnfqvSaZYVl",
    "outputId": "7f1b17f5-1b5a-45f1-af86-bdc31d13f173"
   },
   "outputs": [
    {
     "data": {
      "text/plain": [
       "46"
      ]
     },
     "execution_count": 33,
     "metadata": {
      "tags": []
     },
     "output_type": "execute_result"
    }
   ],
   "source": [
    "len(notes_set)"
   ]
  },
  {
   "cell_type": "code",
   "execution_count": null,
   "metadata": {
    "colab": {},
    "colab_type": "code",
    "id": "jzI77icaSneW"
   },
   "outputs": [],
   "source": [
    "#breaks the gathered notes in one .npz file per batch, to be used with a data generator\n",
    "#saves \n",
    "def preprocess(notes,batch_folder='npz',batch_size=256,sequence_length=32,midi=True):\n",
    "  \n",
    "  network_input = []\n",
    "  network_output = []\n",
    "  batch_no=0\n",
    "  batch_ind=0\n",
    "  batches=[]\n",
    "  if midi:\n",
    "    nfeat=1\n",
    "  else:\n",
    "    nfeat=130\n",
    "  for piece in notes:\n",
    "    piece_length=piece.shape[0]\n",
    "    #sequence_length=int(piece_length/3)\n",
    "    for i in range(0, piece_length - sequence_length, 1):\n",
    "      sequence_in = piece[i:i + sequence_length]\n",
    "      sequence_out = piece[i + sequence_length]\n",
    "      network_input.append(sequence_in)\n",
    "      network_output.append(sequence_out)\n",
    "      batch_ind+=1\n",
    "      \n",
    "      if batch_ind>=batch_size:\n",
    "        batch_no+=1\n",
    "        n_patterns = len(network_input)\n",
    "        network_input = np.reshape(network_input, (n_patterns, sequence_length, nfeat))\n",
    "        network_output=np.array(network_output)\n",
    "        np.savez(f'{batch_folder}/batch{batch_no:06}.npz',network_input=network_input,network_output=network_output)\n",
    "        batches.append((network_input,network_output))\n",
    "        batch_ind=0\n",
    "        network_input = []\n",
    "        network_output = []\n",
    "    input_shape=np.array([batch_no*batch_size*sequence_length,sequence_length,130])\n",
    "    np.save(f'{batch_folder}/input_shape',input_shape)"
   ]
  },
  {
   "cell_type": "code",
   "execution_count": null,
   "metadata": {
    "colab": {
     "base_uri": "https://localhost:8080/",
     "height": 34
    },
    "colab_type": "code",
    "id": "mfMQoZG6-gpk",
    "outputId": "7e1f851f-af09-44e1-e1bf-84de428ace4a"
   },
   "outputs": [
    {
     "name": "stdout",
     "output_type": "stream",
     "text": [
      "/content\n"
     ]
    }
   ],
   "source": [
    "%cd /content"
   ]
  },
  {
   "cell_type": "code",
   "execution_count": null,
   "metadata": {
    "colab": {},
    "colab_type": "code",
    "id": "6K88DghfBFjN"
   },
   "outputs": [],
   "source": [
    "!mkdir npz\n",
    "!mkdir npz/train\n",
    "!mkdir npz/validate\n",
    "!mkdir weights"
   ]
  },
  {
   "cell_type": "code",
   "execution_count": null,
   "metadata": {
    "colab": {},
    "colab_type": "code",
    "id": "SB-qzFQ5vLrm"
   },
   "outputs": [],
   "source": [
    "preprocess(notes_train,batch_folder='npz/train')\n",
    "preprocess(notes_validate,batch_folder='npz/validate')"
   ]
  },
  {
   "cell_type": "code",
   "execution_count": null,
   "metadata": {
    "colab": {
     "base_uri": "https://localhost:8080/",
     "height": 34
    },
    "colab_type": "code",
    "id": "F1Y_uUY3UdT3",
    "outputId": "698375d4-979f-4275-f98d-193069a0a191"
   },
   "outputs": [
    {
     "name": "stdout",
     "output_type": "stream",
     "text": [
      "^C\n"
     ]
    }
   ],
   "source": [
    "!cp -r '/content/npz' '/content/gdrive/My Drive/MusicRep'"
   ]
  },
  {
   "cell_type": "code",
   "execution_count": null,
   "metadata": {
    "colab": {},
    "colab_type": "code",
    "id": "hVCOKO1T9gOP"
   },
   "outputs": [],
   "source": [
    "def onehot_to_midi(notes_hot):\n",
    "  '''transform a vector(iterable) of midi notes in a one-hot representation'''\n",
    "  notes_midi=np.empty(0)\n",
    "  for note in notes_hot:\n",
    "    temp=np.argmax(note)\n",
    "    notes_midi=np.append(notes_midi,temp)\n",
    "  return notes_midi\n"
   ]
  },
  {
   "cell_type": "code",
   "execution_count": null,
   "metadata": {
    "colab": {},
    "colab_type": "code",
    "id": "LuPOq1r0zbDI"
   },
   "outputs": [],
   "source": [
    "def get_streams(data_path='/content/gdrive/My Drive/MusicRep/weimar_jazz/*.mid'):\n",
    "  \n",
    "  streams=[]\n",
    "  count=0\n",
    "  for file in glob.glob(data_path,recursive=True):\n",
    "    clear_output\n",
    "    print(\"Parsing %s\" % file)\n",
    "    try:\n",
    "      stream=converter.parse(file)\n",
    "      streams.append(stream)\n",
    "    except:\n",
    "      continue\n",
    "    count+=1\n",
    "    print(f'Parsed {count} files')\n",
    "  streams=np.asarray(streams)\n",
    "  with open('data/streams_weimar', 'wb') as filepath:\n",
    "    pickle.dump(streams, filepath)\n",
    "\n",
    "  return streams"
   ]
  },
  {
   "cell_type": "code",
   "execution_count": null,
   "metadata": {
    "colab": {
     "base_uri": "https://localhost:8080/",
     "height": 178
    },
    "colab_type": "code",
    "id": "o6uR7kddtuhQ",
    "outputId": "a940e651-5932-4427-cbba-2cb6f6137e30"
   },
   "outputs": [
    {
     "ename": "FileNotFoundError",
     "evalue": "ignored",
     "output_type": "error",
     "traceback": [
      "\u001b[0;31m---------------------------------------------------------------------------\u001b[0m",
      "\u001b[0;31mFileNotFoundError\u001b[0m                         Traceback (most recent call last)",
      "\u001b[0;32m<ipython-input-7-cad54e961eba>\u001b[0m in \u001b[0;36m<module>\u001b[0;34m()\u001b[0m\n\u001b[0;32m----> 1\u001b[0;31m \u001b[0;32mwith\u001b[0m \u001b[0mopen\u001b[0m\u001b[0;34m(\u001b[0m\u001b[0;34m'data/streams'\u001b[0m\u001b[0;34m,\u001b[0m \u001b[0;34m'wb'\u001b[0m\u001b[0;34m)\u001b[0m \u001b[0;32mas\u001b[0m \u001b[0mfilepath\u001b[0m\u001b[0;34m:\u001b[0m\u001b[0;34m\u001b[0m\u001b[0;34m\u001b[0m\u001b[0m\n\u001b[0m\u001b[1;32m      2\u001b[0m   \u001b[0mpickle\u001b[0m\u001b[0;34m.\u001b[0m\u001b[0mdump\u001b[0m\u001b[0;34m(\u001b[0m\u001b[0mstreams\u001b[0m\u001b[0;34m,\u001b[0m \u001b[0mfilepath\u001b[0m\u001b[0;34m)\u001b[0m\u001b[0;34m\u001b[0m\u001b[0;34m\u001b[0m\u001b[0m\n",
      "\u001b[0;31mFileNotFoundError\u001b[0m: [Errno 2] No such file or directory: 'data/streams'"
     ]
    }
   ],
   "source": [
    "with open('data/streams', 'wb') as filepath:\n",
    "  pickle.dump(streams, filepath)"
   ]
  },
  {
   "cell_type": "code",
   "execution_count": null,
   "metadata": {
    "colab": {
     "base_uri": "https://localhost:8080/",
     "height": 303
    },
    "colab_type": "code",
    "id": "ju0NCGYwxjf4",
    "outputId": "100c1b7f-9277-4cf2-8c64-7a30db910cc8"
   },
   "outputs": [
    {
     "ename": "MidiException",
     "evalue": "ignored",
     "output_type": "error",
     "traceback": [
      "\u001b[0;31m---------------------------------------------------------------------------\u001b[0m",
      "\u001b[0;31mMidiException\u001b[0m                             Traceback (most recent call last)",
      "\u001b[0;32m<ipython-input-11-e9b3b6a36b97>\u001b[0m in \u001b[0;36m<module>\u001b[0;34m()\u001b[0m\n\u001b[0;32m----> 1\u001b[0;31m \u001b[0mmidi\u001b[0m\u001b[0;34m=\u001b[0m\u001b[0mconverter\u001b[0m\u001b[0;34m.\u001b[0m\u001b[0mparse\u001b[0m\u001b[0;34m(\u001b[0m\u001b[0;34m'/content/gdrive/My Drive/MusicRep/weimar_jazz/ChrisPotter_InASentimentalMood_FINAL.mid'\u001b[0m\u001b[0;34m)\u001b[0m\u001b[0;34m\u001b[0m\u001b[0;34m\u001b[0m\u001b[0m\n\u001b[0m",
      "\u001b[0;32m/usr/local/lib/python3.6/dist-packages/music21/converter/__init__.py\u001b[0m in \u001b[0;36mparse\u001b[0;34m(value, *args, **keywords)\u001b[0m\n\u001b[1;32m   1125\u001b[0m     \u001b[0;32melif\u001b[0m \u001b[0;32mnot\u001b[0m \u001b[0misinstance\u001b[0m\u001b[0;34m(\u001b[0m\u001b[0mvalue\u001b[0m\u001b[0;34m,\u001b[0m \u001b[0mbytes\u001b[0m\u001b[0;34m)\u001b[0m \u001b[0;32mand\u001b[0m \u001b[0mos\u001b[0m\u001b[0;34m.\u001b[0m\u001b[0mpath\u001b[0m\u001b[0;34m.\u001b[0m\u001b[0mexists\u001b[0m\u001b[0;34m(\u001b[0m\u001b[0mvalueStr\u001b[0m\u001b[0;34m)\u001b[0m\u001b[0;34m:\u001b[0m\u001b[0;34m\u001b[0m\u001b[0;34m\u001b[0m\u001b[0m\n\u001b[1;32m   1126\u001b[0m         return parseFile(valueStr, number=number, format=m21Format,\n\u001b[0;32m-> 1127\u001b[0;31m                          forceSource=forceSource, **keywords)\n\u001b[0m\u001b[1;32m   1128\u001b[0m     \u001b[0;32melif\u001b[0m \u001b[0;32mnot\u001b[0m \u001b[0misinstance\u001b[0m\u001b[0;34m(\u001b[0m\u001b[0mvalue\u001b[0m\u001b[0;34m,\u001b[0m \u001b[0mbytes\u001b[0m\u001b[0;34m)\u001b[0m \u001b[0;32mand\u001b[0m \u001b[0mos\u001b[0m\u001b[0;34m.\u001b[0m\u001b[0mpath\u001b[0m\u001b[0;34m.\u001b[0m\u001b[0mexists\u001b[0m\u001b[0;34m(\u001b[0m\u001b[0mcommon\u001b[0m\u001b[0;34m.\u001b[0m\u001b[0mcleanpath\u001b[0m\u001b[0;34m(\u001b[0m\u001b[0mvalueStr\u001b[0m\u001b[0;34m)\u001b[0m\u001b[0;34m)\u001b[0m\u001b[0;34m:\u001b[0m\u001b[0;34m\u001b[0m\u001b[0;34m\u001b[0m\u001b[0m\n\u001b[1;32m   1129\u001b[0m         return parseFile(common.cleanpath(valueStr), number=number, format=m21Format,\n",
      "\u001b[0;32m/usr/local/lib/python3.6/dist-packages/music21/converter/__init__.py\u001b[0m in \u001b[0;36mparseFile\u001b[0;34m(fp, number, format, forceSource, **keywords)\u001b[0m\n\u001b[1;32m   1005\u001b[0m     \u001b[0mv\u001b[0m \u001b[0;34m=\u001b[0m \u001b[0mConverter\u001b[0m\u001b[0;34m(\u001b[0m\u001b[0;34m)\u001b[0m\u001b[0;34m\u001b[0m\u001b[0;34m\u001b[0m\u001b[0m\n\u001b[1;32m   1006\u001b[0m     \u001b[0mfp\u001b[0m \u001b[0;34m=\u001b[0m \u001b[0mcommon\u001b[0m\u001b[0;34m.\u001b[0m\u001b[0mcleanpath\u001b[0m\u001b[0;34m(\u001b[0m\u001b[0mfp\u001b[0m\u001b[0;34m,\u001b[0m \u001b[0mreturnPathlib\u001b[0m\u001b[0;34m=\u001b[0m\u001b[0;32mTrue\u001b[0m\u001b[0;34m)\u001b[0m\u001b[0;34m\u001b[0m\u001b[0;34m\u001b[0m\u001b[0m\n\u001b[0;32m-> 1007\u001b[0;31m     \u001b[0mv\u001b[0m\u001b[0;34m.\u001b[0m\u001b[0mparseFile\u001b[0m\u001b[0;34m(\u001b[0m\u001b[0mfp\u001b[0m\u001b[0;34m,\u001b[0m \u001b[0mnumber\u001b[0m\u001b[0;34m=\u001b[0m\u001b[0mnumber\u001b[0m\u001b[0;34m,\u001b[0m \u001b[0mformat\u001b[0m\u001b[0;34m=\u001b[0m\u001b[0mformat\u001b[0m\u001b[0;34m,\u001b[0m \u001b[0mforceSource\u001b[0m\u001b[0;34m=\u001b[0m\u001b[0mforceSource\u001b[0m\u001b[0;34m,\u001b[0m \u001b[0;34m**\u001b[0m\u001b[0mkeywords\u001b[0m\u001b[0;34m)\u001b[0m\u001b[0;34m\u001b[0m\u001b[0;34m\u001b[0m\u001b[0m\n\u001b[0m\u001b[1;32m   1008\u001b[0m     \u001b[0;32mreturn\u001b[0m \u001b[0mv\u001b[0m\u001b[0;34m.\u001b[0m\u001b[0mstream\u001b[0m\u001b[0;34m\u001b[0m\u001b[0;34m\u001b[0m\u001b[0m\n\u001b[1;32m   1009\u001b[0m \u001b[0;34m\u001b[0m\u001b[0m\n",
      "\u001b[0;32m/usr/local/lib/python3.6/dist-packages/music21/converter/__init__.py\u001b[0m in \u001b[0;36mparseFile\u001b[0;34m(self, fp, number, format, forceSource, storePickle, **keywords)\u001b[0m\n\u001b[1;32m    540\u001b[0m         \u001b[0;32melse\u001b[0m\u001b[0;34m:\u001b[0m\u001b[0;34m\u001b[0m\u001b[0;34m\u001b[0m\u001b[0m\n\u001b[1;32m    541\u001b[0m             \u001b[0menvironLocal\u001b[0m\u001b[0;34m.\u001b[0m\u001b[0mprintDebug\u001b[0m\u001b[0;34m(\u001b[0m\u001b[0;34m\"Loading original version\"\u001b[0m\u001b[0;34m)\u001b[0m\u001b[0;34m\u001b[0m\u001b[0;34m\u001b[0m\u001b[0m\n\u001b[0;32m--> 542\u001b[0;31m             \u001b[0mself\u001b[0m\u001b[0;34m.\u001b[0m\u001b[0mparseFileNoPickle\u001b[0m\u001b[0;34m(\u001b[0m\u001b[0mfp\u001b[0m\u001b[0;34m,\u001b[0m \u001b[0mnumber\u001b[0m\u001b[0;34m,\u001b[0m \u001b[0mformat\u001b[0m\u001b[0;34m,\u001b[0m \u001b[0mforceSource\u001b[0m\u001b[0;34m,\u001b[0m \u001b[0;34m**\u001b[0m\u001b[0mkeywords\u001b[0m\u001b[0;34m)\u001b[0m\u001b[0;34m\u001b[0m\u001b[0;34m\u001b[0m\u001b[0m\n\u001b[0m\u001b[1;32m    543\u001b[0m             \u001b[0;32mif\u001b[0m \u001b[0mwritePickle\u001b[0m \u001b[0;32mis\u001b[0m \u001b[0;32mTrue\u001b[0m \u001b[0;32mand\u001b[0m \u001b[0mfpPickle\u001b[0m \u001b[0;32mis\u001b[0m \u001b[0;32mnot\u001b[0m \u001b[0;32mNone\u001b[0m \u001b[0;32mand\u001b[0m \u001b[0mstorePickle\u001b[0m \u001b[0;32mis\u001b[0m \u001b[0;32mTrue\u001b[0m\u001b[0;34m:\u001b[0m\u001b[0;34m\u001b[0m\u001b[0;34m\u001b[0m\u001b[0m\n\u001b[1;32m    544\u001b[0m                 \u001b[0;31m# save the stream to disk...\u001b[0m\u001b[0;34m\u001b[0m\u001b[0;34m\u001b[0m\u001b[0;34m\u001b[0m\u001b[0m\n",
      "\u001b[0;32m/usr/local/lib/python3.6/dist-packages/music21/converter/__init__.py\u001b[0m in \u001b[0;36mparseFileNoPickle\u001b[0;34m(self, fp, number, format, forceSource, **keywords)\u001b[0m\n\u001b[1;32m    475\u001b[0m         \u001b[0mself\u001b[0m\u001b[0;34m.\u001b[0m\u001b[0msubConverter\u001b[0m\u001b[0;34m.\u001b[0m\u001b[0mkeywords\u001b[0m \u001b[0;34m=\u001b[0m \u001b[0mkeywords\u001b[0m\u001b[0;34m\u001b[0m\u001b[0;34m\u001b[0m\u001b[0m\n\u001b[1;32m    476\u001b[0m         \u001b[0;32mtry\u001b[0m\u001b[0;34m:\u001b[0m\u001b[0;34m\u001b[0m\u001b[0;34m\u001b[0m\u001b[0m\n\u001b[0;32m--> 477\u001b[0;31m             \u001b[0mself\u001b[0m\u001b[0;34m.\u001b[0m\u001b[0msubConverter\u001b[0m\u001b[0;34m.\u001b[0m\u001b[0mparseFile\u001b[0m\u001b[0;34m(\u001b[0m\u001b[0mfp\u001b[0m\u001b[0;34m,\u001b[0m \u001b[0mnumber\u001b[0m\u001b[0;34m=\u001b[0m\u001b[0mnumber\u001b[0m\u001b[0;34m,\u001b[0m \u001b[0;34m**\u001b[0m\u001b[0mkeywords\u001b[0m\u001b[0;34m)\u001b[0m\u001b[0;34m\u001b[0m\u001b[0;34m\u001b[0m\u001b[0m\n\u001b[0m\u001b[1;32m    478\u001b[0m         \u001b[0;32mexcept\u001b[0m \u001b[0mNotImplementedError\u001b[0m\u001b[0;34m:\u001b[0m\u001b[0;34m\u001b[0m\u001b[0;34m\u001b[0m\u001b[0m\n\u001b[1;32m    479\u001b[0m             \u001b[0;32mraise\u001b[0m \u001b[0mConverterFileException\u001b[0m\u001b[0;34m(\u001b[0m\u001b[0;34m'File is not in a correct format: %s'\u001b[0m \u001b[0;34m%\u001b[0m \u001b[0mfp\u001b[0m\u001b[0;34m)\u001b[0m\u001b[0;34m\u001b[0m\u001b[0;34m\u001b[0m\u001b[0m\n",
      "\u001b[0;32m/usr/local/lib/python3.6/dist-packages/music21/converter/subConverters.py\u001b[0m in \u001b[0;36mparseFile\u001b[0;34m(self, fp, number, **keywords)\u001b[0m\n\u001b[1;32m    980\u001b[0m         '''\n\u001b[1;32m    981\u001b[0m         \u001b[0;32mfrom\u001b[0m \u001b[0mmusic21\u001b[0m\u001b[0;34m.\u001b[0m\u001b[0mmidi\u001b[0m \u001b[0;32mimport\u001b[0m \u001b[0mtranslate\u001b[0m \u001b[0;32mas\u001b[0m \u001b[0mmidiTranslate\u001b[0m\u001b[0;34m\u001b[0m\u001b[0;34m\u001b[0m\u001b[0m\n\u001b[0;32m--> 982\u001b[0;31m         \u001b[0mmidiTranslate\u001b[0m\u001b[0;34m.\u001b[0m\u001b[0mmidiFilePathToStream\u001b[0m\u001b[0;34m(\u001b[0m\u001b[0mfp\u001b[0m\u001b[0;34m,\u001b[0m \u001b[0mself\u001b[0m\u001b[0;34m.\u001b[0m\u001b[0mstream\u001b[0m\u001b[0;34m,\u001b[0m \u001b[0;34m**\u001b[0m\u001b[0mkeywords\u001b[0m\u001b[0;34m)\u001b[0m\u001b[0;34m\u001b[0m\u001b[0;34m\u001b[0m\u001b[0m\n\u001b[0m\u001b[1;32m    983\u001b[0m \u001b[0;34m\u001b[0m\u001b[0m\n\u001b[1;32m    984\u001b[0m     \u001b[0;32mdef\u001b[0m \u001b[0mwrite\u001b[0m\u001b[0;34m(\u001b[0m\u001b[0mself\u001b[0m\u001b[0;34m,\u001b[0m \u001b[0mobj\u001b[0m\u001b[0;34m,\u001b[0m \u001b[0mfmt\u001b[0m\u001b[0;34m,\u001b[0m \u001b[0mfp\u001b[0m\u001b[0;34m=\u001b[0m\u001b[0;32mNone\u001b[0m\u001b[0;34m,\u001b[0m \u001b[0msubformats\u001b[0m\u001b[0;34m=\u001b[0m\u001b[0;32mNone\u001b[0m\u001b[0;34m,\u001b[0m \u001b[0;34m**\u001b[0m\u001b[0mkeywords\u001b[0m\u001b[0;34m)\u001b[0m\u001b[0;34m:\u001b[0m \u001b[0;31m# pragma: no cover\u001b[0m\u001b[0;34m\u001b[0m\u001b[0;34m\u001b[0m\u001b[0m\n",
      "\u001b[0;32m/usr/local/lib/python3.6/dist-packages/music21/midi/translate.py\u001b[0m in \u001b[0;36mmidiFilePathToStream\u001b[0;34m(filePath, inputM21, **keywords)\u001b[0m\n\u001b[1;32m   1971\u001b[0m     \u001b[0mmf\u001b[0m \u001b[0;34m=\u001b[0m \u001b[0mmidiModule\u001b[0m\u001b[0;34m.\u001b[0m\u001b[0mMidiFile\u001b[0m\u001b[0;34m(\u001b[0m\u001b[0;34m)\u001b[0m\u001b[0;34m\u001b[0m\u001b[0;34m\u001b[0m\u001b[0m\n\u001b[1;32m   1972\u001b[0m     \u001b[0mmf\u001b[0m\u001b[0;34m.\u001b[0m\u001b[0mopen\u001b[0m\u001b[0;34m(\u001b[0m\u001b[0mfilePath\u001b[0m\u001b[0;34m)\u001b[0m\u001b[0;34m\u001b[0m\u001b[0;34m\u001b[0m\u001b[0m\n\u001b[0;32m-> 1973\u001b[0;31m     \u001b[0mmf\u001b[0m\u001b[0;34m.\u001b[0m\u001b[0mread\u001b[0m\u001b[0;34m(\u001b[0m\u001b[0;34m)\u001b[0m\u001b[0;34m\u001b[0m\u001b[0;34m\u001b[0m\u001b[0m\n\u001b[0m\u001b[1;32m   1974\u001b[0m     \u001b[0mmf\u001b[0m\u001b[0;34m.\u001b[0m\u001b[0mclose\u001b[0m\u001b[0;34m(\u001b[0m\u001b[0;34m)\u001b[0m\u001b[0;34m\u001b[0m\u001b[0;34m\u001b[0m\u001b[0m\n\u001b[1;32m   1975\u001b[0m     \u001b[0;32mreturn\u001b[0m \u001b[0mmidiFileToStream\u001b[0m\u001b[0;34m(\u001b[0m\u001b[0mmf\u001b[0m\u001b[0;34m,\u001b[0m \u001b[0minputM21\u001b[0m\u001b[0;34m,\u001b[0m \u001b[0;34m**\u001b[0m\u001b[0mkeywords\u001b[0m\u001b[0;34m)\u001b[0m\u001b[0;34m\u001b[0m\u001b[0;34m\u001b[0m\u001b[0m\n",
      "\u001b[0;32m/usr/local/lib/python3.6/dist-packages/music21/midi/__init__.py\u001b[0m in \u001b[0;36mread\u001b[0;34m(self)\u001b[0m\n\u001b[1;32m   1275\u001b[0m         \u001b[0mRead\u001b[0m \u001b[0;32mand\u001b[0m \u001b[0mparse\u001b[0m \u001b[0mMIDI\u001b[0m \u001b[0mdata\u001b[0m \u001b[0mstored\u001b[0m \u001b[0;32min\u001b[0m \u001b[0ma\u001b[0m \u001b[0mfile\u001b[0m\u001b[0;34m.\u001b[0m\u001b[0;34m\u001b[0m\u001b[0;34m\u001b[0m\u001b[0m\n\u001b[1;32m   1276\u001b[0m         '''\n\u001b[0;32m-> 1277\u001b[0;31m         \u001b[0mself\u001b[0m\u001b[0;34m.\u001b[0m\u001b[0mreadstr\u001b[0m\u001b[0;34m(\u001b[0m\u001b[0mself\u001b[0m\u001b[0;34m.\u001b[0m\u001b[0mfile\u001b[0m\u001b[0;34m.\u001b[0m\u001b[0mread\u001b[0m\u001b[0;34m(\u001b[0m\u001b[0;34m)\u001b[0m\u001b[0;34m)\u001b[0m\u001b[0;34m\u001b[0m\u001b[0;34m\u001b[0m\u001b[0m\n\u001b[0m\u001b[1;32m   1278\u001b[0m \u001b[0;34m\u001b[0m\u001b[0m\n\u001b[1;32m   1279\u001b[0m     \u001b[0;32mdef\u001b[0m \u001b[0mreadstr\u001b[0m\u001b[0;34m(\u001b[0m\u001b[0mself\u001b[0m\u001b[0;34m,\u001b[0m \u001b[0mmidiStr\u001b[0m\u001b[0;34m)\u001b[0m\u001b[0;34m:\u001b[0m\u001b[0;34m\u001b[0m\u001b[0;34m\u001b[0m\u001b[0m\n",
      "\u001b[0;32m/usr/local/lib/python3.6/dist-packages/music21/midi/__init__.py\u001b[0m in \u001b[0;36mreadstr\u001b[0;34m(self, midiStr)\u001b[0m\n\u001b[1;32m   1307\u001b[0m             \u001b[0mticksPerFrame\u001b[0m \u001b[0;34m=\u001b[0m \u001b[0mdivision\u001b[0m \u001b[0;34m&\u001b[0m \u001b[0;36m0xFF\u001b[0m\u001b[0;34m\u001b[0m\u001b[0;34m\u001b[0m\u001b[0m\n\u001b[1;32m   1308\u001b[0m             \u001b[0;32mif\u001b[0m \u001b[0mticksPerFrame\u001b[0m \u001b[0;32mnot\u001b[0m \u001b[0;32min\u001b[0m \u001b[0;34m[\u001b[0m\u001b[0;36m24\u001b[0m\u001b[0;34m,\u001b[0m \u001b[0;36m25\u001b[0m\u001b[0;34m,\u001b[0m \u001b[0;36m29\u001b[0m\u001b[0;34m,\u001b[0m \u001b[0;36m30\u001b[0m\u001b[0;34m]\u001b[0m\u001b[0;34m:\u001b[0m\u001b[0;34m\u001b[0m\u001b[0;34m\u001b[0m\u001b[0m\n\u001b[0;32m-> 1309\u001b[0;31m                 \u001b[0;32mraise\u001b[0m \u001b[0mMidiException\u001b[0m\u001b[0;34m(\u001b[0m\u001b[0;34m'cannot handle ticks per frame: %s'\u001b[0m \u001b[0;34m%\u001b[0m \u001b[0mticksPerFrame\u001b[0m\u001b[0;34m)\u001b[0m\u001b[0;34m\u001b[0m\u001b[0;34m\u001b[0m\u001b[0m\n\u001b[0m\u001b[1;32m   1310\u001b[0m             \u001b[0;32mif\u001b[0m \u001b[0mticksPerFrame\u001b[0m \u001b[0;34m==\u001b[0m \u001b[0;36m29\u001b[0m\u001b[0;34m:\u001b[0m\u001b[0;34m\u001b[0m\u001b[0;34m\u001b[0m\u001b[0m\n\u001b[1;32m   1311\u001b[0m                 \u001b[0mticksPerFrame\u001b[0m \u001b[0;34m=\u001b[0m \u001b[0;36m30\u001b[0m  \u001b[0;31m# drop frame\u001b[0m\u001b[0;34m\u001b[0m\u001b[0;34m\u001b[0m\u001b[0m\n",
      "\u001b[0;31mMidiException\u001b[0m: cannot handle ticks per frame: 144"
     ]
    }
   ],
   "source": [
    "midi=converter.parse('/content/gdrive/My Drive/MusicRep/weimar_jazz/ChrisPotter_InASentimentalMood_FINAL.mid')"
   ]
  },
  {
   "cell_type": "code",
   "execution_count": null,
   "metadata": {
    "colab": {
     "base_uri": "https://localhost:8080/",
     "height": 1000
    },
    "colab_type": "code",
    "id": "yG29zuwmlhAs",
    "outputId": "9b219020-999a-49fd-f146-4fda477f994b"
   },
   "outputs": [
    {
     "name": "stdout",
     "output_type": "stream",
     "text": [
      "Parsing /content/gdrive/My Drive/MusicRep/weimar_jazz/ArtPepper_Anthropology_FINAL.mid\n",
      "Parsed 1 files\n",
      "Parsing /content/gdrive/My Drive/MusicRep/weimar_jazz/ArtPepper_BluesForBlanche_FINAL.mid\n",
      "Parsed 2 files\n",
      "Parsing /content/gdrive/My Drive/MusicRep/weimar_jazz/ArtPepper_Desafinado_FINAL.mid\n",
      "Parsed 3 files\n",
      "Parsing /content/gdrive/My Drive/MusicRep/weimar_jazz/BennyGoodman_HandfulOfKeys_FINAL.mid\n",
      "Parsed 4 files\n",
      "Parsing /content/gdrive/My Drive/MusicRep/weimar_jazz/BennyGoodman_Avalon_FINAL.mid\n",
      "Parsed 5 files\n",
      "Parsing /content/gdrive/My Drive/MusicRep/weimar_jazz/BennyGoodman_Whispering_FINAL.mid\n",
      "Parsed 6 files\n",
      "Parsing /content/gdrive/My Drive/MusicRep/weimar_jazz/BennyCarter_SweetLorraine_FINAL.mid\n",
      "Parsed 7 files\n",
      "Parsing /content/gdrive/My Drive/MusicRep/weimar_jazz/ArtPepper_Stardust-1_FINAL.mid\n",
      "Parsed 8 files\n",
      "Parsing /content/gdrive/My Drive/MusicRep/weimar_jazz/BennyCarter_It'sAWonderfulWorld-2_FINAL.mid\n",
      "Parsed 9 files\n",
      "Parsing /content/gdrive/My Drive/MusicRep/weimar_jazz/BenWebster_ByeByeBlackbird_FINAL.mid\n",
      "Parsed 10 files\n",
      "Parsing /content/gdrive/My Drive/MusicRep/weimar_jazz/BennyCarter_LongAgoAndFarAway-2_FINAL.mid\n",
      "Parsed 11 files\n",
      "Parsing /content/gdrive/My Drive/MusicRep/weimar_jazz/BenWebster_WhereOrWhen_FINAL.mid\n",
      "Parsed 12 files\n",
      "Parsing /content/gdrive/My Drive/MusicRep/weimar_jazz/BennyCarter_JustFriends_FINAL.mid\n",
      "Parsed 13 files\n",
      "Parsing /content/gdrive/My Drive/MusicRep/weimar_jazz/ArtPepper_InAMellowTone_FINAL.mid\n",
      "Parsed 14 files\n",
      "Parsing /content/gdrive/My Drive/MusicRep/weimar_jazz/BixBeiderbecke_Margie_FINAL.mid\n",
      "Parsed 15 files\n",
      "Parsing /content/gdrive/My Drive/MusicRep/weimar_jazz/BennyGoodman_Nobody'sSweetheart_FINAL.mid\n",
      "Parsed 16 files\n",
      "Parsing /content/gdrive/My Drive/MusicRep/weimar_jazz/ArtPepper_Stardust-2_FINAL.mid\n",
      "Parsed 17 files\n",
      "Parsing /content/gdrive/My Drive/MusicRep/weimar_jazz/BennyCarter_LongAgoAndFarAway-1_FINAL.mid\n",
      "Parsed 18 files\n",
      "Parsing /content/gdrive/My Drive/MusicRep/weimar_jazz/BenWebster_DidYouCallHerToday_FINAL.mid\n",
      "Parsed 19 files\n",
      "Parsing /content/gdrive/My Drive/MusicRep/weimar_jazz/BennyGoodman_Runnin'Wild_FINAL.mid\n",
      "Parsed 20 files\n",
      "Parsing /content/gdrive/My Drive/MusicRep/weimar_jazz/BennyCarter_It'sAWonderfulWorld-1_FINAL.mid\n",
      "Parsed 21 files\n",
      "Parsing /content/gdrive/My Drive/MusicRep/weimar_jazz/BennyGoodman_TigerRag-1_FINAL.mid\n",
      "Parsed 22 files\n",
      "Parsing /content/gdrive/My Drive/MusicRep/weimar_jazz/BenWebster_NightAndDay_FINAL.mid\n",
      "Parsed 23 files\n",
      "Parsing /content/gdrive/My Drive/MusicRep/weimar_jazz/BenWebster_MyIdeal_FINAL.mid\n",
      "Parsed 24 files\n",
      "Parsing /content/gdrive/My Drive/MusicRep/weimar_jazz/BennyGoodman_TigerRag-2_FINAL.mid\n",
      "Parsed 25 files\n",
      "Parsing /content/gdrive/My Drive/MusicRep/weimar_jazz/BixBeiderbecke_I'mComingVirginia_FINAL.mid\n",
      "Parsed 26 files\n",
      "Parsing /content/gdrive/My Drive/MusicRep/weimar_jazz/BennyCarter_IGotItBad_FINAL.mid\n",
      "Parsed 27 files\n",
      "Parsing /content/gdrive/My Drive/MusicRep/weimar_jazz/CannonballAdderley_WorkSong_FINAL.mid\n",
      "Parsed 28 files\n",
      "Parsing /content/gdrive/My Drive/MusicRep/weimar_jazz/CannonballAdderley_StarEyes_FINAL.mid\n",
      "Parsed 29 files\n",
      "Parsing /content/gdrive/My Drive/MusicRep/weimar_jazz/BobBerg_SecondSight_FINAL.mid\n",
      "Parsed 30 files\n",
      "Parsing /content/gdrive/My Drive/MusicRep/weimar_jazz/BobBerg_NatureOfTheBeast_FINAL.mid\n",
      "Parsed 31 files\n",
      "Parsing /content/gdrive/My Drive/MusicRep/weimar_jazz/CannonballAdderley_SoWhat_FINAL.mid\n",
      "Parsed 32 files\n",
      "Parsing /content/gdrive/My Drive/MusicRep/weimar_jazz/CannonballAdderley_ThisHere_FINAL.mid\n",
      "Parsed 33 files\n",
      "Parsing /content/gdrive/My Drive/MusicRep/weimar_jazz/BranfordMarsalis_TheNearnessOfYou_FINAL.mid\n",
      "Parsed 34 files\n",
      "Parsing /content/gdrive/My Drive/MusicRep/weimar_jazz/BobBerg_BluesForBela_FINAL.mid\n",
      "Parsed 35 files\n",
      "Parsing /content/gdrive/My Drive/MusicRep/weimar_jazz/BuckClayton_Dickie'sDream_FINAL.mid\n",
      "Parsed 36 files\n",
      "Parsing /content/gdrive/My Drive/MusicRep/weimar_jazz/CharlieParker_Billie'sBounce_FINAL.mid\n",
      "Parsed 37 files\n",
      "Parsing /content/gdrive/My Drive/MusicRep/weimar_jazz/BixBeiderbecke_RoyalGardenBlues_FINAL.mid\n",
      "Parsed 38 files\n",
      "Parsing /content/gdrive/My Drive/MusicRep/weimar_jazz/BranfordMarsalis_UMMG_FINAL.mid\n",
      "Parsed 39 files\n",
      "Parsing /content/gdrive/My Drive/MusicRep/weimar_jazz/BobBerg_YouAndTheNightAndTheMusic_FINAL.mid\n",
      "Parsed 40 files\n",
      "Parsing /content/gdrive/My Drive/MusicRep/weimar_jazz/BixBeiderbecke_RiverboatShuffle_FINAL.mid\n",
      "Parsed 41 files\n",
      "Parsing /content/gdrive/My Drive/MusicRep/weimar_jazz/BobBerg_NoMoe_FINAL.mid\n",
      "Parsed 42 files\n",
      "Parsing /content/gdrive/My Drive/MusicRep/weimar_jazz/BranfordMarsalis_ThreeLittleWords_FINAL.mid\n",
      "Parsed 43 files\n",
      "Parsing /content/gdrive/My Drive/MusicRep/weimar_jazz/BranfordMarsalis_GutBucketSteepy_FINAL.mid\n",
      "Parsed 44 files\n",
      "Parsing /content/gdrive/My Drive/MusicRep/weimar_jazz/BranfordMarsalis_HousedFromEdward-2_FINAL.mid\n",
      "Parsed 45 files\n",
      "Parsing /content/gdrive/My Drive/MusicRep/weimar_jazz/CannonballAdderley_HighFly_FINAL.mid\n",
      "Parsed 46 files\n",
      "Parsing /content/gdrive/My Drive/MusicRep/weimar_jazz/BuckClayton_DestinationK.C._FINAL.mid\n",
      "Parsed 47 files\n",
      "Parsing /content/gdrive/My Drive/MusicRep/weimar_jazz/BobBerg_IDidn'tKnowWhatTimeItWas_FINAL.mid\n",
      "Parsed 48 files\n",
      "Parsing /content/gdrive/My Drive/MusicRep/weimar_jazz/BuckClayton_AfterTheatreJump_FINAL.mid\n",
      "Parsed 49 files\n",
      "Parsing /content/gdrive/My Drive/MusicRep/weimar_jazz/BixBeiderbecke_SinginTheBlues_FINAL.mid\n",
      "Parsed 50 files\n",
      "Parsing /content/gdrive/My Drive/MusicRep/weimar_jazz/BranfordMarsalis_HousedFromEdward-1_FINAL.mid\n",
      "Parsed 51 files\n",
      "Parsing /content/gdrive/My Drive/MusicRep/weimar_jazz/BobBerg_Angles_FINAL.mid\n",
      "Parsed 52 files\n",
      "Parsing /content/gdrive/My Drive/MusicRep/weimar_jazz/CharlieParker_ScrappleFromTheApple_FINAL.mid\n",
      "Parsed 53 files\n",
      "Parsing /content/gdrive/My Drive/MusicRep/weimar_jazz/ChetBaker_Two'sBlues_FINAL.mid\n",
      "Parsed 54 files\n",
      "Parsing /content/gdrive/My Drive/MusicRep/weimar_jazz/CharlieParker_HowDeepIsTheOcean_FINAL.mid\n",
      "Parsed 55 files\n",
      "Parsing /content/gdrive/My Drive/MusicRep/weimar_jazz/ChetBaker_ThereWillNeverBeAnotherYou-1_FINAL.mid\n",
      "Parsed 56 files\n",
      "Parsing /content/gdrive/My Drive/MusicRep/weimar_jazz/CharlieParker_Segment_FINAL.mid\n",
      "Parsed 57 files\n",
      "Parsing /content/gdrive/My Drive/MusicRep/weimar_jazz/CharlieParker_OutOfNowhere_FINAL.mid\n",
      "Parsed 58 files\n",
      "Parsing /content/gdrive/My Drive/MusicRep/weimar_jazz/CharlieParker_DonnaLee_FINAL.mid\n",
      "Parsed 59 files\n",
      "Parsing /content/gdrive/My Drive/MusicRep/weimar_jazz/CharlieParker_ThrivingOnARiff_FINAL.mid\n",
      "Parsed 60 files\n",
      "Parsing /content/gdrive/My Drive/MusicRep/weimar_jazz/CharlieParker_StarEyes_FINAL.mid\n",
      "Parsed 61 files\n",
      "Parsing /content/gdrive/My Drive/MusicRep/weimar_jazz/ChetBaker_JustFriends_FINAL.mid\n",
      "Parsed 62 files\n",
      "Parsing /content/gdrive/My Drive/MusicRep/weimar_jazz/ChetBaker_IFallInLoveTooEasily_FINAL.mid\n",
      "Parsed 63 files\n",
      "Parsing /content/gdrive/My Drive/MusicRep/weimar_jazz/CharlieParker_Ornithology_FINAL.mid\n",
      "Parsed 64 files\n",
      "Parsing /content/gdrive/My Drive/MusicRep/weimar_jazz/CharlieParker_Ko=Ko_FINAL.mid\n",
      "Parsed 65 files\n",
      "Parsing /content/gdrive/My Drive/MusicRep/weimar_jazz/CharlieParker_Don'tBlameMe_FINAL.mid\n",
      "Parsed 66 files\n",
      "Parsing /content/gdrive/My Drive/MusicRep/weimar_jazz/CharlieParker_MyLittleSuedeShoes_FINAL.mid\n",
      "Parsed 67 files\n",
      "Parsing /content/gdrive/My Drive/MusicRep/weimar_jazz/ChetBaker_Let'sGetLost_FINAL.mid\n",
      "Parsed 68 files\n",
      "Parsing /content/gdrive/My Drive/MusicRep/weimar_jazz/CharlieParker_Steeplechase_FINAL.mid\n",
      "Parsed 69 files\n",
      "Parsing /content/gdrive/My Drive/MusicRep/weimar_jazz/ChetBaker_You'dBeSoNiceToComeHomeTo_FINAL.mid\n",
      "Parsed 70 files\n",
      "Parsing /content/gdrive/My Drive/MusicRep/weimar_jazz/CharlieParker_BluesForAlice_FINAL.mid\n",
      "Parsed 71 files\n",
      "Parsing /content/gdrive/My Drive/MusicRep/weimar_jazz/ChetBaker_LongAgoAndFarAway_FINAL.mid\n",
      "Parsed 72 files\n",
      "Parsing /content/gdrive/My Drive/MusicRep/weimar_jazz/CharlieParker_K.C.Blues_FINAL.mid\n",
      "Parsed 73 files\n",
      "Parsing /content/gdrive/My Drive/MusicRep/weimar_jazz/CharlieShavers_LimehouseBlues_FINAL.mid\n",
      "Parsed 74 files\n",
      "Parsing /content/gdrive/My Drive/MusicRep/weimar_jazz/CharlieParker_EmbraceableYou_FINAL.mid\n",
      "Parsed 75 files\n",
      "Parsing /content/gdrive/My Drive/MusicRep/weimar_jazz/CharlieParker_YardbirdSuite_FINAL.mid\n",
      "Parsed 76 files\n",
      "Parsing /content/gdrive/My Drive/MusicRep/weimar_jazz/ChetBaker_ThereWillNeverBeAnotherYou-2_FINAL.mid\n",
      "Parsed 77 files\n",
      "Parsing /content/gdrive/My Drive/MusicRep/weimar_jazz/CliffordBrown_JoySpring_FINAL.mid\n",
      "Parsed 78 files\n",
      "Parsing /content/gdrive/My Drive/MusicRep/weimar_jazz/ChrisPotter_PopTune#1_FINAL.mid\n",
      "Parsed 79 files\n",
      "Parsing /content/gdrive/My Drive/MusicRep/weimar_jazz/CliffordBrown_George'sDilemma_FINAL.mid\n",
      "Parsed 80 files\n",
      "Parsing /content/gdrive/My Drive/MusicRep/weimar_jazz/ColemanHawkins_It'sOnlyAPapermoon_FINAL.mid\n",
      "Parsed 81 files\n",
      "Parsing /content/gdrive/My Drive/MusicRep/weimar_jazz/CliffordBrown_Stompin'AtTheSavoy_FINAL.mid\n",
      "Parsed 82 files\n",
      "Parsing /content/gdrive/My Drive/MusicRep/weimar_jazz/ChuBerry_BodyAndSoul-1_FINAL.mid\n",
      "Parsed 83 files\n",
      "Parsing /content/gdrive/My Drive/MusicRep/weimar_jazz/ChrisPotter_InASentimentalMood_FINAL.mid\n",
      "Parsing /content/gdrive/My Drive/MusicRep/weimar_jazz/CliffordBrown_ANightInTunisia_FINAL.mid\n",
      "Parsed 84 files\n",
      "Parsing /content/gdrive/My Drive/MusicRep/weimar_jazz/ColemanHawkins_MyBlueHeaven_FINAL.mid\n",
      "Parsed 85 files\n",
      "Parsing /content/gdrive/My Drive/MusicRep/weimar_jazz/ColemanHawkins_Perdido_FINAL.mid\n",
      "Parsed 86 files\n",
      "Parsing /content/gdrive/My Drive/MusicRep/weimar_jazz/CliffordBrown_Sandu_FINAL.mid\n",
      "Parsed 87 files\n",
      "Parsing /content/gdrive/My Drive/MusicRep/weimar_jazz/ChrisPotter_Togo_FINAL.mid\n",
      "Parsed 88 files\n",
      "Parsing /content/gdrive/My Drive/MusicRep/weimar_jazz/ChrisPotter_Item1,D.I.T._FINAL.mid\n",
      "Parsed 89 files\n",
      "Parsing /content/gdrive/My Drive/MusicRep/weimar_jazz/CliffordBrown_I'llRememberApril_AlternateTake2_FINAL.mid\n",
      "Parsed 90 files\n",
      "Parsing /content/gdrive/My Drive/MusicRep/weimar_jazz/ChrisPotter_Rumples_FINAL.mid\n",
      "Parsed 91 files\n",
      "Parsing /content/gdrive/My Drive/MusicRep/weimar_jazz/CurtisFuller_DownUnder_FINAL.mid\n",
      "Parsed 92 files\n",
      "Parsing /content/gdrive/My Drive/MusicRep/weimar_jazz/CurtisFuller_BlueTrain_FINAL.mid\n",
      "Parsed 93 files\n",
      "Parsing /content/gdrive/My Drive/MusicRep/weimar_jazz/ChrisPotter_Arjuna_FINAL.mid\n",
      "Parsed 94 files\n",
      "Parsing /content/gdrive/My Drive/MusicRep/weimar_jazz/ChrisPotter_Anthropology_FINAL.mid\n",
      "Parsed 95 files\n",
      "Parsing /content/gdrive/My Drive/MusicRep/weimar_jazz/ColemanHawkins_Stompin'AtTheSavoy_FINAL.mid\n",
      "Parsed 96 files\n",
      "Parsing /content/gdrive/My Drive/MusicRep/weimar_jazz/CliffordBrown_Jordu_FINAL.mid\n",
      "Parsed 97 files\n",
      "Parsing /content/gdrive/My Drive/MusicRep/weimar_jazz/ColemanHawkins_SophisticatedLady_FINAL.mid\n",
      "Parsed 98 files\n",
      "Parsing /content/gdrive/My Drive/MusicRep/weimar_jazz/ChuBerry_BodyAndSoul-2_FINAL.mid\n",
      "Parsed 99 files\n",
      "Parsing /content/gdrive/My Drive/MusicRep/weimar_jazz/CliffordBrown_Daahoud_FINAL.mid\n",
      "Parsed 100 files\n",
      "Parsing /content/gdrive/My Drive/MusicRep/weimar_jazz/CliffordBrown_I'llRememberApril_FINAL.mid\n",
      "Parsed 101 files\n",
      "Parsing /content/gdrive/My Drive/MusicRep/weimar_jazz/ColemanHawkins_BodyAndSoul_FINAL.mid\n",
      "Parsed 102 files\n",
      "Parsing /content/gdrive/My Drive/MusicRep/weimar_jazz/DavidLiebman_Pendulum_FINAL.mid\n",
      "Parsed 103 files\n",
      "Parsing /content/gdrive/My Drive/MusicRep/weimar_jazz/DexterGordon_SocietyRed_FINAL.mid\n",
      "Parsed 104 files\n",
      "Parsing /content/gdrive/My Drive/MusicRep/weimar_jazz/DavidLiebman_Pablo'sStory_FINAL.mid\n",
      "Parsed 105 files\n",
      "Parsing /content/gdrive/My Drive/MusicRep/weimar_jazz/DavidLiebman_BeginTheBeguine_FINAL.mid\n",
      "Parsed 106 files\n",
      "Parsing /content/gdrive/My Drive/MusicRep/weimar_jazz/DavidMurray_BodyAndSoul-1_FINAL.mid\n",
      "Parsed 107 files\n",
      "Parsing /content/gdrive/My Drive/MusicRep/weimar_jazz/DexterGordon_Montmartre_FINAL.mid\n",
      "Parsed 108 files\n",
      "Parsing /content/gdrive/My Drive/MusicRep/weimar_jazz/DickieWells_AfterTheatreJump_FINAL.mid\n",
      "Parsed 109 files\n",
      "Parsing /content/gdrive/My Drive/MusicRep/weimar_jazz/DavidLiebman_I'veGotYouUnderMySkin_FINAL.mid\n",
      "Parsed 110 files\n",
      "Parsing /content/gdrive/My Drive/MusicRep/weimar_jazz/DavidLiebman_Milestones_FINAL.mid\n",
      "Parsed 111 files\n",
      "Parsing /content/gdrive/My Drive/MusicRep/weimar_jazz/DexterGordon_Dextivity_FINAL.mid\n",
      "Parsed 112 files\n",
      "Parsing /content/gdrive/My Drive/MusicRep/weimar_jazz/DexterGordon_TheRainbowPeople_FINAL.mid\n",
      "Parsed 113 files\n",
      "Parsing /content/gdrive/My Drive/MusicRep/weimar_jazz/DickieWells_DestinationK.C._FINAL.mid\n",
      "Parsed 114 files\n",
      "Parsing /content/gdrive/My Drive/MusicRep/weimar_jazz/DexterGordon_Cheesecake_FINAL.mid\n",
      "Parsed 115 files\n",
      "Parsing /content/gdrive/My Drive/MusicRep/weimar_jazz/DavidLiebman_NoGreaterLove_FINAL.mid\n",
      "Parsed 116 files\n",
      "Parsing /content/gdrive/My Drive/MusicRep/weimar_jazz/DavidMurray_BluesForTwo-2_FINAL.mid\n",
      "Parsed 117 files\n",
      "Parsing /content/gdrive/My Drive/MusicRep/weimar_jazz/DavidLiebman_SecretLove_FINAL.mid\n",
      "Parsed 118 files\n",
      "Parsing /content/gdrive/My Drive/MusicRep/weimar_jazz/DavidMurray_BodyAndSoul-2_FINAL.mid\n",
      "Parsed 119 files\n",
      "Parsing /content/gdrive/My Drive/MusicRep/weimar_jazz/DickieWells_Dickie'sDream_FINAL.mid\n",
      "Parsed 120 files\n",
      "Parsing /content/gdrive/My Drive/MusicRep/weimar_jazz/DavidMurray_ChelseaBridge_FINAL.mid\n",
      "Parsing /content/gdrive/My Drive/MusicRep/weimar_jazz/DavidLiebman_Day&Nite_FINAL.mid\n",
      "Parsed 121 files\n",
      "Parsing /content/gdrive/My Drive/MusicRep/weimar_jazz/DavidMurray_AskMeNow_FINAL.mid\n",
      "Parsed 122 files\n",
      "Parsing /content/gdrive/My Drive/MusicRep/weimar_jazz/DavidLiebman_Nica'sDream_FINAL.mid\n",
      "Parsed 123 files\n",
      "Parsing /content/gdrive/My Drive/MusicRep/weimar_jazz/DexterGordon_StanleyTheSteamer_FINAL.mid\n",
      "Parsed 124 files\n",
      "Parsing /content/gdrive/My Drive/MusicRep/weimar_jazz/DavidLiebman_SoftlyAsInAMorningSunrise_FINAL.mid\n",
      "Parsed 125 files\n",
      "Parsing /content/gdrive/My Drive/MusicRep/weimar_jazz/DavidMurray_BluesForTwo-1_FINAL.mid\n",
      "Parsed 126 files\n",
      "Parsing /content/gdrive/My Drive/MusicRep/weimar_jazz/DavidLiebman_ThereWillNeverBeAnotherYou_FINAL.mid\n",
      "Parsed 127 files\n",
      "Parsing /content/gdrive/My Drive/MusicRep/weimar_jazz/DonByas_CognacBlues_FINAL.mid\n",
      "Parsed 128 files\n",
      "Parsing /content/gdrive/My Drive/MusicRep/weimar_jazz/DickieWells_SixCatsAndAPrince_FINAL.mid\n",
      "Parsed 129 files\n",
      "Parsing /content/gdrive/My Drive/MusicRep/weimar_jazz/DickieWells_IGotRhythm_FINAL.mid\n",
      "Parsed 130 files\n",
      "Parsing /content/gdrive/My Drive/MusicRep/weimar_jazz/DizzyGillespie_Groovin'High_FINAL.mid\n",
      "Parsed 131 files\n",
      "Parsing /content/gdrive/My Drive/MusicRep/weimar_jazz/DonEllis_ILoveYou_FINAL.mid\n",
      "Parsed 132 files\n",
      "Parsing /content/gdrive/My Drive/MusicRep/weimar_jazz/DonEllis_JohnnyComeLately_FINAL.mid\n",
      "Parsed 133 files\n",
      "Parsing /content/gdrive/My Drive/MusicRep/weimar_jazz/DickieWells_Jo=Jo_FINAL.mid\n",
      "Parsed 134 files\n",
      "Parsing /content/gdrive/My Drive/MusicRep/weimar_jazz/DizzyGillespie_HotHouse_FINAL.mid\n",
      "Parsed 135 files\n",
      "Parsing /content/gdrive/My Drive/MusicRep/weimar_jazz/DizzyGillespie_Blue'nBoogie_FINAL.mid\n",
      "Parsed 136 files\n",
      "Parsing /content/gdrive/My Drive/MusicRep/weimar_jazz/DonByas_OutOfNowhere_FINAL.mid\n",
      "Parsed 137 files\n",
      "Parsing /content/gdrive/My Drive/MusicRep/weimar_jazz/DonByas_HarvardBlues-2_FINAL.mid\n",
      "Parsed 138 files\n",
      "Parsing /content/gdrive/My Drive/MusicRep/weimar_jazz/EricDolphy_245_FINAL.mid\n",
      "Parsed 139 files\n",
      "Parsing /content/gdrive/My Drive/MusicRep/weimar_jazz/DonEllis_YouSteppedOutOfADream-1_FINAL.mid\n",
      "Parsed 140 files\n",
      "Parsing /content/gdrive/My Drive/MusicRep/weimar_jazz/DonEllis_SweetAndLovely_FINAL.mid\n",
      "Parsed 141 files\n",
      "Parsing /content/gdrive/My Drive/MusicRep/weimar_jazz/EricDolphy_Aisha_FINAL.mid\n",
      "Parsed 142 files\n",
      "Parsing /content/gdrive/My Drive/MusicRep/weimar_jazz/DonByas_Be=Bop_FINAL.mid\n",
      "Parsed 143 files\n",
      "Parsing /content/gdrive/My Drive/MusicRep/weimar_jazz/DizzyGillespie_Anthropology_FINAL.mid\n",
      "Parsed 144 files\n",
      "Parsing /content/gdrive/My Drive/MusicRep/weimar_jazz/DizzyGillespie_Be=Bop_FINAL.mid\n",
      "Parsed 145 files\n",
      "Parsing /content/gdrive/My Drive/MusicRep/weimar_jazz/DonByas_Infidele(Cry)_FINAL.mid\n",
      "Parsed 146 files\n",
      "Parsing /content/gdrive/My Drive/MusicRep/weimar_jazz/DonByas_HarvardBlues-1_FINAL.mid\n",
      "Parsed 147 files\n",
      "Parsing /content/gdrive/My Drive/MusicRep/weimar_jazz/DonEllis_YouSteppedOutOfADream-2_FINAL.mid\n",
      "Parsed 148 files\n",
      "Parsing /content/gdrive/My Drive/MusicRep/weimar_jazz/DonEllis_OutOfNowhere_FINAL.mid\n",
      "Parsed 149 files\n",
      "Parsing /content/gdrive/My Drive/MusicRep/weimar_jazz/EricDolphy_DahomeyDance_FINAL.mid\n",
      "Parsed 150 files\n",
      "Parsing /content/gdrive/My Drive/MusicRep/weimar_jazz/DizzyGillespie_CognacBlues_FINAL.mid\n",
      "Parsed 151 files\n",
      "Parsing /content/gdrive/My Drive/MusicRep/weimar_jazz/DonByas_BodyAndSoul_FINAL.mid\n",
      "Parsed 152 files\n",
      "Parsing /content/gdrive/My Drive/MusicRep/weimar_jazz/DonByas_UnAmourPleurait_FINAL.mid\n",
      "Parsed 153 files\n",
      "Parsing /content/gdrive/My Drive/MusicRep/weimar_jazz/FreddieHubbard_MaidenVoyage_FINAL.mid\n",
      "Parsed 154 files\n",
      "Parsing /content/gdrive/My Drive/MusicRep/weimar_jazz/GerryMulligan_LineForLyons_FINAL.mid\n",
      "Parsed 155 files\n",
      "Parsing /content/gdrive/My Drive/MusicRep/weimar_jazz/GerryMulligan_TheRedDoor_FINAL.mid\n",
      "Parsed 156 files\n",
      "Parsing /content/gdrive/My Drive/MusicRep/weimar_jazz/EricDolphy_OnGreenDolphinStreet_FINAL.mid\n",
      "Parsed 157 files\n",
      "Parsing /content/gdrive/My Drive/MusicRep/weimar_jazz/FatsNavarro_Anthropology_No1_FINAL.mid\n",
      "Parsed 158 files\n",
      "Parsing /content/gdrive/My Drive/MusicRep/weimar_jazz/HankMobley_Doodlin'_FINAL.mid\n",
      "Parsed 159 files\n",
      "Parsing /content/gdrive/My Drive/MusicRep/weimar_jazz/FreddieHubbard_DownUnder_FINAL.mid\n",
      "Parsed 160 files\n",
      "Parsing /content/gdrive/My Drive/MusicRep/weimar_jazz/GeorgeColeman_MaidenVoyage_FINAL.mid\n",
      "Parsed 161 files\n",
      "Parsing /content/gdrive/My Drive/MusicRep/weimar_jazz/FreddieHubbard_SocietyRed_FINAL.mid\n",
      "Parsed 162 files\n",
      "Parsing /content/gdrive/My Drive/MusicRep/weimar_jazz/GerryMulligan_Bunny_FINAL.mid\n",
      "Parsed 163 files\n",
      "Parsing /content/gdrive/My Drive/MusicRep/weimar_jazz/EricDolphy_Serene_FINAL.mid\n",
      "Parsing /content/gdrive/My Drive/MusicRep/weimar_jazz/EricDolphy_Les_FINAL.mid\n",
      "Parsed 164 files\n",
      "Parsing /content/gdrive/My Drive/MusicRep/weimar_jazz/FreddieHubbard_SpeakNoEvil_FINAL.mid\n",
      "Parsed 165 files\n",
      "Parsing /content/gdrive/My Drive/MusicRep/weimar_jazz/FatsNavarro_OurDelight_FINAL.mid\n",
      "Parsed 166 files\n",
      "Parsing /content/gdrive/My Drive/MusicRep/weimar_jazz/FatsNavarro_TheSkunk_FINAL.mid\n",
      "Parsed 167 files\n",
      "Parsing /content/gdrive/My Drive/MusicRep/weimar_jazz/HankMobley_LadyBird_FINAL.mid\n",
      "Parsed 168 files\n",
      "Parsing /content/gdrive/My Drive/MusicRep/weimar_jazz/GerryMulligan_ScrappleFromTheApple_FINAL.mid\n",
      "Parsed 169 files\n",
      "Parsing /content/gdrive/My Drive/MusicRep/weimar_jazz/HankMobley_Remember_FINAL.mid\n",
      "Parsed 170 files\n",
      "Parsing /content/gdrive/My Drive/MusicRep/weimar_jazz/FatsNavarro_DoubleTalk_FINAL.mid\n",
      "Parsed 171 files\n",
      "Parsing /content/gdrive/My Drive/MusicRep/weimar_jazz/FreddieHubbard_245_FINAL.mid\n",
      "Parsed 172 files\n",
      "Parsing /content/gdrive/My Drive/MusicRep/weimar_jazz/GerryMulligan_ThisCan'tBeLove_FINAL.mid\n",
      "Parsed 173 files\n",
      "Parsing /content/gdrive/My Drive/MusicRep/weimar_jazz/FreddieHubbard_DolphinDance_FINAL.mid\n",
      "Parsed 174 files\n",
      "Parsing /content/gdrive/My Drive/MusicRep/weimar_jazz/FatsNavarro_GoodBait_AlternateTake_FINAL.mid\n",
      "Parsed 175 files\n",
      "Parsing /content/gdrive/My Drive/MusicRep/weimar_jazz/FatsNavarro_GoodBait_FINAL.mid\n",
      "Parsed 176 files\n",
      "Parsing /content/gdrive/My Drive/MusicRep/weimar_jazz/GerryMulligan_WalkingShoes_FINAL.mid\n",
      "Parsed 177 files\n",
      "Parsing /content/gdrive/My Drive/MusicRep/weimar_jazz/HerbieHancock_Orbits_FINAL.mid\n",
      "Parsed 178 files\n",
      "Parsing /content/gdrive/My Drive/MusicRep/weimar_jazz/JJJohnson_MyFunnyValentine_FINAL.mid\n",
      "Parsed 179 files\n",
      "Parsing /content/gdrive/My Drive/MusicRep/weimar_jazz/HerbieHancock_HandJive_FINAL.mid\n",
      "Parsed 180 files\n",
      "Parsing /content/gdrive/My Drive/MusicRep/weimar_jazz/HankMobley_SoulStation_FINAL.mid\n",
      "Parsed 181 files\n",
      "Parsing /content/gdrive/My Drive/MusicRep/weimar_jazz/JCHigginbotham_BabyWon'tYouPleaseComeHome_FINAL.mid\n",
      "Parsed 182 files\n",
      "Parsing /content/gdrive/My Drive/MusicRep/weimar_jazz/JoeHenderson_Punjab_FINAL.mid\n",
      "Parsed 183 files\n",
      "Parsing /content/gdrive/My Drive/MusicRep/weimar_jazz/JoeHenderson_In'NOut-2_FINAL.mid\n",
      "Parsed 184 files\n",
      "Parsing /content/gdrive/My Drive/MusicRep/weimar_jazz/JJJohnson_CrazyRhythm_FINAL.mid\n",
      "Parsed 185 files\n",
      "Parsing /content/gdrive/My Drive/MusicRep/weimar_jazz/JoeHenderson_TotemPole_FINAL.mid\n",
      "Parsed 186 files\n",
      "Parsing /content/gdrive/My Drive/MusicRep/weimar_jazz/JJJohnson_Yesterdays_FINAL.mid\n",
      "Parsed 187 files\n",
      "Parsing /content/gdrive/My Drive/MusicRep/weimar_jazz/JoeHenderson_Serenity_FINAL.mid\n",
      "Parsed 188 files\n",
      "Parsing /content/gdrive/My Drive/MusicRep/weimar_jazz/HerbieHancock_Agitation_FINAL.mid\n",
      "Parsed 189 files\n",
      "Parsing /content/gdrive/My Drive/MusicRep/weimar_jazz/JJJohnson_BluesInTheCloset_FINAL.mid\n",
      "Parsed 190 files\n",
      "Parsing /content/gdrive/My Drive/MusicRep/weimar_jazz/JJJohnson_BlueMode_FINAL.mid\n",
      "Parsed 191 files\n",
      "Parsing /content/gdrive/My Drive/MusicRep/weimar_jazz/HarryEdison_DidYouCallHerToday_FINAL.mid\n",
      "Parsed 192 files\n",
      "Parsing /content/gdrive/My Drive/MusicRep/weimar_jazz/HerbieHancock_Dolores_FINAL.mid\n",
      "Parsed 193 files\n",
      "Parsing /content/gdrive/My Drive/MusicRep/weimar_jazz/HenryAllen_BabyWon'tYouPleaseComeHome_FINAL.mid\n",
      "Parsed 194 files\n",
      "Parsing /content/gdrive/My Drive/MusicRep/weimar_jazz/HerbieHancock_GingerbreadBoy_FINAL.mid\n",
      "Parsed 195 files\n",
      "Parsing /content/gdrive/My Drive/MusicRep/weimar_jazz/JJJohnson_Elora_FINAL.mid\n",
      "Parsed 196 files\n",
      "Parsing /content/gdrive/My Drive/MusicRep/weimar_jazz/JoeHenderson_In'NOut-1_FINAL.mid\n",
      "Parsed 197 files\n",
      "Parsing /content/gdrive/My Drive/MusicRep/weimar_jazz/JoeHenderson_U.M.M.G._FINAL.mid\n",
      "Parsed 198 files\n",
      "Parsing /content/gdrive/My Drive/MusicRep/weimar_jazz/JoeHenderson_TheSidewinder_FINAL.mid\n",
      "Parsed 199 files\n",
      "Parsing /content/gdrive/My Drive/MusicRep/weimar_jazz/JoeHenderson_JohnnyComeLately_FINAL.mid\n",
      "Parsed 200 files\n",
      "Parsing /content/gdrive/My Drive/MusicRep/weimar_jazz/JJJohnson_Walkin'_FINAL.mid\n",
      "Parsed 201 files\n",
      "Parsing /content/gdrive/My Drive/MusicRep/weimar_jazz/JJJohnson_Teapot_FINAL.mid\n",
      "Parsed 202 files\n",
      "Parsing /content/gdrive/My Drive/MusicRep/weimar_jazz/JoeLovano_Lonnie'sLament-1_FINAL.mid\n",
      "Parsed 203 files\n",
      "Parsing /content/gdrive/My Drive/MusicRep/weimar_jazz/JohnColtrane_Nutty_FINAL.mid\n",
      "Parsed 204 files\n",
      "Parsing /content/gdrive/My Drive/MusicRep/weimar_jazz/JohnColtrane_Oleo_FINAL.mid\n",
      "Parsed 205 files\n",
      "Parsing /content/gdrive/My Drive/MusicRep/weimar_jazz/JohnColtrane_Countdown_FINAL.mid\n",
      "Parsed 206 files\n",
      "Parsing /content/gdrive/My Drive/MusicRep/weimar_jazz/JoeLovano_BodyAndSoul-2_FINAL.mid\n",
      "Parsed 207 files\n",
      "Parsing /content/gdrive/My Drive/MusicRep/weimar_jazz/JoeLovano_CentralParkWest_FINAL.mid\n",
      "Parsed 208 files\n",
      "Parsing /content/gdrive/My Drive/MusicRep/weimar_jazz/JoeLovano_BodyAndSoul-1_FINAL.mid\n",
      "Parsed 209 files\n",
      "Parsing /content/gdrive/My Drive/MusicRep/weimar_jazz/JohnColtrane_BlueTrain_FINAL.mid\n",
      "Parsed 210 files\n",
      "Parsing /content/gdrive/My Drive/MusicRep/weimar_jazz/JoeLovano_ConAlma_FINAL.mid\n",
      "Parsed 211 files\n",
      "Parsing /content/gdrive/My Drive/MusicRep/weimar_jazz/JohnColtrane_Impressions_1963_FINAL.mid\n",
      "Parsed 212 files\n",
      "Parsing /content/gdrive/My Drive/MusicRep/weimar_jazz/JohnColtrane_GiantSteps-1_FINAL.mid\n",
      "Parsed 213 files\n",
      "Parsing /content/gdrive/My Drive/MusicRep/weimar_jazz/JohnColtrane_NatureBoy_FINAL.mid\n",
      "Parsed 214 files\n",
      "Parsing /content/gdrive/My Drive/MusicRep/weimar_jazz/JohnColtrane_GiantSteps-2_FINAL.mid\n",
      "Parsed 215 files\n",
      "Parsing /content/gdrive/My Drive/MusicRep/weimar_jazz/JoeLovano_LittleWillieLeapsIn_FINAL.mid\n",
      "Parsed 216 files\n",
      "Parsing /content/gdrive/My Drive/MusicRep/weimar_jazz/JohnColtrane_Mr.P.C._FINAL.mid\n",
      "Parsed 217 files\n",
      "Parsing /content/gdrive/My Drive/MusicRep/weimar_jazz/JoeLovano_ICan'tGetStarted_FINAL.mid\n",
      "Parsed 218 files\n",
      "Parsing /content/gdrive/My Drive/MusicRep/weimar_jazz/JohnColtrane_Bessie'sBlues_FINAL.mid\n",
      "Parsed 219 files\n",
      "Parsing /content/gdrive/My Drive/MusicRep/weimar_jazz/JohnColtrane_BodyAndSoul_AlternateTake_FINAL.mid\n",
      "Parsed 220 files\n",
      "Parsing /content/gdrive/My Drive/MusicRep/weimar_jazz/JohnAbercrombie_Ralph'sPianoWaltz_FINAL.mid\n",
      "Parsed 221 files\n",
      "Parsing /content/gdrive/My Drive/MusicRep/weimar_jazz/JohnColtrane_Impressions_1961_FINAL.mid\n",
      "Parsed 222 files\n",
      "Parsing /content/gdrive/My Drive/MusicRep/weimar_jazz/JohnColtrane_26=2_FINAL.mid\n",
      "Parsed 223 files\n",
      "Parsing /content/gdrive/My Drive/MusicRep/weimar_jazz/JoeLovano_Work_FINAL.mid\n",
      "Parsed 224 files\n",
      "Parsing /content/gdrive/My Drive/MusicRep/weimar_jazz/JohnColtrane_BodyAndSoul_FINAL.mid\n",
      "Parsed 225 files\n",
      "Parsing /content/gdrive/My Drive/MusicRep/weimar_jazz/JohnColtrane_BluesByFive_FINAL.mid\n",
      "Parsed 226 files\n",
      "Parsing /content/gdrive/My Drive/MusicRep/weimar_jazz/JohnColtrane_MyFavoriteThings-1_FINAL.mid\n",
      "Parsed 227 files\n",
      "Parsing /content/gdrive/My Drive/MusicRep/weimar_jazz/JohnColtrane_MyFavoriteThings-2_FINAL.mid\n",
      "Parsed 228 files\n",
      "Parsing /content/gdrive/My Drive/MusicRep/weimar_jazz/JoshuaRedman_BluesOnSunday_FINAL.mid\n",
      "Parsed 229 files\n",
      "Parsing /content/gdrive/My Drive/MusicRep/weimar_jazz/KennyGarrett_BrotherHubbard-1_FINAL.mid\n",
      "Parsed 230 files\n",
      "Parsing /content/gdrive/My Drive/MusicRep/weimar_jazz/KennyDorham_BluesInBe=Bop_FINAL.mid\n",
      "Parsed 231 files\n",
      "Parsing /content/gdrive/My Drive/MusicRep/weimar_jazz/KennyDorham_Punjab_FINAL.mid\n",
      "Parsed 232 files\n",
      "Parsing /content/gdrive/My Drive/MusicRep/weimar_jazz/JoshuaRedman_HomeFries_FINAL.mid\n",
      "Parsed 233 files\n",
      "Parsing /content/gdrive/My Drive/MusicRep/weimar_jazz/KennyDorham_In'NOut_FINAL.mid\n",
      "Parsed 234 files\n",
      "Parsing /content/gdrive/My Drive/MusicRep/weimar_jazz/JohnnyDodds_GotNoBlues_FINAL.mid\n",
      "Parsed 235 files\n",
      "Parsing /content/gdrive/My Drive/MusicRep/weimar_jazz/KaiWinding_Tiny'sBlues_FINAL.mid\n",
      "Parsed 236 files\n",
      "Parsing /content/gdrive/My Drive/MusicRep/weimar_jazz/JohnnyDodds_HotterThanThat_FINAL.mid\n",
      "Parsed 237 files\n",
      "Parsing /content/gdrive/My Drive/MusicRep/weimar_jazz/JohnnyHodges_Bunny_FINAL.mid\n",
      "Parsed 238 files\n",
      "Parsing /content/gdrive/My Drive/MusicRep/weimar_jazz/KennyDorham_LadyBird_FINAL.mid\n",
      "Parsed 239 files\n",
      "Parsing /content/gdrive/My Drive/MusicRep/weimar_jazz/JoshuaRedman_IGotYou_FINAL.mid\n",
      "Parsed 240 files\n",
      "Parsing /content/gdrive/My Drive/MusicRep/weimar_jazz/JohnColtrane_SoWhat_FINAL.mid\n",
      "Parsed 241 files\n",
      "Parsing /content/gdrive/My Drive/MusicRep/weimar_jazz/JohnnyDodds_MyHeart_FINAL.mid\n",
      "Parsed 242 files\n",
      "Parsing /content/gdrive/My Drive/MusicRep/weimar_jazz/JohnColtrane_Trane'sBlues_FINAL.mid\n",
      "Parsed 243 files\n",
      "Parsing /content/gdrive/My Drive/MusicRep/weimar_jazz/KennyDorham_Doodlin'_FINAL.mid\n",
      "Parsed 244 files\n",
      "Parsing /content/gdrive/My Drive/MusicRep/weimar_jazz/JohnnyHodges_EarlyMorningRock_FINAL.mid\n",
      "Parsed 245 files\n",
      "Parsing /content/gdrive/My Drive/MusicRep/weimar_jazz/JoshuaRedman_TearsInHeaven_FINAL.mid\n",
      "Parsed 246 files\n",
      "Parsing /content/gdrive/My Drive/MusicRep/weimar_jazz/JohnnyDodds_HeebieJeebies_FINAL.mid\n",
      "Parsed 247 files\n",
      "Parsing /content/gdrive/My Drive/MusicRep/weimar_jazz/JoshuaRedman_SweetSorrow_FINAL.mid\n",
      "Parsed 248 files\n",
      "Parsing /content/gdrive/My Drive/MusicRep/weimar_jazz/JohnnyDodds_MuskratRamble_FINAL.mid\n",
      "Parsed 249 files\n",
      "Parsing /content/gdrive/My Drive/MusicRep/weimar_jazz/KennyDorham_Serenity_FINAL.mid\n",
      "Parsed 250 files\n",
      "Parsing /content/gdrive/My Drive/MusicRep/weimar_jazz/KennyDorham_PrinceAlbert_FINAL.mid\n",
      "Parsed 251 files\n",
      "Parsing /content/gdrive/My Drive/MusicRep/weimar_jazz/JohnnyDodds_OnceInAWhile_FINAL.mid\n",
      "Parsed 252 files\n",
      "Parsing /content/gdrive/My Drive/MusicRep/weimar_jazz/JohnColtrane_Soultrane_FINAL.mid\n",
      "Parsed 253 files\n",
      "Parsing /content/gdrive/My Drive/MusicRep/weimar_jazz/LeeKonitz_Wow-1_FINAL.mid\n",
      "Parsed 254 files\n",
      "Parsing /content/gdrive/My Drive/MusicRep/weimar_jazz/LeeKonitz_Crosscurrent_FINAL.mid\n",
      "Parsed 255 files\n",
      "Parsing /content/gdrive/My Drive/MusicRep/weimar_jazz/LesterYoung_D.B.Blues_FINAL.mid\n",
      "Parsed 256 files\n",
      "Parsing /content/gdrive/My Drive/MusicRep/weimar_jazz/KennyGarrett_BrotherHubbard-2_FINAL.mid\n",
      "Parsed 257 files\n",
      "Parsing /content/gdrive/My Drive/MusicRep/weimar_jazz/LeeKonitz_I'llRememberApril_FINAL.mid\n",
      "Parsed 258 files\n",
      "Parsing /content/gdrive/My Drive/MusicRep/weimar_jazz/LeeMorgan_JustOneOfThoseThings_FINAL.mid\n",
      "Parsed 259 files\n",
      "Parsing /content/gdrive/My Drive/MusicRep/weimar_jazz/LeeKonitz_BopGoesToLeesel_FINAL.mid\n",
      "Parsed 260 files\n",
      "Parsing /content/gdrive/My Drive/MusicRep/weimar_jazz/LeeKonitz_MeanToMe_FINAL.mid\n",
      "Parsed 261 files\n",
      "Parsing /content/gdrive/My Drive/MusicRep/weimar_jazz/KennyWheeler_SlippedAgain_FINAL.mid\n",
      "Parsed 262 files\n",
      "Parsing /content/gdrive/My Drive/MusicRep/weimar_jazz/LesterYoung_BodyAndSoul_FINAL.mid\n",
      "Parsed 263 files\n",
      "Parsing /content/gdrive/My Drive/MusicRep/weimar_jazz/LeeKonitz_Tautology_FINAL.mid\n",
      "Parsed 264 files\n",
      "Parsing /content/gdrive/My Drive/MusicRep/weimar_jazz/KennyWheeler_DoubleVision_FINAL.mid\n",
      "Parsed 265 files\n",
      "Parsing /content/gdrive/My Drive/MusicRep/weimar_jazz/LeeKonitz_Marshmallow_FINAL.mid\n",
      "Parsed 266 files\n",
      "Parsing /content/gdrive/My Drive/MusicRep/weimar_jazz/KidOry_SavoyBlues_FINAL.mid\n",
      "Parsed 267 files\n",
      "Parsing /content/gdrive/My Drive/MusicRep/weimar_jazz/KidOry_GotNoBlues_FINAL.mid\n",
      "Parsed 268 files\n",
      "Parsing /content/gdrive/My Drive/MusicRep/weimar_jazz/LeeMorgan_TheSidewinder_FINAL.mid\n",
      "Parsed 269 files\n",
      "Parsing /content/gdrive/My Drive/MusicRep/weimar_jazz/LeeKonitz_AllTheThingsYouAre_FINAL.mid\n",
      "Parsed 270 files\n",
      "Parsing /content/gdrive/My Drive/MusicRep/weimar_jazz/LeeMorgan_BlueTrain_FINAL.mid\n",
      "Parsed 271 files\n",
      "Parsing /content/gdrive/My Drive/MusicRep/weimar_jazz/LesterYoung_AfterTheatreJump_FINAL.mid\n",
      "Parsed 272 files\n",
      "Parsing /content/gdrive/My Drive/MusicRep/weimar_jazz/KidOry_MuskratRamble_FINAL.mid\n",
      "Parsed 273 files\n",
      "Parsing /content/gdrive/My Drive/MusicRep/weimar_jazz/KidOry_GutBucketBlues_FINAL.mid\n",
      "Parsed 274 files\n",
      "Parsing /content/gdrive/My Drive/MusicRep/weimar_jazz/KennyWheeler_PassItOn_FINAL.mid\n",
      "Parsed 275 files\n",
      "Parsing /content/gdrive/My Drive/MusicRep/weimar_jazz/KidOry_Who'sIt_FINAL.mid\n",
      "Parsed 276 files\n",
      "Parsing /content/gdrive/My Drive/MusicRep/weimar_jazz/LeeMorgan_TotemPole_FINAL.mid\n",
      "Parsed 277 files\n",
      "Parsing /content/gdrive/My Drive/MusicRep/weimar_jazz/LouisArmstrong_SavoyBlues_FINAL.mid\n",
      "Parsed 278 files\n",
      "Parsing /content/gdrive/My Drive/MusicRep/weimar_jazz/LionelHampton_Avalon_FINAL.mid\n",
      "Parsed 279 files\n",
      "Parsing /content/gdrive/My Drive/MusicRep/weimar_jazz/LesterYoung_Dickie'sDream_FINAL.mid\n",
      "Parsed 280 files\n",
      "Parsing /content/gdrive/My Drive/MusicRep/weimar_jazz/LesterYoung_DestinationK.C._FINAL.mid\n",
      "Parsed 281 files\n",
      "Parsing /content/gdrive/My Drive/MusicRep/weimar_jazz/LouisArmstrong_GutBucketBlues_FINAL.mid\n",
      "Parsed 282 files\n",
      "Parsing /content/gdrive/My Drive/MusicRep/weimar_jazz/LionelHampton_HighSociety_FINAL.mid\n",
      "Parsed 283 files\n",
      "Parsing /content/gdrive/My Drive/MusicRep/weimar_jazz/MichaelBrecker_NeverAlone_FINAL.mid\n",
      "Parsed 284 files\n",
      "Parsing /content/gdrive/My Drive/MusicRep/weimar_jazz/LionelHampton_Whispering_FINAL.mid\n",
      "Parsed 285 files\n",
      "Parsing /content/gdrive/My Drive/MusicRep/weimar_jazz/LesterYoung_LesterLeapsIn_FINAL.mid\n",
      "Parsed 286 files\n",
      "Parsing /content/gdrive/My Drive/MusicRep/weimar_jazz/MichaelBrecker_NakedSoul_FINAL.mid\n",
      "Parsed 287 files\n",
      "Parsing /content/gdrive/My Drive/MusicRep/weimar_jazz/MichaelBrecker_IMeanYou_FINAL.mid\n",
      "Parsed 288 files\n",
      "Parsing /content/gdrive/My Drive/MusicRep/weimar_jazz/LouisArmstrong_MuskratRamble_FINAL.mid\n",
      "Parsed 289 files\n",
      "Parsing /content/gdrive/My Drive/MusicRep/weimar_jazz/LionelHampton_MemoriesOfYou_FINAL.mid\n",
      "Parsed 290 files\n",
      "Parsing /content/gdrive/My Drive/MusicRep/weimar_jazz/LionelHampton_Runnin'Wild_FINAL.mid\n",
      "Parsed 291 files\n",
      "Parsing /content/gdrive/My Drive/MusicRep/weimar_jazz/LouisArmstrong_BasinStreetBlues_FINAL.mid\n",
      "Parsed 292 files\n",
      "Parsing /content/gdrive/My Drive/MusicRep/weimar_jazz/MichaelBrecker_CabinFever_FINAL.mid\n",
      "Parsed 293 files\n",
      "Parsing /content/gdrive/My Drive/MusicRep/weimar_jazz/LouisArmstrong_OnceInAWhile_FINAL.mid\n",
      "Parsed 294 files\n",
      "Parsing /content/gdrive/My Drive/MusicRep/weimar_jazz/LouisArmstrong_BigButterAndEggMan_FINAL.mid\n",
      "Parsed 295 files\n",
      "Parsing /content/gdrive/My Drive/MusicRep/weimar_jazz/MichaelBrecker_DeltaCityBlues_FINAL.mid\n",
      "Parsed 296 files\n",
      "Parsing /content/gdrive/My Drive/MusicRep/weimar_jazz/LionelHampton_Dinah_FINAL.mid\n",
      "Parsed 297 files\n",
      "Parsing /content/gdrive/My Drive/MusicRep/weimar_jazz/MichaelBrecker_MidnightVoyage_FINAL.mid\n",
      "Parsed 298 files\n",
      "Parsing /content/gdrive/My Drive/MusicRep/weimar_jazz/MichaelBrecker_Confirmation_FINAL.mid\n",
      "Parsed 299 files\n",
      "Parsing /content/gdrive/My Drive/MusicRep/weimar_jazz/LouisArmstrong_GotNoBlues_FINAL.mid\n",
      "Parsed 300 files\n",
      "Parsing /content/gdrive/My Drive/MusicRep/weimar_jazz/LesterYoung_SixCatsAndAPrince_FINAL.mid\n",
      "Parsed 301 files\n",
      "Parsing /content/gdrive/My Drive/MusicRep/weimar_jazz/LouisArmstrong_CornetChopSuey_FINAL.mid\n",
      "Parsed 302 files\n",
      "Parsing /content/gdrive/My Drive/MusicRep/weimar_jazz/MilesDavis_BitchesBrew-1_FINAL.mid\n",
      "Parsed 303 files\n",
      "Parsing /content/gdrive/My Drive/MusicRep/weimar_jazz/MilesDavis_Orbits_FINAL.mid\n",
      "Parsed 304 files\n",
      "Parsing /content/gdrive/My Drive/MusicRep/weimar_jazz/MilesDavis_BluesByFive_FINAL.mid\n",
      "Parsed 305 files\n",
      "Parsing /content/gdrive/My Drive/MusicRep/weimar_jazz/MilesDavis_K.C.Blues_FINAL.mid\n",
      "Parsed 306 files\n",
      "Parsing /content/gdrive/My Drive/MusicRep/weimar_jazz/MilesDavis_Oleo-2_FINAL.mid\n",
      "Parsed 307 files\n",
      "Parsing /content/gdrive/My Drive/MusicRep/weimar_jazz/MichaelBrecker_NothingPersonal_FINAL.mid\n",
      "Parsed 308 files\n",
      "Parsing /content/gdrive/My Drive/MusicRep/weimar_jazz/MichaelBrecker_Peep_FINAL.mid\n",
      "Parsed 309 files\n",
      "Parsing /content/gdrive/My Drive/MusicRep/weimar_jazz/MilesDavis_BitchesBrew-2_FINAL.mid\n",
      "Parsed 310 files\n",
      "Parsing /content/gdrive/My Drive/MusicRep/weimar_jazz/MilesDavis_Agitation_FINAL.mid\n",
      "Parsed 311 files\n",
      "Parsing /content/gdrive/My Drive/MusicRep/weimar_jazz/MilesDavis_MilesRunsTheVoodooDown-1_FINAL.mid\n",
      "Parsed 312 files\n",
      "Parsing /content/gdrive/My Drive/MusicRep/weimar_jazz/MilesDavis_Walkin'_FINAL.mid\n",
      "Parsed 313 files\n",
      "Parsing /content/gdrive/My Drive/MusicRep/weimar_jazz/MilesDavis_TuneUp_FINAL.mid\n",
      "Parsed 314 files\n",
      "Parsing /content/gdrive/My Drive/MusicRep/weimar_jazz/MilesDavis_MilesRunsTheVoodooDown-2_FINAL.mid\n",
      "Parsed 315 files\n",
      "Parsing /content/gdrive/My Drive/MusicRep/weimar_jazz/MilesDavis_Airegin_FINAL.mid\n",
      "Parsed 316 files\n",
      "Parsing /content/gdrive/My Drive/MusicRep/weimar_jazz/MilesDavis_Eighty=One_FINAL.mid\n",
      "Parsed 317 files\n",
      "Parsing /content/gdrive/My Drive/MusicRep/weimar_jazz/MilesDavis_Oleo-1_FINAL.mid\n",
      "Parsed 318 files\n",
      "Parsing /content/gdrive/My Drive/MusicRep/weimar_jazz/MilesDavis_SoWhat_FINAL.mid\n",
      "Parsed 319 files\n",
      "Parsing /content/gdrive/My Drive/MusicRep/weimar_jazz/MichaelBrecker_SongForBilbao_FINAL.mid\n",
      "Parsed 320 files\n",
      "Parsing /content/gdrive/My Drive/MusicRep/weimar_jazz/MilesDavis_E.S.P._FINAL.mid\n",
      "Parsed 321 files\n",
      "Parsing /content/gdrive/My Drive/MusicRep/weimar_jazz/MilesDavis_Dolores_FINAL.mid\n",
      "Parsed 322 files\n",
      "Parsing /content/gdrive/My Drive/MusicRep/weimar_jazz/MilesDavis_VierdBlues_FINAL.mid\n",
      "Parsed 323 files\n",
      "Parsing /content/gdrive/My Drive/MusicRep/weimar_jazz/MilesDavis_Trane'sBlues_FINAL.mid\n",
      "Parsed 324 files\n",
      "Parsing /content/gdrive/My Drive/MusicRep/weimar_jazz/MiltJackson_BemshaSwing_FINAL.mid\n",
      "Parsed 325 files\n",
      "Parsing /content/gdrive/My Drive/MusicRep/weimar_jazz/PatMartino_AlongCameBetty_FINAL.mid\n",
      "Parsed 326 files\n",
      "Parsing /content/gdrive/My Drive/MusicRep/weimar_jazz/MiltJackson_What'sNew_FINAL.mid\n",
      "Parsed 327 files\n",
      "Parsing /content/gdrive/My Drive/MusicRep/weimar_jazz/PatMetheny_MidnightVoyage_FINAL.mid\n",
      "Parsed 328 files\n",
      "Parsing /content/gdrive/My Drive/MusicRep/weimar_jazz/PatMetheny_AllTheThingsYouAre_FINAL.mid\n",
      "Parsed 329 files\n",
      "Parsing /content/gdrive/My Drive/MusicRep/weimar_jazz/PaulDesmond_BossaAntigua_FINAL.mid\n",
      "Parsed 330 files\n",
      "Parsing /content/gdrive/My Drive/MusicRep/weimar_jazz/MiltJackson_SoftlyAsInAMorningSunrise_FINAL.mid\n",
      "Parsed 331 files\n",
      "Parsing /content/gdrive/My Drive/MusicRep/weimar_jazz/OrnetteColeman_BirdFood_FINAL.mid\n",
      "Parsed 332 files\n",
      "Parsing /content/gdrive/My Drive/MusicRep/weimar_jazz/NatAdderley_WorkSong_FINAL.mid\n",
      "Parsed 333 files\n",
      "Parsing /content/gdrive/My Drive/MusicRep/weimar_jazz/MiltJackson_Bag'sGroove_FINAL.mid\n",
      "Parsed 334 files\n",
      "Parsing /content/gdrive/My Drive/MusicRep/weimar_jazz/OrnetteColeman_Peace_FINAL.mid\n",
      "Parsed 335 files\n",
      "Parsing /content/gdrive/My Drive/MusicRep/weimar_jazz/MiltJackson_AllTheThingsYouAre_FINAL.mid\n",
      "Parsed 336 files\n",
      "Parsing /content/gdrive/My Drive/MusicRep/weimar_jazz/MiltJackson_Don'tGetAroundMuchAnymore_FINAL.mid\n",
      "Parsed 337 files\n",
      "Parsing /content/gdrive/My Drive/MusicRep/weimar_jazz/PaulDesmond_BlueRondoALaTurk_FINAL.mid\n",
      "Parsed 338 files\n",
      "Parsing /content/gdrive/My Drive/MusicRep/weimar_jazz/OrnetteColeman_Congeniality_FINAL.mid\n",
      "Parsed 339 files\n",
      "Parsing /content/gdrive/My Drive/MusicRep/weimar_jazz/OrnetteColeman_Chronology_FINAL.mid\n",
      "Parsed 340 files\n",
      "Parsing /content/gdrive/My Drive/MusicRep/weimar_jazz/PatMetheny_CabinFever_FINAL.mid\n",
      "Parsed 341 files\n",
      "Parsing /content/gdrive/My Drive/MusicRep/weimar_jazz/PatMetheny_NothingPersonal_FINAL.mid\n",
      "Parsed 342 files\n",
      "Parsing /content/gdrive/My Drive/MusicRep/weimar_jazz/NatAdderley_BohemiaAfterDark_FINAL.mid\n",
      "Parsed 343 files\n",
      "Parsing /content/gdrive/My Drive/MusicRep/weimar_jazz/PaulDesmond_Alianca-2_FINAL.mid\n",
      "Parsed 344 files\n",
      "Parsing /content/gdrive/My Drive/MusicRep/weimar_jazz/PaulDesmond_SambaCantina-1_FINAL.mid\n",
      "Parsed 345 files\n",
      "Parsing /content/gdrive/My Drive/MusicRep/weimar_jazz/PaulDesmond_AloneTogether_FINAL.mid\n",
      "Parsed 346 files\n",
      "Parsing /content/gdrive/My Drive/MusicRep/weimar_jazz/OrnetteColeman_Ramblin'_FINAL.mid\n",
      "Parsed 347 files\n",
      "Parsing /content/gdrive/My Drive/MusicRep/weimar_jazz/PaulDesmond_Alianca-1_FINAL.mid\n",
      "Parsed 348 files\n",
      "Parsing /content/gdrive/My Drive/MusicRep/weimar_jazz/PaulDesmond_SambaCantina-2_FINAL.mid\n",
      "Parsed 349 files\n",
      "Parsing /content/gdrive/My Drive/MusicRep/weimar_jazz/PaulDesmond_TheGirlFromEast9thStreet_FINAL.mid\n",
      "Parsed 350 files\n",
      "Parsing /content/gdrive/My Drive/MusicRep/weimar_jazz/PhilWoods_Strollin'WithPam_FINAL.mid\n",
      "Parsed 351 files\n",
      "Parsing /content/gdrive/My Drive/MusicRep/weimar_jazz/RoyEldridge_KingDavid_FINAL.mid\n",
      "Parsed 352 files\n",
      "Parsing /content/gdrive/My Drive/MusicRep/weimar_jazz/PhilWoods_CrazyRhythm_FINAL.mid\n",
      "Parsed 353 files\n",
      "Parsing /content/gdrive/My Drive/MusicRep/weimar_jazz/RedGarland_Oleo_FINAL.mid\n",
      "Parsed 354 files\n",
      "Parsing /content/gdrive/My Drive/MusicRep/weimar_jazz/PhilWoods_CottonTail_FINAL.mid\n",
      "Parsed 355 files\n",
      "Parsing /content/gdrive/My Drive/MusicRep/weimar_jazz/RoyEldridge_Undecided_FINAL.mid\n",
      "Parsed 356 files\n",
      "Parsing /content/gdrive/My Drive/MusicRep/weimar_jazz/SidneyBechet_BabyWon'tYouPleaseComeHome_FINAL.mid\n",
      "Parsed 357 files\n",
      "Parsing /content/gdrive/My Drive/MusicRep/weimar_jazz/PepperAdams_ANightInTunisia_FINAL.mid\n",
      "Parsed 358 files\n",
      "Parsing /content/gdrive/My Drive/MusicRep/weimar_jazz/PhilWoods_OnASlowBoatToChina_FINAL.mid\n",
      "Parsed 359 files\n",
      "Parsing /content/gdrive/My Drive/MusicRep/weimar_jazz/RoyEldridge_BodyAndSoul_FINAL.mid\n",
      "Parsed 360 files\n",
      "Parsing /content/gdrive/My Drive/MusicRep/weimar_jazz/PepperAdams_You'dBeSoNiceToComeHomeTo_FINAL.mid\n",
      "Parsed 361 files\n",
      "Parsing /content/gdrive/My Drive/MusicRep/weimar_jazz/PepperAdams_HowHighTheMoon_FINAL.mid\n",
      "Parsed 362 files\n",
      "Parsing /content/gdrive/My Drive/MusicRep/weimar_jazz/PepperAdams_JustOneOfThoseThings_FINAL.mid\n",
      "Parsed 363 files\n",
      "Parsing /content/gdrive/My Drive/MusicRep/weimar_jazz/RoyEldridge_St.LouisBlues_FINAL.mid\n",
      "Parsed 364 files\n",
      "Parsing /content/gdrive/My Drive/MusicRep/weimar_jazz/PhilWoods_HoneysuckleRose_FINAL.mid\n",
      "Parsed 365 files\n",
      "Parsing /content/gdrive/My Drive/MusicRep/weimar_jazz/RoyEldridge_TheGasser-2_FINAL.mid\n",
      "Parsed 366 files\n",
      "Parsing /content/gdrive/My Drive/MusicRep/weimar_jazz/PepperAdams_EarlyMorningMood_FINAL.mid\n",
      "Parsed 367 files\n",
      "Parsing /content/gdrive/My Drive/MusicRep/weimar_jazz/RexStewart_Perdido_FINAL.mid\n",
      "Parsed 368 files\n",
      "Parsing /content/gdrive/My Drive/MusicRep/weimar_jazz/RoyEldridge_TheGasser-1_FINAL.mid\n",
      "Parsed 369 files\n",
      "Parsing /content/gdrive/My Drive/MusicRep/weimar_jazz/PhilWoods_BeMyLove_FINAL.mid\n",
      "Parsed 370 files\n",
      "Parsing /content/gdrive/My Drive/MusicRep/weimar_jazz/SonnyRollins_VierdBlues_FINAL.mid\n",
      "Parsed 371 files\n",
      "Parsing /content/gdrive/My Drive/MusicRep/weimar_jazz/SonnyStitt_BlueMode_FINAL.mid\n",
      "Parsed 372 files\n",
      "Parsing /content/gdrive/My Drive/MusicRep/weimar_jazz/SonnyRollins_BlueSeven-1_FINAL.mid\n",
      "Parsed 373 files\n",
      "Parsing /content/gdrive/My Drive/MusicRep/weimar_jazz/SonnyStitt_BodyAndSoul_FINAL.mid\n",
      "Parsed 374 files\n",
      "Parsing /content/gdrive/My Drive/MusicRep/weimar_jazz/SonnyStitt_BluesInBe=Bop_FINAL.mid\n",
      "Parsed 375 files\n",
      "Parsing /content/gdrive/My Drive/MusicRep/weimar_jazz/SonnyRollins_BlueSeven-3_FINAL.mid\n",
      "Parsed 376 files\n",
      "Parsing /content/gdrive/My Drive/MusicRep/weimar_jazz/SonnyRollins_St.Thomas-2_FINAL.mid\n",
      "Parsed 377 files\n",
      "Parsing /content/gdrive/My Drive/MusicRep/weimar_jazz/SonnyRollins_Playin'InTheYard-2_FINAL.mid\n",
      "Parsed 378 files\n",
      "Parsing /content/gdrive/My Drive/MusicRep/weimar_jazz/SonnyStitt_Elora_FINAL.mid\n",
      "Parsed 379 files\n",
      "Parsing /content/gdrive/My Drive/MusicRep/weimar_jazz/SonnyRollins_TheEverywhereCalypso-1_FINAL.mid\n",
      "Parsed 380 files\n",
      "Parsing /content/gdrive/My Drive/MusicRep/weimar_jazz/SidneyBechet_LimehouseBlues_FINAL.mid\n",
      "Parsed 381 files\n",
      "Parsing /content/gdrive/My Drive/MusicRep/weimar_jazz/SonnyRollins_TenorMadness_FINAL.mid\n",
      "Parsed 382 files\n",
      "Parsing /content/gdrive/My Drive/MusicRep/weimar_jazz/SonnyRollins_I'llRememberApril_FINAL.mid\n",
      "Parsed 383 files\n",
      "Parsing /content/gdrive/My Drive/MusicRep/weimar_jazz/SonnyStitt_GoodKick_FINAL.mid\n",
      "Parsed 384 files\n",
      "Parsing /content/gdrive/My Drive/MusicRep/weimar_jazz/SidneyBechet_Summertime_FINAL.mid\n",
      "Parsed 385 files\n",
      "Parsing /content/gdrive/My Drive/MusicRep/weimar_jazz/SonnyRollins_TheEverywhereCalypso-2_FINAL.mid\n",
      "Parsed 386 files\n",
      "Parsing /content/gdrive/My Drive/MusicRep/weimar_jazz/SidneyBechet_ReallyTheBlues_FINAL.mid\n",
      "Parsed 387 files\n",
      "Parsing /content/gdrive/My Drive/MusicRep/weimar_jazz/SidneyBechet_I'mComingVirginia_FINAL.mid\n",
      "Parsed 388 files\n",
      "Parsing /content/gdrive/My Drive/MusicRep/weimar_jazz/SonnyRollins_BlueSeven-2_FINAL.mid\n",
      "Parsed 389 files\n",
      "Parsing /content/gdrive/My Drive/MusicRep/weimar_jazz/SonnyRollins_Airegin_FINAL.mid\n",
      "Parsed 390 files\n",
      "Parsing /content/gdrive/My Drive/MusicRep/weimar_jazz/SonnyRollins_St.Thomas-1_FINAL.mid\n",
      "Parsed 391 files\n",
      "Parsing /content/gdrive/My Drive/MusicRep/weimar_jazz/SonnyRollins_Playin'InTheYard-1_FINAL.mid\n",
      "Parsed 392 files\n",
      "Parsing /content/gdrive/My Drive/MusicRep/weimar_jazz/SteveLacy_AloneTogether_FINAL.mid\n",
      "Parsed 393 files\n",
      "Parsing /content/gdrive/My Drive/MusicRep/weimar_jazz/StanGetz_BodyAndSoul_FINAL.mid\n",
      "Parsed 394 files\n",
      "Parsing /content/gdrive/My Drive/MusicRep/weimar_jazz/SteveColeman_Cross=Fade-2_FINAL.mid\n",
      "Parsed 395 files\n",
      "Parsing /content/gdrive/My Drive/MusicRep/weimar_jazz/SteveColeman_Processional_FINAL.mid\n",
      "Parsed 396 files\n",
      "Parsing /content/gdrive/My Drive/MusicRep/weimar_jazz/SteveLacy_Let'sCoolOne_FINAL.mid\n",
      "Parsed 397 files\n",
      "Parsing /content/gdrive/My Drive/MusicRep/weimar_jazz/StanGetz_I'mGladThereIsYou_FINAL.mid\n",
      "Parsed 398 files\n",
      "Parsing /content/gdrive/My Drive/MusicRep/weimar_jazz/SteveColeman_TheOracle-2_FINAL.mid\n",
      "Parsed 399 files\n",
      "Parsing /content/gdrive/My Drive/MusicRep/weimar_jazz/StanGetz_MyFunnyValentine_FINAL.mid\n",
      "Parsed 400 files\n",
      "Parsing /content/gdrive/My Drive/MusicRep/weimar_jazz/StanGetz_Insensatez_FINAL.mid\n",
      "Parsed 401 files\n",
      "Parsing /content/gdrive/My Drive/MusicRep/weimar_jazz/SteveColeman_PassItOn_FINAL.mid\n",
      "Parsed 402 files\n",
      "Parsing /content/gdrive/My Drive/MusicRep/weimar_jazz/SonnyStitt_Teapot_FINAL.mid\n",
      "Parsed 403 files\n",
      "Parsing /content/gdrive/My Drive/MusicRep/weimar_jazz/StanGetz_BluesInTheCloset_FINAL.mid\n",
      "Parsed 404 files\n",
      "Parsing /content/gdrive/My Drive/MusicRep/weimar_jazz/SteveColeman_Cross=Fade-1_FINAL.mid\n",
      "Parsed 405 files\n",
      "Parsing /content/gdrive/My Drive/MusicRep/weimar_jazz/SteveColeman_SlippedAgain_FINAL.mid\n",
      "Parsed 406 files\n",
      "Parsing /content/gdrive/My Drive/MusicRep/weimar_jazz/SteveLacy_Skippy_FINAL.mid\n",
      "Parsed 407 files\n",
      "Parsing /content/gdrive/My Drive/MusicRep/weimar_jazz/SteveColeman_TheOracle-1_FINAL.mid\n",
      "Parsed 408 files\n",
      "Parsing /content/gdrive/My Drive/MusicRep/weimar_jazz/SteveLacy_AskMeNow_FINAL.mid\n",
      "Parsed 409 files\n",
      "Parsing /content/gdrive/My Drive/MusicRep/weimar_jazz/SteveColeman_DoubleVision_FINAL.mid\n",
      "Parsed 410 files\n",
      "Parsing /content/gdrive/My Drive/MusicRep/weimar_jazz/SteveColeman_Segment_FINAL.mid\n",
      "Parsed 411 files\n",
      "Parsing /content/gdrive/My Drive/MusicRep/weimar_jazz/StanGetz_CrazyRhythm_FINAL.mid\n",
      "Parsed 412 files\n",
      "Parsing /content/gdrive/My Drive/MusicRep/weimar_jazz/SteveColeman_TakeTheColtrane_FINAL.mid\n",
      "Parsed 413 files\n",
      "Parsing /content/gdrive/My Drive/MusicRep/weimar_jazz/SteveLacy_Work_FINAL.mid\n",
      "Parsed 414 files\n",
      "Parsing /content/gdrive/My Drive/MusicRep/weimar_jazz/SteveLacy_EasyToLove_FINAL.mid\n",
      "Parsed 415 files\n",
      "Parsing /content/gdrive/My Drive/MusicRep/weimar_jazz/SteveTurre_Steve'sBlues_FINAL.mid\n",
      "Parsed 416 files\n",
      "Parsing /content/gdrive/My Drive/MusicRep/weimar_jazz/WarneMarsh_Wow-1_FINAL.mid\n",
      "Parsed 417 files\n",
      "Parsing /content/gdrive/My Drive/MusicRep/weimar_jazz/WarneMarsh_Tautology_FINAL.mid\n",
      "Parsed 418 files\n",
      "Parsing /content/gdrive/My Drive/MusicRep/weimar_jazz/WoodyShaw_IfIWereABell_FINAL.mid\n",
      "Parsed 419 files\n",
      "Parsing /content/gdrive/My Drive/MusicRep/weimar_jazz/WayneShorter_E.S.P._FINAL.mid\n",
      "Parsed 420 files\n",
      "Parsing /content/gdrive/My Drive/MusicRep/weimar_jazz/WayneShorter_DownUnder_FINAL.mid\n",
      "Parsed 421 files\n",
      "Parsing /content/gdrive/My Drive/MusicRep/weimar_jazz/WayneShorter_Adam'sApple_FINAL.mid\n",
      "Parsed 422 files\n",
      "Parsing /content/gdrive/My Drive/MusicRep/weimar_jazz/SteveTurre_DatDere_FINAL.mid\n",
      "Parsed 423 files\n",
      "Parsing /content/gdrive/My Drive/MusicRep/weimar_jazz/WoodyShaw_InACapricornianWay_FINAL.mid\n",
      "Parsed 424 files\n",
      "Parsing /content/gdrive/My Drive/MusicRep/weimar_jazz/WayneShorter_SpeakNoEvil_FINAL.mid\n",
      "Parsed 425 files\n",
      "Parsing /content/gdrive/My Drive/MusicRep/weimar_jazz/WoodyShaw_Imagination_FINAL.mid\n",
      "Parsed 426 files\n",
      "Parsing /content/gdrive/My Drive/MusicRep/weimar_jazz/WoodyShaw_DatDere_FINAL.mid\n",
      "Parsed 427 files\n",
      "Parsing /content/gdrive/My Drive/MusicRep/weimar_jazz/WayneShorter_InfantEyes_FINAL.mid\n",
      "Parsed 428 files\n",
      "Parsing /content/gdrive/My Drive/MusicRep/weimar_jazz/WarneMarsh_Crosscurrent_FINAL.mid\n",
      "Parsed 429 files\n",
      "Parsing /content/gdrive/My Drive/MusicRep/weimar_jazz/VonFreeman_PassItOn_FINAL.mid\n",
      "Parsed 430 files\n",
      "Parsing /content/gdrive/My Drive/MusicRep/weimar_jazz/WayneShorter_Footprints_FINAL.mid\n",
      "Parsed 431 files\n",
      "Parsing /content/gdrive/My Drive/MusicRep/weimar_jazz/WoodyShaw_Rahsaan'sRun_FINAL.mid\n",
      "Parsed 432 files\n",
      "Parsing /content/gdrive/My Drive/MusicRep/weimar_jazz/WayneShorter_Orbits_FINAL.mid\n",
      "Parsed 433 files\n",
      "Parsing /content/gdrive/My Drive/MusicRep/weimar_jazz/WayneShorter_Eighty=One_FINAL.mid\n",
      "Parsed 434 files\n",
      "Parsing /content/gdrive/My Drive/MusicRep/weimar_jazz/WayneShorter_Juju_FINAL.mid\n",
      "Parsed 435 files\n",
      "Parsing /content/gdrive/My Drive/MusicRep/weimar_jazz/SteveTurre_IfIWereABell_FINAL.mid\n",
      "Parsed 436 files\n",
      "Parsing /content/gdrive/My Drive/MusicRep/weimar_jazz/WayneShorter_Dolores_FINAL.mid\n",
      "Parsed 437 files\n",
      "Parsing /content/gdrive/My Drive/MusicRep/weimar_jazz/WoodyShaw_Steve'sBlues_FINAL.mid\n",
      "Parsed 438 files\n",
      "Parsing /content/gdrive/My Drive/MusicRep/weimar_jazz/WyntonMarsalis_You'reMyEverything_FINAL.mid\n",
      "Parsed 439 files\n",
      "Parsing /content/gdrive/My Drive/MusicRep/weimar_jazz/WyntonMarsalis_Caravan_FINAL.mid\n",
      "Parsed 440 files\n",
      "Parsing /content/gdrive/My Drive/MusicRep/weimar_jazz/WyntonMarsalis_Cherokee_FINAL.mid\n",
      "Parsed 441 files\n",
      "Parsing /content/gdrive/My Drive/MusicRep/weimar_jazz/WyntonMarsalis_JohnnyComeLately_FINAL.mid\n",
      "Parsed 442 files\n",
      "Parsing /content/gdrive/My Drive/MusicRep/weimar_jazz/ZootSims_KingDavid_FINAL.mid\n",
      "Parsed 443 files\n",
      "Parsing /content/gdrive/My Drive/MusicRep/weimar_jazz/WoodyShaw_SteppingStone-1_FINAL.mid\n",
      "Parsed 444 files\n",
      "Parsing /content/gdrive/My Drive/MusicRep/weimar_jazz/ZootSims_DancingInTheDark-1_FINAL.mid\n",
      "Parsed 445 files\n",
      "Parsing /content/gdrive/My Drive/MusicRep/weimar_jazz/ZootSims_DancingInTheDark-2_FINAL.mid\n",
      "Parsed 446 files\n",
      "Parsing /content/gdrive/My Drive/MusicRep/weimar_jazz/WyntonMarsalis_CherokeeII_FINAL.mid\n",
      "Parsed 447 files\n",
      "Parsing /content/gdrive/My Drive/MusicRep/weimar_jazz/WoodyShaw_Rosewood_FINAL.mid\n",
      "Parsed 448 files\n",
      "Parsing /content/gdrive/My Drive/MusicRep/weimar_jazz/WyntonMarsalis_AprilInParis_FINAL.mid\n",
      "Parsed 449 files\n",
      "Parsing /content/gdrive/My Drive/MusicRep/weimar_jazz/ZootSims_NightAndDay-1_FINAL.mid\n",
      "Parsed 450 files\n",
      "Parsing /content/gdrive/My Drive/MusicRep/weimar_jazz/ZootSims_NightAndDay-2_FINAL.mid\n",
      "Parsed 451 files\n",
      "Parsing /content/gdrive/My Drive/MusicRep/weimar_jazz/ZootSims_AllTheThingsYouAre_FINAL.mid\n",
      "Parsed 452 files\n",
      "Parsing /content/gdrive/My Drive/MusicRep/weimar_jazz/WyntonMarsalis_U.M.M.G._FINAL.mid\n",
      "Parsed 453 files\n"
     ]
    }
   ],
   "source": [
    "streams=get_streams()"
   ]
  },
  {
   "cell_type": "code",
   "execution_count": null,
   "metadata": {
    "colab": {},
    "colab_type": "code",
    "id": "L6AKHDCmriZ2"
   },
   "outputs": [],
   "source": [
    "def transpose_streams_C(streams):\n",
    "  transposed_streams=[]\n",
    "  for s in streams:\n",
    "    k = s.analyze('key')\n",
    "    i = interval.Interval(k.tonic, pitch.Pitch('C4'))\n",
    "    sNew = s.transpose(i)\n",
    "    transposed_streams.append(sNew)\n",
    "    print(k,i)\n",
    "  return transposed_streams\n"
   ]
  },
  {
   "cell_type": "code",
   "execution_count": null,
   "metadata": {
    "colab": {},
    "colab_type": "code",
    "id": "Lt8ToOZmsTaJ"
   },
   "outputs": [],
   "source": [
    "def streams_to_midi(streams):\n",
    "  resolution=4\n",
    "  notes_midi=[]\n",
    "  for s in streams:\n",
    "    stream=s.flat.notes\n",
    "    notes_list=[]\n",
    "    \n",
    "    for n in stream:\n",
    "      for d in range(int(n.quarterLength*resolution)):\n",
    "        notes_list.append(n.pitch.midi)\n",
    "      # add to the list  \n",
    "    notes_midi.append(np.asarray(notes_list))\n",
    "  return np.asarray(notes_midi)"
   ]
  },
  {
   "cell_type": "markdown",
   "metadata": {
    "colab_type": "text",
    "id": "SVmvotYU13Aq"
   },
   "source": [
    "# Dataset Analysis\n"
   ]
  },
  {
   "cell_type": "markdown",
   "metadata": {
    "colab_type": "text",
    "id": "0ZrgbBk8JEew"
   },
   "source": [
    "We assume that the data to be analyzed has been extracted in the form of either Music21 streams, or one of the encodings discussed in the report."
   ]
  },
  {
   "cell_type": "markdown",
   "metadata": {
    "colab_type": "text",
    "id": "KjnLDTqNUbOp"
   },
   "source": [
    "## Work with Music21 streams"
   ]
  },
  {
   "cell_type": "code",
   "execution_count": null,
   "metadata": {
    "colab": {
     "base_uri": "https://localhost:8080/",
     "height": 1000
    },
    "colab_type": "code",
    "id": "nxcHbF4MarQk",
    "outputId": "2c2a99b9-22d6-4515-a881-009230a20193"
   },
   "outputs": [
    {
     "name": "stderr",
     "output_type": "stream",
     "text": [
      "humdrum.spineParser: WARNING: Error in parsing event ('*MFREI6/8') at position 9 for spine None: Incorrect meter: *MFREI6/8 found\n",
      "humdrum.spineParser: WARNING: Error in parsing event ('*MX') at position 10 for spine None: Incorrect meter: *MX found\n",
      "humdrum.spineParser: WARNING: Error in parsing event ('*MX') at position 10 for spine None: Incorrect meter: *MX found\n",
      "humdrum.spineParser: WARNING: Error in parsing event ('*MX') at position 10 for spine None: Incorrect meter: *MX found\n",
      "humdrum.spineParser: WARNING: Error in parsing event ('*MX') at position 10 for spine None: Incorrect meter: *MX found\n",
      "humdrum.spineParser: WARNING: Error in parsing event ('*MFREI4/4') at position 9 for spine None: Incorrect meter: *MFREI4/4 found\n",
      "humdrum.spineParser: WARNING: Error in parsing event ('*MX') at position 10 for spine None: Incorrect meter: *MX found\n",
      "humdrum.spineParser: WARNING: Error in parsing event ('*MX') at position 10 for spine None: Incorrect meter: *MX found\n",
      "humdrum.spineParser: WARNING: Error in parsing event ('*MX') at position 10 for spine None: Incorrect meter: *MX found\n",
      "humdrum.spineParser: WARNING: Error in parsing event ('*MX') at position 14 for spine None: Incorrect meter: *MX found\n",
      "humdrum.spineParser: WARNING: Error in parsing event ('*MX') at position 14 for spine None: Incorrect meter: *MX found\n",
      "humdrum.spineParser: WARNING: Error in parsing event ('*MX') at position 12 for spine None: Incorrect meter: *MX found\n",
      "humdrum.spineParser: WARNING: Error in parsing event ('*MX') at position 8 for spine None: Incorrect meter: *MX found\n",
      "humdrum.spineParser: WARNING: Error in parsing event ('*MX') at position 8 for spine None: Incorrect meter: *MX found\n",
      "humdrum.spineParser: WARNING: Error in parsing event ('*MX') at position 8 for spine None: Incorrect meter: *MX found\n",
      "humdrum.spineParser: WARNING: Error in parsing event ('*MX') at position 8 for spine None: Incorrect meter: *MX found\n",
      "humdrum.spineParser: WARNING: Error in parsing event ('*M5/1%%%2+3%') at position 52 for spine None: Cannot parse this file -- this error often comes up if the musicxml pickled file is out of date after a change in musicxml/__init__.py . Clear your temp directory of .p and .pgz files and try again...; Time Signature: 5/1%%%2+3% \n",
      "humdrum.spineParser: WARNING: Error in parsing event ('*MFREI4/4') at position 7 for spine None: Incorrect meter: *MFREI4/4 found\n",
      "humdrum.spineParser: WARNING: Error in parsing event ('*MX') at position 8 for spine None: Incorrect meter: *MX found\n",
      "humdrum.spineParser: WARNING: Error in parsing event ('*MX') at position 8 for spine None: Incorrect meter: *MX found\n",
      "humdrum.spineParser: WARNING: Error in parsing event ('*MX') at position 8 for spine None: Incorrect meter: *MX found\n",
      "humdrum.spineParser: WARNING: Error in parsing event ('*MX') at position 8 for spine None: Incorrect meter: *MX found\n",
      "humdrum.spineParser: WARNING: Error in parsing event ('*MX') at position 10 for spine None: Incorrect meter: *MX found\n",
      "humdrum.spineParser: WARNING: Error in parsing event ('*MX') at position 10 for spine None: Incorrect meter: *MX found\n",
      "humdrum.spineParser: WARNING: Error in parsing event ('*MX') at position 10 for spine None: Incorrect meter: *MX found\n",
      "humdrum.spineParser: WARNING: Error in parsing event ('*MX') at position 10 for spine None: Incorrect meter: *MX found\n",
      "humdrum.spineParser: WARNING: Error in parsing event ('*MX') at position 10 for spine None: Incorrect meter: *MX found\n",
      "humdrum.spineParser: WARNING: Error in parsing event ('*MX') at position 10 for spine None: Incorrect meter: *MX found\n",
      "humdrum.spineParser: WARNING: Error in parsing event ('*MX') at position 10 for spine None: Incorrect meter: *MX found\n",
      "humdrum.spineParser: WARNING: Error in parsing event ('*MX') at position 10 for spine None: Incorrect meter: *MX found\n",
      "humdrum.spineParser: WARNING: Error in parsing event ('*MX') at position 10 for spine None: Incorrect meter: *MX found\n",
      "humdrum.spineParser: WARNING: Error in parsing event ('*MX') at position 10 for spine None: Incorrect meter: *MX found\n",
      "humdrum.spineParser: WARNING: Error in parsing event ('*MX') at position 10 for spine None: Incorrect meter: *MX found\n",
      "humdrum.spineParser: WARNING: Error in parsing event ('*MX') at position 10 for spine None: Incorrect meter: *MX found\n",
      "humdrum.spineParser: WARNING: Error in parsing event ('*MX') at position 10 for spine None: Incorrect meter: *MX found\n",
      "humdrum.spineParser: WARNING: Error in parsing event ('*MX') at position 10 for spine None: Incorrect meter: *MX found\n",
      "humdrum.spineParser: WARNING: Error in parsing event ('*MX') at position 10 for spine None: Incorrect meter: *MX found\n",
      "humdrum.spineParser: WARNING: Error in parsing event ('*MX') at position 10 for spine None: Incorrect meter: *MX found\n",
      "humdrum.spineParser: WARNING: Error in parsing event ('*MX') at position 11 for spine None: Incorrect meter: *MX found\n",
      "humdrum.spineParser: WARNING: Error in parsing event ('*MX') at position 10 for spine None: Incorrect meter: *MX found\n",
      "humdrum.spineParser: WARNING: Error in parsing event ('*MX') at position 10 for spine None: Incorrect meter: *MX found\n",
      "humdrum.spineParser: WARNING: Error in parsing event ('*MX') at position 10 for spine None: Incorrect meter: *MX found\n",
      "humdrum.spineParser: WARNING: Error in parsing event ('*MX') at position 11 for spine None: Incorrect meter: *MX found\n",
      "humdrum.spineParser: WARNING: Error in parsing event ('*MX') at position 10 for spine None: Incorrect meter: *MX found\n",
      "humdrum.spineParser: WARNING: Error in parsing event ('*MX') at position 10 for spine None: Incorrect meter: *MX found\n",
      "humdrum.spineParser: WARNING: Error in parsing event ('*MX') at position 10 for spine None: Incorrect meter: *MX found\n",
      "humdrum.spineParser: WARNING: Error in parsing event ('*MX') at position 10 for spine None: Incorrect meter: *MX found\n",
      "humdrum.spineParser: WARNING: Error in parsing event ('*MX') at position 10 for spine None: Incorrect meter: *MX found\n",
      "humdrum.spineParser: WARNING: Error in parsing event ('*MX') at position 10 for spine None: Incorrect meter: *MX found\n",
      "humdrum.spineParser: WARNING: Error in parsing event ('*MX') at position 10 for spine None: Incorrect meter: *MX found\n",
      "humdrum.spineParser: WARNING: Error in parsing event ('*MX') at position 10 for spine None: Incorrect meter: *MX found\n",
      "humdrum.spineParser: WARNING: Error in parsing event ('*MX') at position 10 for spine None: Incorrect meter: *MX found\n",
      "humdrum.spineParser: WARNING: Error in parsing event ('*MX') at position 10 for spine None: Incorrect meter: *MX found\n",
      "humdrum.spineParser: WARNING: Error in parsing event ('*MX') at position 10 for spine None: Incorrect meter: *MX found\n",
      "humdrum.spineParser: WARNING: Error in parsing event ('*MX') at position 10 for spine None: Incorrect meter: *MX found\n",
      "humdrum.spineParser: WARNING: Error in parsing event ('*MX') at position 10 for spine None: Incorrect meter: *MX found\n",
      "humdrum.spineParser: WARNING: Error in parsing event ('*MX') at position 10 for spine None: Incorrect meter: *MX found\n",
      "humdrum.spineParser: WARNING: Error in parsing event ('*MX') at position 10 for spine None: Incorrect meter: *MX found\n",
      "humdrum.spineParser: WARNING: Error in parsing event ('*MX') at position 10 for spine None: Incorrect meter: *MX found\n",
      "humdrum.spineParser: WARNING: Error in parsing event ('*MX') at position 10 for spine None: Incorrect meter: *MX found\n",
      "humdrum.spineParser: WARNING: Error in parsing event ('*MX') at position 10 for spine None: Incorrect meter: *MX found\n",
      "humdrum.spineParser: WARNING: Error in parsing event ('*MX') at position 10 for spine None: Incorrect meter: *MX found\n",
      "humdrum.spineParser: WARNING: Error in parsing event ('*MX') at position 10 for spine None: Incorrect meter: *MX found\n",
      "humdrum.spineParser: WARNING: Error in parsing event ('*MX') at position 10 for spine None: Incorrect meter: *MX found\n",
      "humdrum.spineParser: WARNING: Error in parsing event ('*MX') at position 10 for spine None: Incorrect meter: *MX found\n",
      "humdrum.spineParser: WARNING: Error in parsing event ('*MX') at position 10 for spine None: Incorrect meter: *MX found\n",
      "humdrum.spineParser: WARNING: Error in parsing event ('*MX') at position 10 for spine None: Incorrect meter: *MX found\n",
      "humdrum.spineParser: WARNING: Error in parsing event ('*MX') at position 10 for spine None: Incorrect meter: *MX found\n",
      "humdrum.spineParser: WARNING: Error in parsing event ('*MX') at position 10 for spine None: Incorrect meter: *MX found\n",
      "humdrum.spineParser: WARNING: Error in parsing event ('*MX') at position 10 for spine None: Incorrect meter: *MX found\n",
      "humdrum.spineParser: WARNING: Error in parsing event ('*MX') at position 10 for spine None: Incorrect meter: *MX found\n",
      "humdrum.spineParser: WARNING: Error in parsing event ('*MX') at position 10 for spine None: Incorrect meter: *MX found\n",
      "humdrum.spineParser: WARNING: Error in parsing event ('*MX') at position 10 for spine None: Incorrect meter: *MX found\n",
      "humdrum.spineParser: WARNING: Error in parsing event ('*MX') at position 10 for spine None: Incorrect meter: *MX found\n",
      "humdrum.spineParser: WARNING: Error in parsing event ('*MX') at position 10 for spine None: Incorrect meter: *MX found\n",
      "humdrum.spineParser: WARNING: Error in parsing event ('*MX') at position 10 for spine None: Incorrect meter: *MX found\n",
      "humdrum.spineParser: WARNING: Error in parsing event ('*MX') at position 10 for spine None: Incorrect meter: *MX found\n",
      "humdrum.spineParser: WARNING: Error in parsing event ('*MX') at position 10 for spine None: Incorrect meter: *MX found\n",
      "humdrum.spineParser: WARNING: Error in parsing event ('*MX') at position 10 for spine None: Incorrect meter: *MX found\n",
      "humdrum.spineParser: WARNING: Error in parsing event ('*MX') at position 10 for spine None: Incorrect meter: *MX found\n",
      "humdrum.spineParser: WARNING: Error in parsing event ('*MX') at position 10 for spine None: Incorrect meter: *MX found\n",
      "humdrum.spineParser: WARNING: Error in parsing event ('*MX') at position 11 for spine None: Incorrect meter: *MX found\n",
      "humdrum.spineParser: WARNING: Error in parsing event ('*MX') at position 10 for spine None: Incorrect meter: *MX found\n",
      "humdrum.spineParser: WARNING: Error in parsing event ('*MX') at position 10 for spine None: Incorrect meter: *MX found\n",
      "humdrum.spineParser: WARNING: Error in parsing event ('*MX') at position 10 for spine None: Incorrect meter: *MX found\n",
      "humdrum.spineParser: WARNING: Error in parsing event ('*MX') at position 10 for spine None: Incorrect meter: *MX found\n",
      "humdrum.spineParser: WARNING: Error in parsing event ('*MX') at position 10 for spine None: Incorrect meter: *MX found\n",
      "humdrum.spineParser: WARNING: Error in parsing event ('*MX') at position 11 for spine None: Incorrect meter: *MX found\n",
      "humdrum.spineParser: WARNING: Error in parsing event ('*MX') at position 10 for spine None: Incorrect meter: *MX found\n",
      "humdrum.spineParser: WARNING: Error in parsing event ('*MX') at position 10 for spine None: Incorrect meter: *MX found\n",
      "humdrum.spineParser: WARNING: Error in parsing event ('*MX') at position 10 for spine None: Incorrect meter: *MX found\n",
      "humdrum.spineParser: WARNING: Error in parsing event ('*MX') at position 10 for spine None: Incorrect meter: *MX found\n",
      "humdrum.spineParser: WARNING: Error in parsing event ('*MX') at position 10 for spine None: Incorrect meter: *MX found\n",
      "humdrum.spineParser: WARNING: Error in parsing event ('*MX') at position 10 for spine None: Incorrect meter: *MX found\n",
      "humdrum.spineParser: WARNING: Error in parsing event ('*MX') at position 10 for spine None: Incorrect meter: *MX found\n",
      "humdrum.spineParser: WARNING: Error in parsing event ('*MX') at position 10 for spine None: Incorrect meter: *MX found\n",
      "humdrum.spineParser: WARNING: Error in parsing event ('*MX') at position 10 for spine None: Incorrect meter: *MX found\n",
      "humdrum.spineParser: WARNING: Error in parsing event ('*MX') at position 10 for spine None: Incorrect meter: *MX found\n",
      "humdrum.spineParser: WARNING: Error in parsing event ('*MX') at position 10 for spine None: Incorrect meter: *MX found\n",
      "humdrum.spineParser: WARNING: Error in parsing event ('*MX') at position 10 for spine None: Incorrect meter: *MX found\n",
      "humdrum.spineParser: WARNING: Error in parsing event ('*MX') at position 10 for spine None: Incorrect meter: *MX found\n",
      "humdrum.spineParser: WARNING: Error in parsing event ('*MX') at position 10 for spine None: Incorrect meter: *MX found\n",
      "humdrum.spineParser: WARNING: Error in parsing event ('*MX') at position 10 for spine None: Incorrect meter: *MX found\n",
      "humdrum.spineParser: WARNING: Error in parsing event ('*MX') at position 10 for spine None: Incorrect meter: *MX found\n",
      "humdrum.spineParser: WARNING: Error in parsing event ('*MX') at position 10 for spine None: Incorrect meter: *MX found\n",
      "humdrum.spineParser: WARNING: Error in parsing event ('*MX') at position 10 for spine None: Incorrect meter: *MX found\n",
      "humdrum.spineParser: WARNING: Error in parsing event ('*MX') at position 10 for spine None: Incorrect meter: *MX found\n",
      "humdrum.spineParser: WARNING: Error in parsing event ('*MX') at position 10 for spine None: Incorrect meter: *MX found\n",
      "humdrum.spineParser: WARNING: Error in parsing event ('*MX') at position 10 for spine None: Incorrect meter: *MX found\n",
      "humdrum.spineParser: WARNING: Error in parsing event ('*MX') at position 10 for spine None: Incorrect meter: *MX found\n",
      "humdrum.spineParser: WARNING: Error in parsing event ('*MX') at position 10 for spine None: Incorrect meter: *MX found\n",
      "humdrum.spineParser: WARNING: Error in parsing event ('*MX') at position 10 for spine None: Incorrect meter: *MX found\n",
      "humdrum.spineParser: WARNING: Error in parsing event ('*MX') at position 10 for spine None: Incorrect meter: *MX found\n",
      "humdrum.spineParser: WARNING: Error in parsing event ('*MX') at position 8 for spine None: Incorrect meter: *MX found\n",
      "humdrum.spineParser: WARNING: Error in parsing event ('*MX') at position 8 for spine None: Incorrect meter: *MX found\n",
      "humdrum.spineParser: WARNING: Error in parsing event ('*MX') at position 8 for spine None: Incorrect meter: *MX found\n",
      "humdrum.spineParser: WARNING: Error in parsing event ('*MX') at position 8 for spine None: Incorrect meter: *MX found\n",
      "humdrum.spineParser: WARNING: Error in parsing event ('*MFREI4/4') at position 7 for spine None: Incorrect meter: *MFREI4/4 found\n",
      "humdrum.spineParser: WARNING: Error in parsing event ('*MX') at position 8 for spine None: Incorrect meter: *MX found\n",
      "humdrum.spineParser: WARNING: Error in parsing event ('*MX') at position 8 for spine None: Incorrect meter: *MX found\n",
      "humdrum.spineParser: WARNING: Error in parsing event ('*MX') at position 8 for spine None: Incorrect meter: *MX found\n",
      "humdrum.spineParser: WARNING: Error in parsing event ('*MX') at position 8 for spine None: Incorrect meter: *MX found\n",
      "humdrum.spineParser: WARNING: Error in parsing event ('*MX') at position 8 for spine None: Incorrect meter: *MX found\n",
      "humdrum.spineParser: WARNING: Error in parsing event ('*MX') at position 8 for spine None: Incorrect meter: *MX found\n",
      "humdrum.spineParser: WARNING: Error in parsing event ('*MX') at position 8 for spine None: Incorrect meter: *MX found\n",
      "humdrum.spineParser: WARNING: Error in parsing event ('*MX') at position 10 for spine None: Incorrect meter: *MX found\n",
      "humdrum.spineParser: WARNING: Error in parsing event ('*MX') at position 8 for spine None: Incorrect meter: *MX found\n",
      "humdrum.spineParser: WARNING: Error in parsing event ('*MX') at position 10 for spine None: Incorrect meter: *MX found\n",
      "humdrum.spineParser: WARNING: Error in parsing event ('*MX') at position 10 for spine None: Incorrect meter: *MX found\n",
      "humdrum.spineParser: WARNING: Error in parsing event ('*MX') at position 10 for spine None: Incorrect meter: *MX found\n",
      "humdrum.spineParser: WARNING: Error in parsing event ('*MX') at position 10 for spine None: Incorrect meter: *MX found\n",
      "humdrum.spineParser: WARNING: Error in parsing event ('*MX') at position 10 for spine None: Incorrect meter: *MX found\n",
      "humdrum.spineParser: WARNING: Error in parsing event ('*MX') at position 10 for spine None: Incorrect meter: *MX found\n",
      "humdrum.spineParser: WARNING: Error in parsing event ('*MX') at position 10 for spine None: Incorrect meter: *MX found\n",
      "humdrum.spineParser: WARNING: Error in parsing event ('*MX') at position 10 for spine None: Incorrect meter: *MX found\n",
      "humdrum.spineParser: WARNING: Error in parsing event ('*MX') at position 10 for spine None: Incorrect meter: *MX found\n",
      "humdrum.spineParser: WARNING: Error in parsing event ('*MX') at position 10 for spine None: Incorrect meter: *MX found\n",
      "humdrum.spineParser: WARNING: Error in parsing event ('*MX') at position 10 for spine None: Incorrect meter: *MX found\n",
      "humdrum.spineParser: WARNING: Error in parsing event ('*MX') at position 10 for spine None: Incorrect meter: *MX found\n",
      "humdrum.spineParser: WARNING: Error in parsing event ('*MX') at position 10 for spine None: Incorrect meter: *MX found\n",
      "humdrum.spineParser: WARNING: Error in parsing event ('*MX') at position 10 for spine None: Incorrect meter: *MX found\n",
      "humdrum.spineParser: WARNING: Error in parsing event ('*MX') at position 10 for spine None: Incorrect meter: *MX found\n",
      "humdrum.spineParser: WARNING: Error in parsing event ('*MX') at position 10 for spine None: Incorrect meter: *MX found\n",
      "humdrum.spineParser: WARNING: Error in parsing event ('*MX') at position 10 for spine None: Incorrect meter: *MX found\n",
      "humdrum.spineParser: WARNING: Error in parsing event ('*MX') at position 10 for spine None: Incorrect meter: *MX found\n",
      "humdrum.spineParser: WARNING: Error in parsing event ('*MX') at position 10 for spine None: Incorrect meter: *MX found\n",
      "humdrum.spineParser: WARNING: Error in parsing event ('*MX') at position 10 for spine None: Incorrect meter: *MX found\n",
      "humdrum.spineParser: WARNING: Error in parsing event ('*MX') at position 10 for spine None: Incorrect meter: *MX found\n",
      "humdrum.spineParser: WARNING: Error in parsing event ('*MX') at position 10 for spine None: Incorrect meter: *MX found\n",
      "humdrum.spineParser: WARNING: Error in parsing event ('*MX') at position 10 for spine None: Incorrect meter: *MX found\n",
      "humdrum.spineParser: WARNING: Error in parsing event ('*MX') at position 10 for spine None: Incorrect meter: *MX found\n",
      "humdrum.spineParser: WARNING: Error in parsing event ('*MX') at position 8 for spine None: Incorrect meter: *MX found\n",
      "humdrum.spineParser: WARNING: Error in parsing event ('*MX') at position 10 for spine None: Incorrect meter: *MX found\n",
      "humdrum.spineParser: WARNING: Error in parsing event ('*MX') at position 10 for spine None: Incorrect meter: *MX found\n",
      "humdrum.spineParser: WARNING: Error in parsing event ('*MX') at position 10 for spine None: Incorrect meter: *MX found\n"
     ]
    }
   ],
   "source": [
    "streams=[converter.parse(file) for file in glob.glob('kern_scores/**/*.krn',recursive=True)]"
   ]
  },
  {
   "cell_type": "code",
   "execution_count": null,
   "metadata": {
    "colab": {},
    "colab_type": "code",
    "id": "MYivAZGQjnhy"
   },
   "outputs": [],
   "source": [
    "with open('data/transposed_streams_C', 'wb') as filepath:\n",
    "    pickle.dump(tstreams, filepath)"
   ]
  },
  {
   "cell_type": "code",
   "execution_count": null,
   "metadata": {
    "colab": {},
    "colab_type": "code",
    "id": "FXFlnphnKiYG"
   },
   "outputs": [],
   "source": [
    "streams=pd.read_pickle(r'data/streams')"
   ]
  },
  {
   "cell_type": "code",
   "execution_count": null,
   "metadata": {
    "colab": {},
    "colab_type": "code",
    "id": "WDCUci3d4t3F"
   },
   "outputs": [],
   "source": [
    "#load the dataset as music21 streams\n",
    "streams = pd.read_pickle(r'data/streams')"
   ]
  },
  {
   "cell_type": "code",
   "execution_count": null,
   "metadata": {
    "colab": {
     "base_uri": "https://localhost:8080/",
     "height": 34
    },
    "colab_type": "code",
    "id": "L7DKV14cbAUP",
    "outputId": "1e36bd50-79fe-4529-a502-1bba9f188910"
   },
   "outputs": [
    {
     "data": {
      "text/plain": [
       "7264"
      ]
     },
     "execution_count": 6,
     "metadata": {
      "tags": []
     },
     "output_type": "execute_result"
    }
   ],
   "source": [
    "len(streams)"
   ]
  },
  {
   "cell_type": "code",
   "execution_count": null,
   "metadata": {
    "colab": {
     "base_uri": "https://localhost:8080/",
     "height": 34
    },
    "colab_type": "code",
    "id": "S4Htkov76Wah",
    "outputId": "c4a8a4a9-1f2b-401d-d877-5ff97ca68ff6"
   },
   "outputs": [
    {
     "data": {
      "text/plain": [
       "<music21.stream.Part 0x7fa8e41155f8>"
      ]
     },
     "execution_count": 20,
     "metadata": {
      "tags": []
     },
     "output_type": "execute_result"
    }
   ],
   "source": [
    "streams[0][0]"
   ]
  },
  {
   "cell_type": "code",
   "execution_count": null,
   "metadata": {
    "colab": {},
    "colab_type": "code",
    "id": "WNT2eWOy6ll3"
   },
   "outputs": [],
   "source": [
    "streams=streams.flatten()"
   ]
  },
  {
   "cell_type": "code",
   "execution_count": null,
   "metadata": {
    "colab": {},
    "colab_type": "code",
    "id": "mdeeUtzXZnp-"
   },
   "outputs": [],
   "source": [
    "#The following preprocessing step isolates one part of each stream\n",
    "#Since they are all monophonic, thus having only one part, this serves as to retain only the needed information in a flat structure\n",
    "sstreams=[]\n",
    "for midi in ssstreams:\n",
    "  try: # file has instrument parts\n",
    "    s2 = instrument.partitionByInstrument(midi) #Change to only grab the piano???\n",
    "    notes_to_parse = s2.parts[0].recurse() \n",
    "    if len(s2.parts)!=1:\n",
    "      print(notes_to_parse[0])\n",
    "  except: # file has notes in a flat structure\n",
    "    notes_to_parse = midi.flat.notes\n",
    "  sstreams.append(notes_to_parse)"
   ]
  },
  {
   "cell_type": "code",
   "execution_count": null,
   "metadata": {
    "colab": {
     "base_uri": "https://localhost:8080/",
     "height": 1000
    },
    "colab_type": "code",
    "id": "05n2rxFxEESK",
    "outputId": "82310825-1921-4e5d-8159-398e9998f231"
   },
   "outputs": [
    {
     "name": "stdout",
     "output_type": "stream",
     "text": [
      "{0.0} <music21.tempo.MetronomeMark Quarter=219.0>\n",
      "{0.0} <music21.key.Key of B- major>\n",
      "{0.0} <music21.meter.TimeSignature 4/4>\n",
      "{0.0} <music21.note.Rest rest>\n",
      "{37.75} <music21.note.Note F>\n",
      "{38.25} <music21.note.Rest rest>\n",
      "{38.75} <music21.note.Note E->\n",
      "{39.4167} <music21.note.Rest rest>\n",
      "{39.5} <music21.note.Note B->\n",
      "{39.75} <music21.note.Rest rest>\n",
      "{40.0} <music21.note.Note C#>\n",
      "{40.75} <music21.note.Rest rest>\n",
      "{41.0} <music21.note.Note E->\n",
      "{41.5} <music21.note.Rest rest>\n",
      "{42.25} <music21.note.Note B->\n",
      "{42.9167} <music21.note.Rest rest>\n",
      "{43.25} <music21.note.Note B->\n",
      "{45.0} <music21.note.Rest rest>\n",
      "{53.0} <music21.note.Note D>\n",
      "{53.5} <music21.note.Rest rest>\n",
      "{54.0} <music21.note.Note A>\n",
      "{54.5} <music21.note.Rest rest>\n",
      "{54.6667} <music21.note.Note C>\n",
      "{55.0} <music21.note.Note B->\n",
      "{55.5} <music21.note.Rest rest>\n",
      "{55.75} <music21.note.Note G>\n",
      "{56.0833} <music21.note.Rest rest>\n",
      "{56.6667} <music21.note.Note B->\n",
      "{57.0} <music21.note.Note C#>\n",
      "{58.0} <music21.note.Rest rest>\n",
      "{58.25} <music21.note.Note C>\n",
      "{58.75} <music21.note.Note B->\n",
      "{59.0833} <music21.note.Rest rest>\n",
      "{59.25} <music21.note.Note C>\n",
      "{60.5833} <music21.note.Rest rest>\n",
      "{60.75} <music21.note.Note B->\n",
      "{61.25} <music21.note.Note G#>\n",
      "{61.75} <music21.note.Note C>\n",
      "{62.25} <music21.note.Rest rest>\n",
      "{62.3333} <music21.note.Note B>\n",
      "{62.6667} <music21.note.Rest rest>\n",
      "{63.0} <music21.note.Note A>\n",
      "{63.3333} <music21.note.Note B->\n",
      "{63.8333} <music21.note.Rest rest>\n",
      "{64.0} <music21.note.Note F#>\n",
      "{64.6667} <music21.note.Note G>\n",
      "{65.0} <music21.note.Note B->\n",
      "{65.25} <music21.note.Rest rest>\n",
      "{65.3333} <music21.note.Note C#>\n",
      "{65.8333} <music21.note.Rest rest>\n",
      "{66.25} <music21.note.Note G#>\n",
      "{66.5} <music21.note.Note C#>\n",
      "{67.0} <music21.note.Note D>\n",
      "{67.3333} <music21.note.Rest rest>\n",
      "{67.5} <music21.note.Note B->\n",
      "{68.0} <music21.note.Note C>\n",
      "{68.5} <music21.note.Rest rest>\n",
      "{68.6667} <music21.note.Note G>\n",
      "{69.0} <music21.note.Note B->\n",
      "{70.0} <music21.note.Rest rest>\n",
      "{70.25} <music21.note.Note B->\n",
      "{70.5833} <music21.note.Rest rest>\n",
      "{76.3333} <music21.note.Note F>\n",
      "{76.6667} <music21.note.Rest rest>\n",
      "{76.75} <music21.note.Note D>\n",
      "{77.25} <music21.note.Rest rest>\n",
      "{77.3333} <music21.note.Note C>\n",
      "{77.8333} <music21.note.Rest rest>\n",
      "{78.0} <music21.note.Note B>\n",
      "{78.5} <music21.note.Rest rest>\n",
      "{78.6667} <music21.note.Note G>\n",
      "{79.0} <music21.note.Rest rest>\n",
      "{80.0} <music21.note.Note C>\n",
      "{80.6667} <music21.note.Rest rest>\n",
      "{81.0} <music21.note.Note B->\n",
      "{81.3333} <music21.note.Note C>\n",
      "{81.5} <music21.note.Note B->\n",
      "{81.5833} <music21.note.Rest rest>\n",
      "{81.6667} <music21.note.Note G>\n",
      "{82.0} <music21.note.Rest rest>\n",
      "{82.25} <music21.note.Note A>\n",
      "{82.5833} <music21.note.Rest rest>\n",
      "{82.75} <music21.note.Note F>\n",
      "{83.25} <music21.note.Rest rest>\n",
      "{86.3333} <music21.note.Note D>\n",
      "{86.8333} <music21.note.Rest rest>\n",
      "{87.25} <music21.note.Note G#>\n",
      "{87.75} <music21.note.Note B->\n",
      "{88.25} <music21.note.Rest rest>\n",
      "{88.3333} <music21.note.Note F#>\n",
      "{88.8333} <music21.note.Rest rest>\n",
      "{89.0} <music21.note.Note G>\n",
      "{89.3333} <music21.note.Note C>\n",
      "{89.8333} <music21.note.Rest rest>\n",
      "{90.0} <music21.note.Note B->\n",
      "{90.5} <music21.note.Note A>\n",
      "{91.0} <music21.note.Note C>\n",
      "{91.3333} <music21.note.Rest rest>\n",
      "{91.5} <music21.note.Note E->\n",
      "{92.1667} <music21.note.Rest rest>\n",
      "{92.6667} <music21.note.Note G#>\n",
      "{93.6667} <music21.note.Note G>\n",
      "{94.1667} <music21.note.Rest rest>\n",
      "{94.25} <music21.note.Note F#>\n",
      "{94.75} <music21.note.Note F>\n",
      "{95.25} <music21.note.Note D>\n",
      "{95.75} <music21.note.Note B->\n",
      "{96.25} <music21.note.Rest rest>\n",
      "{96.6667} <music21.note.Note E->\n",
      "{97.3333} <music21.note.Rest rest>\n",
      "{97.6667} <music21.note.Note B->\n",
      "{98.1667} <music21.note.Rest rest>\n",
      "{98.3333} <music21.note.Note G>\n",
      "{98.6667} <music21.note.Note C#>\n",
      "{100.1667} <music21.note.Rest rest>\n",
      "{100.3333} <music21.note.Note B->\n",
      "{100.6667} <music21.note.Rest rest>\n",
      "{100.75} <music21.note.Note C>\n",
      "{101.0} <music21.note.Note D>\n",
      "{101.25} <music21.note.Note C>\n",
      "{101.5} <music21.note.Note B->\n",
      "{101.75} <music21.note.Note A>\n",
      "{102.25} <music21.note.Rest rest>\n",
      "{102.3333} <music21.note.Note B->\n",
      "{104.0} <music21.note.Rest rest>\n",
      "{108.75} <music21.note.Note D>\n",
      "{109.25} <music21.note.Rest rest>\n",
      "{109.5} <music21.note.Note F#>\n",
      "{110.0} <music21.note.Rest rest>\n",
      "{113.0} <music21.note.Note C>\n",
      "{113.3333} <music21.note.Rest rest>\n",
      "{114.0} <music21.note.Note E>\n",
      "{114.6667} <music21.note.Rest rest>\n",
      "{114.75} <music21.note.Note C>\n",
      "{115.0} <music21.note.Rest rest>\n",
      "{115.25} <music21.note.Note D>\n",
      "{117.0} <music21.note.Rest rest>\n",
      "{119.0} <music21.note.Note B>\n",
      "{119.5} <music21.note.Rest rest>\n",
      "{120.25} <music21.note.Note G>\n",
      "{120.75} <music21.note.Rest rest>\n",
      "{121.0} <music21.note.Note D>\n",
      "{121.3333} <music21.note.Note F>\n",
      "{121.8333} <music21.note.Rest rest>\n",
      "{122.0} <music21.note.Note G>\n",
      "{122.5} <music21.note.Rest rest>\n",
      "{127.5} <music21.note.Note E>\n",
      "{128.0} <music21.note.Note F>\n",
      "{128.25} <music21.note.Rest rest>\n",
      "{128.3333} <music21.note.Note G>\n",
      "{128.8333} <music21.note.Rest rest>\n",
      "{129.0} <music21.note.Note A>\n",
      "{129.5} <music21.note.Note B->\n",
      "{130.1667} <music21.note.Rest rest>\n",
      "{130.25} <music21.note.Note C>\n",
      "{130.5833} <music21.note.Rest rest>\n",
      "{130.6667} <music21.note.Note D>\n",
      "{131.0} <music21.note.Note C>\n",
      "{131.5} <music21.note.Rest rest>\n",
      "{131.6667} <music21.note.Note B->\n",
      "{132.1667} <music21.note.Rest rest>\n",
      "{132.25} <music21.note.Note G>\n",
      "{132.5833} <music21.note.Rest rest>\n",
      "{135.5} <music21.note.Note G>\n",
      "{136.0} <music21.note.Note E->\n",
      "{136.5} <music21.note.Rest rest>\n",
      "{136.6667} <music21.note.Note C>\n",
      "{137.0} <music21.note.Note B->\n",
      "{137.5} <music21.note.Rest rest>\n",
      "{137.6667} <music21.note.Note A>\n",
      "{138.1667} <music21.note.Rest rest>\n",
      "{138.6667} <music21.note.Note F>\n",
      "{139.1667} <music21.note.Rest rest>\n",
      "{139.25} <music21.note.Note C>\n",
      "{139.5833} <music21.note.Rest rest>\n",
      "{139.6667} <music21.note.Note E->\n",
      "{140.3333} <music21.note.Note F>\n",
      "{140.6667} <music21.note.Rest rest>\n",
      "{144.3333} <music21.note.Note C#>\n",
      "{145.0} <music21.note.Rest rest>\n",
      "{145.5} <music21.note.Note F>\n",
      "{145.75} <music21.note.Note B->\n",
      "{146.4167} <music21.note.Rest rest>\n",
      "{146.5} <music21.note.Note F>\n",
      "{147.0} <music21.note.Rest rest>\n",
      "{147.6667} <music21.note.Note C>\n",
      "{147.75} <music21.note.Note E->\n",
      "{148.5} <music21.note.Rest rest>\n",
      "{148.75} <music21.note.Note B->\n",
      "{150.0} <music21.note.Rest rest>\n",
      "{153.75} <music21.note.Note E->\n",
      "{154.4167} <music21.note.Rest rest>\n",
      "{154.75} <music21.note.Note B->\n",
      "{155.5} <music21.note.Rest rest>\n",
      "{155.75} <music21.note.Note E>\n",
      "{156.75} <music21.note.Note B->\n",
      "{161.4167} <music21.note.Rest rest>\n",
      "{162.0} <music21.note.Note G#>\n",
      "{162.6667} <music21.note.Note G>\n",
      "{163.0} <music21.note.Rest rest>\n",
      "{163.25} <music21.note.Note G#>\n",
      "{163.6667} <music21.note.Note G>\n",
      "{164.0} <music21.note.Rest rest>\n",
      "{164.25} <music21.note.Note F>\n",
      "{164.5833} <music21.note.Rest rest>\n",
      "{164.6667} <music21.note.Note E->\n",
      "{165.0} <music21.note.Note C>\n",
      "{165.5} <music21.note.Rest rest>\n",
      "{165.6667} <music21.note.Note C#>\n",
      "{166.0} <music21.note.Note D>\n",
      "{166.5} <music21.note.Rest rest>\n",
      "{166.6667} <music21.note.Note B->\n",
      "{167.0} <music21.note.Note G#>\n",
      "{167.5} <music21.note.Rest rest>\n",
      "{167.6667} <music21.note.Note B->\n",
      "{169.6667} <music21.note.Rest rest>\n",
      "{174.75} <music21.note.Note B->\n",
      "{175.25} <music21.note.Rest rest>\n",
      "{175.3333} <music21.note.Note D>\n",
      "{176.0} <music21.note.Note E->\n",
      "{176.25} <music21.note.Rest rest>\n",
      "{176.3333} <music21.note.Note F>\n",
      "{177.0} <music21.note.Note G>\n",
      "{177.5} <music21.note.Rest rest>\n",
      "{184.0} <music21.note.Note C#>\n",
      "{184.3333} <music21.note.Rest rest>\n",
      "{184.5} <music21.note.Note D>\n",
      "{185.0} <music21.note.Note F>\n",
      "{185.25} <music21.note.Rest rest>\n",
      "{185.5} <music21.note.Note G#>\n",
      "{186.0} <music21.note.Note G>\n",
      "{186.3333} <music21.note.Rest rest>\n",
      "{186.5} <music21.note.Note F>\n",
      "{187.0} <music21.note.Note E->\n",
      "{187.5} <music21.note.Rest rest>\n",
      "{187.6667} <music21.note.Note C>\n",
      "{188.0} <music21.note.Note C#>\n",
      "{188.3333} <music21.note.Rest rest>\n",
      "{188.5} <music21.note.Note D>\n",
      "{189.0} <music21.note.Note B->\n",
      "{189.3333} <music21.note.Rest rest>\n",
      "{189.5} <music21.note.Note F>\n",
      "{189.8333} <music21.note.Rest rest>\n",
      "{190.0} <music21.note.Note E>\n",
      "{190.5} <music21.note.Note D>\n",
      "{190.6667} <music21.note.Note E->\n",
      "{190.9167} <music21.note.Rest rest>\n",
      "{191.0} <music21.note.Note G>\n",
      "{191.6667} <music21.note.Note F#>\n",
      "{192.1667} <music21.note.Rest rest>\n",
      "{192.25} <music21.note.Note E>\n",
      "{192.5833} <music21.note.Rest rest>\n",
      "{192.6667} <music21.note.Note F>\n",
      "{193.0} <music21.note.Note C#>\n",
      "{193.3333} <music21.note.Rest rest>\n",
      "{194.0} <music21.note.Note F>\n",
      "{194.25} <music21.note.Rest rest>\n",
      "{194.5} <music21.note.Note B->\n",
      "{195.8333} <music21.note.Rest rest>\n",
      "{196.0} <music21.note.Note G>\n",
      "{196.25} <music21.note.Note E->\n",
      "{196.3333} <music21.note.Note C>\n",
      "{196.6667} <music21.note.Rest rest>\n",
      "{196.75} <music21.note.Note C#>\n",
      "{197.25} <music21.note.Note G#>\n",
      "{197.5833} <music21.note.Rest rest>\n",
      "{201.3333} <music21.note.Note F>\n",
      "{201.6667} <music21.note.Rest rest>\n",
      "{201.75} <music21.note.Note E>\n",
      "{202.75} <music21.note.Rest rest>\n",
      "{203.0} <music21.note.Note G>\n",
      "{203.3333} <music21.note.Rest rest>\n",
      "{203.5} <music21.note.Note E->\n",
      "{203.8333} <music21.note.Rest rest>\n",
      "{204.25} <music21.note.Note C>\n",
      "{204.5} <music21.note.Rest rest>\n",
      "{204.6667} <music21.note.Note F>\n",
      "{205.1667} <music21.note.Rest rest>\n",
      "{205.25} <music21.note.Note D>\n",
      "{205.5833} <music21.note.Rest rest>\n",
      "{205.6667} <music21.note.Note E->\n",
      "{206.0} <music21.note.Rest rest>\n",
      "{206.25} <music21.note.Note F>\n",
      "{206.5833} <music21.note.Rest rest>\n",
      "{206.6667} <music21.note.Note C#>\n",
      "{207.1667} <music21.note.Rest rest>\n",
      "{207.25} <music21.note.Note D>\n",
      "{207.5833} <music21.note.Rest rest>\n",
      "{207.6667} <music21.note.Note E->\n",
      "{208.1667} <music21.note.Rest rest>\n",
      "{208.25} <music21.note.Note C#>\n",
      "{208.5} <music21.note.Rest rest>\n",
      "{208.6667} <music21.note.Note D>\n",
      "{209.1667} <music21.note.Rest rest>\n",
      "{209.25} <music21.note.Note B->\n",
      "{209.5833} <music21.note.Rest rest>\n",
      "{209.6667} <music21.note.Note F>\n",
      "{210.1667} <music21.note.Rest rest>\n",
      "{210.25} <music21.note.Note E->\n",
      "{212.0} <music21.note.Note B->\n",
      "{212.3333} <music21.note.Rest rest>\n",
      "{212.6667} <music21.note.Note E->\n",
      "{213.1667} <music21.note.Rest rest>\n",
      "{213.25} <music21.note.Note E>\n",
      "{214.25} <music21.note.Note F>\n",
      "{216.0} <music21.note.Rest rest>\n",
      "{219.25} <music21.note.Note F>\n",
      "{219.5833} <music21.note.Rest rest>\n",
      "{219.6667} <music21.note.Note E->\n",
      "{220.1667} <music21.note.Rest rest>\n",
      "{220.25} <music21.note.Note G>\n",
      "{220.5} <music21.note.Note B->\n",
      "{221.0} <music21.note.Rest rest>\n",
      "{221.25} <music21.note.Note C#>\n",
      "{221.75} <music21.note.Note A>\n",
      "{222.0833} <music21.note.Rest rest>\n",
      "{222.3333} <music21.note.Note C>\n",
      "{222.6667} <music21.note.Rest rest>\n",
      "{222.75} <music21.note.Note A>\n",
      "{223.0833} <music21.note.Rest rest>\n",
      "{223.3333} <music21.note.Note B->\n",
      "{223.5833} <music21.note.Rest rest>\n",
      "{223.6667} <music21.note.Note D>\n",
      "{224.1667} <music21.note.Rest rest>\n",
      "{224.25} <music21.note.Note B->\n",
      "{224.5833} <music21.note.Rest rest>\n",
      "{224.75} <music21.note.Note F>\n",
      "{225.3333} <music21.note.Note D>\n",
      "{225.6667} <music21.note.Rest rest>\n",
      "{225.75} <music21.note.Note B->\n",
      "{226.0833} <music21.note.Rest rest>\n",
      "{226.25} <music21.note.Note E->\n",
      "{228.0} <music21.note.Rest rest>\n",
      "{228.6667} <music21.note.Note C#>\n",
      "{229.3333} <music21.note.Note B->\n",
      "{229.6667} <music21.note.Note C>\n",
      "{230.3333} <music21.note.Rest rest>\n",
      "{230.75} <music21.note.Note B->\n",
      "{231.25} <music21.note.Rest rest>\n",
      "{231.3333} <music21.note.Note F>\n",
      "{231.5833} <music21.note.Rest rest>\n",
      "{231.6667} <music21.note.Note A>\n",
      "{232.25} <music21.note.Note B->\n",
      "{233.9167} <music21.note.Rest rest>\n",
      "{238.5} <music21.note.Note E>\n",
      "{238.8333} <music21.note.Rest rest>\n",
      "{239.25} <music21.note.Note G>\n",
      "{239.75} <music21.note.Rest rest>\n",
      "{242.6667} <music21.note.Note F#>\n",
      "{243.1667} <music21.note.Rest rest>\n",
      "{243.75} <music21.note.Note A>\n",
      "{244.4167} <music21.note.Rest rest>\n",
      "{244.75} <music21.note.Note D>\n",
      "{248.4167} <music21.note.Rest rest>\n",
      "{248.75} <music21.note.Note B>\n",
      "{249.4167} <music21.note.Rest rest>\n",
      "{249.5} <music21.note.Note D>\n",
      "{249.75} <music21.note.Note G>\n",
      "{250.25} <music21.note.Rest rest>\n",
      "{250.3333} <music21.note.Note F#>\n",
      "{250.6667} <music21.note.Rest rest>\n",
      "{250.75} <music21.note.Note F>\n",
      "{251.4167} <music21.note.Rest rest>\n",
      "{252.0} <music21.note.Note D>\n",
      "{252.25} <music21.note.Note E->\n",
      "{252.5} <music21.note.Note D>\n",
      "{252.75} <music21.note.Note C>\n",
      "{253.4167} <music21.note.Rest rest>\n",
      "{253.5} <music21.note.Note B>\n",
      "{254.0} <music21.note.Rest rest>\n",
      "{257.6667} <music21.note.Note D>\n",
      "{258.1667} <music21.note.Rest rest>\n",
      "{258.25} <music21.note.Note A>\n",
      "{260.0} <music21.note.Rest rest>\n",
      "{261.5} <music21.note.Note G>\n",
      "{262.1667} <music21.note.Rest rest>\n",
      "{262.25} <music21.note.Note B->\n",
      "{264.0} <music21.note.Rest rest>\n",
      "{266.75} <music21.note.Note G>\n",
      "{267.25} <music21.note.Note A>\n",
      "{267.3333} <music21.note.Note G>\n",
      "{267.5833} <music21.note.Rest rest>\n",
      "{267.6667} <music21.note.Note E->\n",
      "{268.3333} <music21.note.Note F>\n",
      "{268.5833} <music21.note.Rest rest>\n",
      "{268.6667} <music21.note.Note B->\n",
      "{269.1667} <music21.note.Rest rest>\n",
      "{269.3333} <music21.note.Note C>\n",
      "{269.8333} <music21.note.Rest rest>\n",
      "{274.3333} <music21.note.Note C>\n",
      "{274.8333} <music21.note.Rest rest>\n",
      "{275.0} <music21.note.Note D>\n",
      "{280.25} <music21.note.Rest rest>\n",
      "{282.5} <music21.note.Note B->\n",
      "{283.0} <music21.note.Rest rest>\n",
      "{283.25} <music21.note.Note G#>\n",
      "{283.5833} <music21.note.Rest rest>\n",
      "{283.6667} <music21.note.Note B->\n",
      "{284.1667} <music21.note.Rest rest>\n",
      "{284.25} <music21.note.Note G#>\n",
      "{284.5833} <music21.note.Rest rest>\n",
      "{284.6667} <music21.note.Note F>\n",
      "{285.1667} <music21.note.Rest rest>\n",
      "{285.25} <music21.note.Note G>\n",
      "{285.5} <music21.note.Note F>\n",
      "{285.6667} <music21.note.Note E>\n",
      "{286.1667} <music21.note.Rest rest>\n",
      "{286.25} <music21.note.Note G>\n",
      "{286.5833} <music21.note.Rest rest>\n",
      "{286.6667} <music21.note.Note F>\n",
      "{287.0} <music21.note.Note E>\n",
      "{287.0} <music21.note.Rest rest>\n",
      "{287.25} <music21.note.Note D>\n",
      "{287.6667} <music21.note.Note B->\n",
      "{288.1667} <music21.note.Rest rest>\n",
      "{288.3333} <music21.note.Note G#>\n",
      "{289.5833} <music21.note.Rest rest>\n",
      "{289.6667} <music21.note.Note C>\n",
      "{290.3333} <music21.note.Rest rest>\n",
      "{290.5} <music21.note.Note B->\n",
      "{291.0} <music21.note.Rest rest>\n",
      "{291.25} <music21.note.Note F#>\n",
      "{291.5833} <music21.note.Rest rest>\n",
      "{294.5} <music21.note.Note F#>\n",
      "{295.1667} <music21.note.Rest rest>\n",
      "{295.3333} <music21.note.Note B->\n",
      "{295.8333} <music21.note.Rest rest>\n",
      "{296.0} <music21.note.Note C>\n",
      "{296.3333} <music21.note.Rest rest>\n",
      "{296.5} <music21.note.Note C#>\n",
      "{297.1667} <music21.note.Rest rest>\n",
      "{297.25} <music21.note.Note D>\n",
      "{297.5} <music21.note.Note E->\n",
      "{298.0} <music21.note.Rest rest>\n",
      "{298.25} <music21.note.Note C#>\n",
      "{298.6667} <music21.note.Note D>\n",
      "{299.1667} <music21.note.Rest rest>\n",
      "{299.3333} <music21.note.Note B->\n",
      "{299.5833} <music21.note.Rest rest>\n",
      "{299.75} <music21.note.Note F>\n",
      "{300.0833} <music21.note.Rest rest>\n",
      "{300.25} <music21.note.Note E>\n",
      "{300.5833} <music21.note.Rest rest>\n",
      "{301.0} <music21.note.Note G>\n",
      "{301.5} <music21.note.Rest rest>\n",
      "{301.6667} <music21.note.Note F#>\n",
      "{302.0} <music21.note.Rest rest>\n",
      "{302.5} <music21.note.Note F>\n",
      "{303.1667} <music21.note.Rest rest>\n",
      "{304.3333} <music21.note.Note B->\n",
      "{305.0} <music21.note.Rest rest>\n",
      "{305.25} <music21.note.Note F>\n",
      "{305.5} <music21.note.Rest rest>\n",
      "{308.3333} <music21.note.Note C>\n",
      "{309.0} <music21.note.Note A>\n",
      "{309.5} <music21.note.Rest rest>\n",
      "{313.0} <music21.note.Note D>\n",
      "{313.25} <music21.note.Note C>\n",
      "{313.5833} <music21.note.Rest rest>\n",
      "{313.6667} <music21.note.Note B>\n",
      "{314.0} <music21.note.Rest rest>\n",
      "{316.3333} <music21.note.Note C>\n",
      "{316.8333} <music21.note.Rest rest>\n",
      "{317.0} <music21.note.Note D>\n",
      "{317.25} <music21.note.Note C>\n",
      "{317.5} <music21.note.Note A>\n",
      "{318.0} <music21.note.Note C>\n",
      "{318.25} <music21.note.Rest rest>\n",
      "{318.3333} <music21.note.Note E->\n",
      "{319.0} <music21.note.Note G>\n",
      "{319.5} <music21.note.Note F#>\n",
      "{320.0} <music21.note.Rest rest>\n",
      "{320.25} <music21.note.Note E>\n",
      "{320.5} <music21.note.Note F>\n",
      "{320.8333} <music21.note.Rest rest>\n",
      "{321.0} <music21.note.Note D>\n",
      "{321.3333} <music21.note.Note B->\n",
      "{321.8333} <music21.note.Rest rest>\n",
      "{322.0} <music21.note.Note D>\n",
      "{322.3333} <music21.note.Note F>\n",
      "{323.0} <music21.note.Note D>\n",
      "{323.3333} <music21.note.Note E->\n",
      "{323.8333} <music21.note.Rest rest>\n",
      "{324.0} <music21.note.Note C>\n",
      "{324.3333} <music21.note.Note B->\n",
      "{324.8333} <music21.note.Rest rest>\n",
      "{325.5} <music21.note.Note C#>\n",
      "{325.75} <music21.note.Note C>\n",
      "{326.0833} <music21.note.Rest rest>\n",
      "{326.3333} <music21.note.Note B->\n",
      "{326.8333} <music21.note.Rest rest>\n",
      "{327.0} <music21.note.Note F>\n",
      "{327.25} <music21.note.Note E>\n",
      "{327.75} <music21.note.Rest rest>\n",
      "{328.0} <music21.note.Note D>\n",
      "{328.3333} <music21.note.Note E->\n",
      "{328.8333} <music21.note.Rest rest>\n",
      "{329.0} <music21.note.Note C#>\n",
      "{329.3333} <music21.note.Note D>\n",
      "{329.8333} <music21.note.Rest rest>\n",
      "{330.0} <music21.note.Note F>\n",
      "{330.25} <music21.note.Note B->\n",
      "{331.75} <music21.note.Note F>\n",
      "{332.0} <music21.note.Note C>\n",
      "{332.5} <music21.note.Rest rest>\n",
      "{332.75} <music21.note.Note F>\n",
      "{333.0} <music21.note.Rest rest>\n",
      "{338.75} <music21.note.Note F>\n",
      "{339.5} <music21.note.Rest rest>\n",
      "{339.75} <music21.note.Note B->\n",
      "{340.25} <music21.note.Rest rest>\n",
      "{340.3333} <music21.note.Note D>\n",
      "{343.3333} <music21.note.Rest rest>\n",
      "{343.75} <music21.note.Note B->\n",
      "{344.25} <music21.note.Rest rest>\n",
      "{344.5} <music21.note.Note F>\n",
      "{344.8333} <music21.note.Rest rest>\n",
      "{347.5} <music21.note.Note G#>\n",
      "{348.0} <music21.note.Rest rest>\n",
      "{348.25} <music21.note.Note G>\n",
      "{348.3333} <music21.note.Note F#>\n",
      "{348.5} <music21.note.Note F>\n",
      "{351.0} <music21.note.Rest rest>\n",
      "{351.5} <music21.note.Note E->\n",
      "{352.0} <music21.note.Note F>\n",
      "{352.5} <music21.note.Note C#>\n",
      "{353.0} <music21.note.Note D>\n",
      "{353.5} <music21.note.Note B->\n",
      "{354.0} <music21.note.Rest rest>\n",
      "{354.25} <music21.note.Note F>\n",
      "{354.5} <music21.note.Note E>\n",
      "{355.0} <music21.note.Rest rest>\n",
      "{355.25} <music21.note.Note D>\n",
      "{355.5} <music21.note.Note E->\n",
      "{356.0} <music21.note.Note C#>\n",
      "{356.3333} <music21.note.Rest rest>\n",
      "{356.5} <music21.note.Note D>\n",
      "{357.0} <music21.note.Note F>\n",
      "{357.25} <music21.note.Rest rest>\n",
      "{357.3333} <music21.note.Note B->\n",
      "{357.8333} <music21.note.Rest rest>\n",
      "{358.0} <music21.note.Note C>\n",
      "{358.25} <music21.note.Note G>\n",
      "{358.5833} <music21.note.Rest rest>\n",
      "{358.75} <music21.note.Note B->\n",
      "{360.5} <music21.note.Rest rest>\n",
      "{363.75} <music21.note.Note D>\n",
      "{364.0833} <music21.note.Rest rest>\n",
      "{365.0} <music21.note.Note F#>\n",
      "{365.6667} <music21.note.Note G>\n",
      "{365.75} <music21.note.Note G#>\n",
      "{365.9167} <music21.note.Rest rest>\n",
      "{366.0} <music21.note.Note A>\n",
      "{366.5} <music21.note.Note G#>\n",
      "{366.75} <music21.note.Note G>\n",
      "{367.0} <music21.note.Note F#>\n",
      "{367.5} <music21.note.Rest rest>\n",
      "{367.6667} <music21.note.Note D>\n",
      "{368.0} <music21.note.Rest rest>\n",
      "{371.6667} <music21.note.Note G>\n",
      "{372.1667} <music21.note.Rest rest>\n",
      "{372.25} <music21.note.Note B>\n",
      "{372.75} <music21.note.Rest rest>\n",
      "{373.0} <music21.note.Note F>\n",
      "{373.3333} <music21.note.Rest rest>\n",
      "{374.5} <music21.note.Note C#>\n",
      "{375.0} <music21.note.Rest rest>\n",
      "{375.5} <music21.note.Note D>\n",
      "{376.0} <music21.note.Rest rest>\n",
      "{376.6667} <music21.note.Note B>\n",
      "{377.3333} <music21.note.Rest rest>\n",
      "{377.6667} <music21.note.Note G>\n",
      "{378.1667} <music21.note.Rest rest>\n",
      "{378.75} <music21.note.Note A>\n",
      "{379.0} <music21.note.Note B->\n",
      "{379.25} <music21.note.Rest rest>\n",
      "{379.3333} <music21.note.Note A>\n",
      "{379.5833} <music21.note.Rest rest>\n",
      "{379.6667} <music21.note.Note G>\n",
      "{380.1667} <music21.note.Rest rest>\n",
      "{380.25} <music21.note.Note B->\n",
      "{382.0} <music21.note.Rest rest>\n",
      "{384.3333} <music21.note.Note F#>\n",
      "{384.6667} <music21.note.Rest rest>\n",
      "{384.75} <music21.note.Note G#>\n",
      "{385.25} <music21.note.Note A>\n",
      "{385.75} <music21.note.Note G#>\n",
      "{386.0} <music21.note.Note G>\n",
      "{386.25} <music21.note.Rest rest>\n",
      "{386.3333} <music21.note.Note F#>\n",
      "{387.0} <music21.note.Note G>\n",
      "{389.75} <music21.note.Rest rest>\n",
      "{390.25} <music21.note.Note E->\n",
      "{390.5} <music21.note.Note F>\n",
      "{390.8333} <music21.note.Rest rest>\n",
      "{391.0} <music21.note.Note E->\n",
      "{391.25} <music21.note.Note C>\n",
      "{391.75} <music21.note.Rest rest>\n",
      "{392.3333} <music21.note.Note G>\n",
      "{392.6667} <music21.note.Rest rest>\n",
      "{392.75} <music21.note.Note B->\n",
      "{393.25} <music21.note.Note G>\n",
      "{393.75} <music21.note.Note G#>\n",
      "{394.0} <music21.note.Rest rest>\n",
      "{394.25} <music21.note.Note A>\n",
      "{394.6667} <music21.note.Note F>\n",
      "{395.0} <music21.note.Rest rest>\n",
      "{395.25} <music21.note.Note G>\n",
      "{395.6667} <music21.note.Note E->\n",
      "{396.1667} <music21.note.Rest rest>\n",
      "{396.25} <music21.note.Note C>\n",
      "{396.5833} <music21.note.Rest rest>\n",
      "{397.0} <music21.note.Note F>\n",
      "{397.5} <music21.note.Rest rest>\n",
      "{397.6667} <music21.note.Note E->\n",
      "{398.1667} <music21.note.Rest rest>\n",
      "{398.25} <music21.note.Note D>\n",
      "{398.5833} <music21.note.Rest rest>\n",
      "{398.75} <music21.note.Note B->\n",
      "{399.0833} <music21.note.Rest rest>\n",
      "{399.25} <music21.note.Note F>\n",
      "{399.5833} <music21.note.Rest rest>\n",
      "{399.6667} <music21.note.Note E>\n",
      "{400.0} <music21.note.Note D>\n",
      "{400.25} <music21.note.Note E->\n",
      "{400.5} <music21.note.Rest rest>\n",
      "{400.6667} <music21.note.Note G>\n",
      "{401.1667} <music21.note.Rest rest>\n",
      "{401.25} <music21.note.Note F#>\n",
      "{401.5833} <music21.note.Rest rest>\n",
      "{401.6667} <music21.note.Note E>\n",
      "{402.0} <music21.note.Note F>\n",
      "{402.5} <music21.note.Rest rest>\n",
      "{402.6667} <music21.note.Note D>\n",
      "{403.0} <music21.note.Note E->\n",
      "{403.5} <music21.note.Rest rest>\n",
      "{403.75} <music21.note.Note C#>\n",
      "{404.0} <music21.note.Note D>\n",
      "{405.6667} <music21.note.Rest rest>\n",
      "{406.0} <music21.note.Note B->\n",
      "{406.75} <music21.note.Rest rest>\n",
      "{409.75} <music21.note.Note E->\n",
      "{410.4167} <music21.note.Rest rest>\n",
      "{410.5} <music21.note.Note F>\n",
      "{410.75} <music21.note.Note B->\n",
      "{411.25} <music21.note.Rest rest>\n",
      "{411.75} <music21.note.Note D>\n",
      "{414.75} <music21.note.Rest rest>\n",
      "{415.75} <music21.note.Note E->\n",
      "{417.25} <music21.note.Rest rest>\n",
      "{417.5} <music21.note.Note C>\n",
      "{417.6667} <music21.note.Note C#>\n",
      "{418.3333} <music21.note.Note D>\n",
      "{419.0} <music21.note.Rest rest>\n",
      "{419.25} <music21.note.Note B->\n",
      "{419.9167} <music21.note.Rest rest>\n",
      "{420.3333} <music21.note.Note B->\n",
      "{422.0833} <music21.note.Rest rest>\n",
      "{426.5} <music21.note.Note F>\n",
      "{427.0} <music21.note.Note G>\n",
      "{427.3333} <music21.note.Rest rest>\n",
      "{427.5} <music21.note.Note B->\n",
      "{428.0} <music21.note.Note C>\n",
      "{428.5} <music21.note.Rest rest>\n",
      "{428.6667} <music21.note.Note D>\n",
      "{430.4167} <music21.note.Rest rest>\n",
      "{433.25} <music21.note.Note G>\n",
      "{434.9167} <music21.note.Rest rest>\n",
      "{437.3333} <music21.note.Note F>\n",
      "{438.0} <music21.note.Rest rest>\n",
      "{439.3333} <music21.note.Note E->\n",
      "{440.0} <music21.note.Rest rest>\n",
      "{440.5} <music21.note.Note C#>\n",
      "{444.75} <music21.note.Rest rest>\n",
      "{445.3333} <music21.note.Note B->\n",
      "{446.0} <music21.note.Note G#>\n",
      "{446.3333} <music21.note.Rest rest>\n",
      "{447.0} <music21.note.Note G#>\n",
      "{448.3333} <music21.note.Note G>\n",
      "{448.6667} <music21.note.Rest rest>\n",
      "{449.0} <music21.note.Note F#>\n",
      "{449.3333} <music21.note.Note F>\n",
      "{449.6667} <music21.note.Rest rest>\n",
      "{449.75} <music21.note.Note E>\n",
      "{450.0833} <music21.note.Rest rest>\n",
      "{450.25} <music21.note.Note E->\n",
      "{450.75} <music21.note.Note G>\n",
      "{451.25} <music21.note.Note D>\n",
      "{451.75} <music21.note.Note C>\n",
      "{452.0} <music21.note.Rest rest>\n",
      "{452.25} <music21.note.Note F>\n",
      "{452.75} <music21.note.Note E->\n",
      "{453.0833} <music21.note.Rest rest>\n",
      "{453.25} <music21.note.Note D>\n",
      "{453.5833} <music21.note.Rest rest>\n",
      "{453.6667} <music21.note.Note B->\n",
      "{454.0} <music21.note.Rest rest>\n",
      "{454.25} <music21.note.Note F>\n",
      "{454.5833} <music21.note.Rest rest>\n",
      "{454.6667} <music21.note.Note E>\n",
      "{455.0} <music21.note.Note D>\n",
      "{455.25} <music21.note.Note E->\n",
      "{455.5} <music21.note.Rest rest>\n",
      "{455.6667} <music21.note.Note G>\n",
      "{456.1667} <music21.note.Rest rest>\n",
      "{456.25} <music21.note.Note F#>\n",
      "{456.5833} <music21.note.Rest rest>\n",
      "{457.0} <music21.note.Note F>\n",
      "{457.5} <music21.note.Rest rest>\n",
      "{458.0} <music21.note.Note E->\n",
      "{458.6667} <music21.note.Rest rest>\n",
      "{459.0} <music21.note.Note D>\n",
      "{459.5} <music21.note.Rest rest>\n",
      "{459.6667} <music21.note.Note B->\n",
      "{461.1667} <music21.note.Rest rest>\n",
      "{463.75} <music21.note.Note B->\n",
      "{464.0833} <music21.note.Rest rest>\n",
      "{464.25} <music21.note.Note C>\n",
      "{464.5} <music21.note.Note B->\n",
      "{464.8333} <music21.note.Rest rest>\n",
      "{465.0} <music21.note.Note G#>\n",
      "{465.3333} <music21.note.Rest rest>\n",
      "{465.5} <music21.note.Note C>\n",
      "{466.1667} <music21.note.Rest rest>\n",
      "{468.5} <music21.note.Note B->\n",
      "{469.1667} <music21.note.Rest rest>\n",
      "{469.25} <music21.note.Note D>\n",
      "{469.75} <music21.note.Rest rest>\n",
      "{472.0} <music21.note.Note B->\n",
      "{472.3333} <music21.note.Note E->\n",
      "{472.8333} <music21.note.Rest rest>\n",
      "{473.0} <music21.note.Note G>\n",
      "{473.5} <music21.note.Rest rest>\n",
      "{476.25} <music21.note.Note D>\n",
      "{476.9167} <music21.note.Rest rest>\n",
      "{477.25} <music21.note.Note B->\n",
      "{477.75} <music21.note.Rest rest>\n",
      "{478.0} <music21.note.Note E->\n",
      "{478.5} <music21.note.Rest rest>\n",
      "{478.75} <music21.note.Note B->\n",
      "{479.25} <music21.note.Rest rest>\n",
      "{479.6667} <music21.note.Note E->\n",
      "{480.0} <music21.note.Note E>\n",
      "{480.75} <music21.note.Rest rest>\n",
      "{481.0} <music21.note.Note B->\n",
      "{483.5} <music21.note.Rest rest>\n",
      "{484.0} <music21.note.Note G#>\n",
      "{484.5} <music21.note.Note A>\n",
      "{484.75} <music21.note.Note G#>\n",
      "{485.0} <music21.note.Note F>\n",
      "{485.5} <music21.note.Rest rest>\n",
      "{485.6667} <music21.note.Note E->\n",
      "{486.0} <music21.note.Note D>\n",
      "{486.5} <music21.note.Rest rest>\n",
      "{486.75} <music21.note.Note B->\n",
      "{487.0833} <music21.note.Rest rest>\n",
      "{487.5} <music21.note.Note B->\n",
      "{489.0} <music21.note.Rest rest>\n",
      "{491.5} <music21.note.Note E>\n",
      "{491.75} <music21.note.Note G>\n",
      "{492.25} <music21.note.Rest rest>\n",
      "{492.5} <music21.note.Note E>\n",
      "{493.0} <music21.note.Rest rest>\n",
      "{494.5} <music21.note.Note F#>\n",
      "{494.6667} <music21.note.Note G>\n",
      "{494.75} <music21.note.Note A>\n",
      "{495.0} <music21.note.Rest rest>\n",
      "{495.25} <music21.note.Note F#>\n",
      "{495.75} <music21.note.Rest rest>\n",
      "{496.0} <music21.note.Note C#>\n",
      "{496.25} <music21.note.Note B>\n",
      "{496.5} <music21.note.Note A>\n",
      "{497.0} <music21.note.Rest rest>\n",
      "{499.5} <music21.note.Note G>\n",
      "{500.0} <music21.note.Note A>\n",
      "{500.5} <music21.note.Rest rest>\n",
      "{501.0} <music21.note.Note A>\n",
      "{501.25} <music21.note.Note C>\n",
      "{501.5} <music21.note.Note D>\n",
      "{502.0} <music21.note.Note B->\n",
      "{502.6667} <music21.note.Rest rest>\n",
      "{502.75} <music21.note.Note B>\n",
      "{503.0833} <music21.note.Rest rest>\n",
      "{503.25} <music21.note.Note D>\n",
      "{503.5} <music21.note.Note G>\n",
      "{506.8333} <music21.note.Rest rest>\n",
      "{507.3333} <music21.note.Note E>\n",
      "{507.6667} <music21.note.Rest rest>\n",
      "{507.75} <music21.note.Note G>\n",
      "{508.0833} <music21.note.Rest rest>\n",
      "{508.25} <music21.note.Note B->\n",
      "{508.75} <music21.note.Note C>\n",
      "{509.25} <music21.note.Note D>\n",
      "{509.75} <music21.note.Note C>\n",
      "{510.0833} <music21.note.Rest rest>\n",
      "{510.25} <music21.note.Note D>\n",
      "{510.6667} <music21.note.Note C>\n",
      "{511.1667} <music21.note.Rest rest>\n",
      "{511.25} <music21.note.Note B->\n",
      "{511.75} <music21.note.Note G>\n",
      "{512.0833} <music21.note.Rest rest>\n",
      "{515.0} <music21.note.Note E->\n",
      "{515.6667} <music21.note.Rest rest>\n",
      "{516.0} <music21.note.Note B->\n",
      "{516.6667} <music21.note.Rest rest>\n",
      "{517.0} <music21.note.Note F>\n",
      "{517.5} <music21.note.Note D>\n",
      "{517.8333} <music21.note.Rest rest>\n",
      "{518.0} <music21.note.Note E->\n",
      "{518.5} <music21.note.Note F>\n",
      "{518.75} <music21.note.Note G#>\n",
      "{519.25} <music21.note.Rest rest>\n",
      "{519.3333} <music21.note.Note F#>\n",
      "{519.6667} <music21.note.Rest rest>\n",
      "{519.75} <music21.note.Note F>\n",
      "{520.25} <music21.note.Rest rest>\n",
      "{520.3333} <music21.note.Note E->\n",
      "{520.75} <music21.note.Note D>\n",
      "{521.25} <music21.note.Rest rest>\n",
      "{521.3333} <music21.note.Note B->\n",
      "{521.6667} <music21.note.Rest rest>\n",
      "{523.5} <music21.note.Note D>\n",
      "{524.0} <music21.note.Rest rest>\n",
      "{524.25} <music21.note.Note E->\n",
      "{524.75} <music21.note.Rest rest>\n",
      "{525.0} <music21.note.Note B->\n",
      "{525.5} <music21.note.Rest rest>\n",
      "{528.3333} <music21.note.Note E>\n",
      "{529.0} <music21.note.Rest rest>\n",
      "{529.25} <music21.note.Note F>\n",
      "{529.9167} <music21.note.Rest rest>\n",
      "{530.0} <music21.note.Note E>\n",
      "{530.25} <music21.note.Rest rest>\n",
      "{530.3333} <music21.note.Note F>\n",
      "{530.8333} <music21.note.Rest rest>\n",
      "{531.0} <music21.note.Note E>\n",
      "{531.5} <music21.note.Rest rest>\n",
      "{531.75} <music21.note.Note E->\n",
      "{532.25} <music21.note.Rest rest>\n",
      "{532.75} <music21.note.Note F>\n",
      "{533.0833} <music21.note.Rest rest>\n",
      "{534.25} <music21.note.Note G#>\n",
      "{534.6667} <music21.note.Note G>\n",
      "{534.9167} <music21.note.Rest rest>\n",
      "{535.0} <music21.note.Note G#>\n",
      "{537.3333} <music21.note.Rest rest>\n",
      "{538.0} <music21.note.Note D>\n",
      "{538.5} <music21.note.Rest rest>\n",
      "{538.6667} <music21.note.Note G>\n",
      "{538.75} <music21.note.Note F>\n",
      "{539.0} <music21.note.Note E->\n",
      "{539.5} <music21.note.Note F>\n",
      "{540.8333} <music21.note.Rest rest>\n",
      "{541.0} <music21.note.Note E->\n",
      "{541.5} <music21.note.Note C>\n",
      "{541.75} <music21.note.Note B->\n",
      "{542.4167} <music21.note.Rest rest>\n",
      "{542.5} <music21.note.Note G#>\n",
      "{543.0} <music21.note.Rest rest>\n",
      "{544.75} <music21.note.Note F>\n",
      "{545.0} <music21.note.Note E>\n",
      "{545.5} <music21.note.Rest rest>\n",
      "{545.75} <music21.note.Note E->\n",
      "{546.25} <music21.note.Note G>\n",
      "{546.5833} <music21.note.Rest rest>\n",
      "{547.25} <music21.note.Note C>\n",
      "{547.5} <music21.note.Rest rest>\n",
      "{547.6667} <music21.note.Note F>\n",
      "{548.1667} <music21.note.Rest rest>\n",
      "{548.25} <music21.note.Note D>\n",
      "{548.5833} <music21.note.Rest rest>\n",
      "{548.6667} <music21.note.Note E->\n",
      "{549.0} <music21.note.Note F>\n",
      "{549.25} <music21.note.Rest rest>\n",
      "{549.3333} <music21.note.Note G#>\n",
      "{549.8333} <music21.note.Rest rest>\n",
      "{550.0} <music21.note.Note F#>\n",
      "{550.5} <music21.note.Rest rest>\n",
      "{550.6667} <music21.note.Note F>\n",
      "{551.0} <music21.note.Note E->\n",
      "{551.3333} <music21.note.Rest rest>\n",
      "{551.5} <music21.note.Note D>\n",
      "{551.8333} <music21.note.Rest rest>\n",
      "{552.0} <music21.note.Note B->\n"
     ]
    }
   ],
   "source": [
    "streams[0].show('text')"
   ]
  },
  {
   "cell_type": "markdown",
   "metadata": {
    "colab_type": "text",
    "id": "EDKT_VPT8WXX"
   },
   "source": [
    "### Notes"
   ]
  },
  {
   "cell_type": "code",
   "execution_count": null,
   "metadata": {
    "colab": {},
    "colab_type": "code",
    "id": "ufrgJAp38Va7"
   },
   "outputs": [],
   "source": [
    "#separates transposed streams that only have the pitch classes in the C (or a) scale\n",
    "notes=[]\n",
    "good=[]\n",
    "bad=[]\n",
    "for s in tstreams:\n",
    "  out=0\n",
    "  for n in s.flat.notes:\n",
    "    if isinstance(n,note.Note):\n",
    "      if n.pitch.pitchClass in [0,2,4,5,7,9,11]:\n",
    "        notes.append(n.pitch.pitchClass)\n",
    "      else:\n",
    "        out=1\n",
    "  if out==1:\n",
    "    bad.append(s)\n",
    "  else:\n",
    "    good.append(s)\n",
    "  out=0\n"
   ]
  },
  {
   "cell_type": "code",
   "execution_count": null,
   "metadata": {
    "colab": {},
    "colab_type": "code",
    "id": "j1eiJJlWRjno"
   },
   "outputs": [],
   "source": [
    "notes=[]\n",
    "\n",
    "for s in tstreams:\n",
    "  for n in s.flat.notes:\n",
    "    if isinstance(n,note.Note):\n",
    "      notes.append(n.pitch.pitchClass)\n",
    "      \n"
   ]
  },
  {
   "cell_type": "code",
   "execution_count": null,
   "metadata": {
    "colab": {
     "base_uri": "https://localhost:8080/",
     "height": 34
    },
    "colab_type": "code",
    "id": "Qi7FnG32RaK7",
    "outputId": "91358f7f-c907-4125-e210-7b633393de1c"
   },
   "outputs": [
    {
     "data": {
      "text/plain": [
       "7264"
      ]
     },
     "execution_count": 15,
     "metadata": {
      "tags": []
     },
     "output_type": "execute_result"
    }
   ],
   "source": [
    "len(bad)"
   ]
  },
  {
   "cell_type": "code",
   "execution_count": null,
   "metadata": {
    "colab": {},
    "colab_type": "code",
    "id": "kWZjHRux8rmZ"
   },
   "outputs": [],
   "source": [
    "elements,counts=np.unique(notes,return_counts=True)\n",
    "notes_hist=dict(zip(elements,counts))"
   ]
  },
  {
   "cell_type": "code",
   "execution_count": null,
   "metadata": {
    "colab": {},
    "colab_type": "code",
    "id": "jgojkIko8yUC"
   },
   "outputs": [],
   "source": [
    "notes_hist"
   ]
  },
  {
   "cell_type": "code",
   "execution_count": null,
   "metadata": {
    "colab": {
     "base_uri": "https://localhost:8080/",
     "height": 282
    },
    "colab_type": "code",
    "id": "j-Bvqm6o82Yu",
    "outputId": "4fff8905-3e04-4772-fc45-0208fac6a380"
   },
   "outputs": [
    {
     "data": {
      "text/plain": [
       "<BarContainer object of 12 artists>"
      ]
     },
     "execution_count": 11,
     "metadata": {
      "tags": []
     },
     "output_type": "execute_result"
    },
    {
     "data": {
      "image/png": "[encoded data removed]",
      "text/plain": [
       "<Figure size 432x288 with 1 Axes>"
      ]
     },
     "metadata": {
      "image/png": {
       "height": 248,
       "width": 388
      },
      "needs_background": "light",
      "tags": []
     },
     "output_type": "display_data"
    }
   ],
   "source": [
    "plt.bar(elements,counts)"
   ]
  },
  {
   "cell_type": "markdown",
   "metadata": {
    "colab_type": "text",
    "id": "jn3UMANqcMqB"
   },
   "source": [
    "### Time Signatures"
   ]
  },
  {
   "cell_type": "markdown",
   "metadata": {
    "colab_type": "text",
    "id": "MFWJ_0-ihUiC"
   },
   "source": [
    "Counting the different time signatures for each piece"
   ]
  },
  {
   "cell_type": "code",
   "execution_count": null,
   "metadata": {
    "colab": {
     "base_uri": "https://localhost:8080/",
     "height": 34
    },
    "colab_type": "code",
    "id": "gtyvefqVMv9h",
    "outputId": "e9c89af7-6240-41b8-cd8e-c7a526eacc84"
   },
   "outputs": [
    {
     "name": "stdout",
     "output_type": "stream",
     "text": [
      "{0.0} <music21.meter.TimeSignature 4/4>\n"
     ]
    }
   ],
   "source": [
    "tstreams[400].getTimeSignatures().show('text')"
   ]
  },
  {
   "cell_type": "code",
   "execution_count": null,
   "metadata": {
    "colab": {},
    "colab_type": "code",
    "id": "8PYe32yxcIOf"
   },
   "outputs": [],
   "source": [
    "timesigs=[]\n",
    "ssstreams=[]\n",
    "for s in streams:\n",
    "  temp=s.getTimeSignatures()\n",
    "  timesigs.append(temp[0].ratioString)\n",
    "  if temp[0].ratioString=='4/4':\n",
    "    ssstreams.append(s)"
   ]
  },
  {
   "cell_type": "code",
   "execution_count": null,
   "metadata": {
    "colab": {
     "base_uri": "https://localhost:8080/",
     "height": 34
    },
    "colab_type": "code",
    "id": "jWKvuSqU_Yva",
    "outputId": "26f380d8-c780-40bf-d950-b1d40170b28e"
   },
   "outputs": [
    {
     "data": {
      "text/plain": [
       "436"
      ]
     },
     "execution_count": 90,
     "metadata": {
      "tags": []
     },
     "output_type": "execute_result"
    }
   ],
   "source": [
    "len(ssstreams)"
   ]
  },
  {
   "cell_type": "code",
   "execution_count": null,
   "metadata": {
    "colab": {
     "base_uri": "https://localhost:8080/",
     "height": 34
    },
    "colab_type": "code",
    "id": "FY0dk0jk_DB_",
    "outputId": "9013204d-c1b5-4611-837e-1b60ee508d03"
   },
   "outputs": [
    {
     "data": {
      "text/plain": [
       "<music21.meter.TimeSignature 4/4>"
      ]
     },
     "execution_count": 81,
     "metadata": {
      "tags": []
     },
     "output_type": "execute_result"
    }
   ],
   "source": [
    "streams[0].getTimeSignatures()[0]"
   ]
  },
  {
   "cell_type": "code",
   "execution_count": null,
   "metadata": {
    "colab": {},
    "colab_type": "code",
    "id": "SR_k32A-BCfQ"
   },
   "outputs": [],
   "source": [
    "timesigs=[]\n",
    "\n",
    "for s in ssstreams:\n",
    "  temp=s.getTimeSignatures()\n",
    "  timesigs.append(temp[0].ratioString)"
   ]
  },
  {
   "cell_type": "code",
   "execution_count": null,
   "metadata": {
    "colab": {
     "base_uri": "https://localhost:8080/",
     "height": 34
    },
    "colab_type": "code",
    "id": "Ca4IDanB9EkH",
    "outputId": "e71b7480-1cdb-49d5-9c0c-6a2be1f061f2"
   },
   "outputs": [
    {
     "data": {
      "text/plain": [
       "436"
      ]
     },
     "execution_count": 92,
     "metadata": {
      "tags": []
     },
     "output_type": "execute_result"
    }
   ],
   "source": [
    "len(timesigs)"
   ]
  },
  {
   "cell_type": "code",
   "execution_count": null,
   "metadata": {
    "colab": {},
    "colab_type": "code",
    "id": "RuQ5hi2xymEs"
   },
   "outputs": [],
   "source": [
    "elements,counts=np.unique(timesigs,return_counts=True)\n",
    "timesig_hist=dict(zip(elements,counts))"
   ]
  },
  {
   "cell_type": "code",
   "execution_count": null,
   "metadata": {
    "colab": {
     "base_uri": "https://localhost:8080/",
     "height": 34
    },
    "colab_type": "code",
    "id": "fguNqXPHD0Fa",
    "outputId": "7104ab62-fd07-4027-a97e-344d622dee6e"
   },
   "outputs": [
    {
     "data": {
      "text/plain": [
       "{'4/4': 436}"
      ]
     },
     "execution_count": 94,
     "metadata": {
      "tags": []
     },
     "output_type": "execute_result"
    }
   ],
   "source": [
    "timesig_hist"
   ]
  },
  {
   "cell_type": "code",
   "execution_count": null,
   "metadata": {
    "colab": {
     "base_uri": "https://localhost:8080/",
     "height": 282
    },
    "colab_type": "code",
    "id": "zLyjdLJp0DXT",
    "outputId": "29e8c7b9-e90c-439e-cc62-bd61d8511566"
   },
   "outputs": [
    {
     "data": {
      "text/plain": [
       "<BarContainer object of 1 artists>"
      ]
     },
     "execution_count": 88,
     "metadata": {
      "tags": []
     },
     "output_type": "execute_result"
    },
    {
     "data": {
      "image/png": "[encoded data removed]",
      "text/plain": [
       "<Figure size 432x288 with 1 Axes>"
      ]
     },
     "metadata": {
      "image/png": {
       "height": 248,
       "width": 375
      },
      "needs_background": "light",
      "tags": []
     },
     "output_type": "display_data"
    }
   ],
   "source": [
    "plt.bar(elements,counts)"
   ]
  },
  {
   "cell_type": "markdown",
   "metadata": {
    "colab_type": "text",
    "id": "onykA3dZcRba"
   },
   "source": [
    "### Keys"
   ]
  },
  {
   "cell_type": "markdown",
   "metadata": {
    "colab_type": "text",
    "id": "hXy7ziIKhcdK"
   },
   "source": [
    "Counting the different Keys"
   ]
  },
  {
   "cell_type": "code",
   "execution_count": null,
   "metadata": {
    "colab": {},
    "colab_type": "code",
    "id": "hlTPKMjjuP8p"
   },
   "outputs": [],
   "source": [
    "#Give keys written in the stream files (if any)\n",
    "keys=[]\n",
    "for s in tstreams:\n",
    "  k=s.getElementsByClass(key.Key)\n",
    "  keys.append(k[0].tonicPitchNameWithCase)\n"
   ]
  },
  {
   "cell_type": "code",
   "execution_count": null,
   "metadata": {
    "colab": {},
    "colab_type": "code",
    "id": "Fx0ByfjS7vea"
   },
   "outputs": [],
   "source": [
    "ssstreams=[]\n",
    "for s in sstreams[0:100]:\n",
    "  temp=stream.Stream(s)\n",
    "  ssstreams.append(s)"
   ]
  },
  {
   "cell_type": "code",
   "execution_count": null,
   "metadata": {
    "colab": {},
    "colab_type": "code",
    "id": "uUdGti2pdrcX"
   },
   "outputs": [],
   "source": [
    "keys=[]\n",
    "\n",
    "for s in tstreams:\n",
    "  k = s.analyze('key')\n",
    "  keys.append(k.tonicPitchNameWithCase)\n"
   ]
  },
  {
   "cell_type": "code",
   "execution_count": null,
   "metadata": {
    "colab": {},
    "colab_type": "code",
    "id": "VTQEUZjY4203"
   },
   "outputs": [],
   "source": [
    "keyss"
   ]
  },
  {
   "cell_type": "code",
   "execution_count": null,
   "metadata": {
    "colab": {},
    "colab_type": "code",
    "id": "nzZ1iR9Eg9gC"
   },
   "outputs": [],
   "source": [
    "elements,counts=np.unique(keys,return_counts=True)\n",
    "keys_hist=dict(zip(elements,counts))"
   ]
  },
  {
   "cell_type": "code",
   "execution_count": null,
   "metadata": {
    "colab": {},
    "colab_type": "code",
    "id": "8FGXonJJieg_"
   },
   "outputs": [],
   "source": [
    "keys_hist"
   ]
  },
  {
   "cell_type": "code",
   "execution_count": null,
   "metadata": {
    "colab": {
     "base_uri": "https://localhost:8080/",
     "height": 282
    },
    "colab_type": "code",
    "id": "4_F7GiQlhBTE",
    "outputId": "da86975a-97bf-4fa6-c14b-f0a450f16ad7"
   },
   "outputs": [
    {
     "data": {
      "text/plain": [
       "<BarContainer object of 17 artists>"
      ]
     },
     "execution_count": 58,
     "metadata": {
      "tags": []
     },
     "output_type": "execute_result"
    },
    {
     "data": {
      "image/png": "[encoded data removed]",
      "text/plain": [
       "<Figure size 432x288 with 1 Axes>"
      ]
     },
     "metadata": {
      "image/png": {
       "height": 248,
       "width": 381
      },
      "needs_background": "light",
      "tags": []
     },
     "output_type": "display_data"
    }
   ],
   "source": [
    "plt.bar(elements[counts>0],counts[counts>0])"
   ]
  },
  {
   "cell_type": "code",
   "execution_count": null,
   "metadata": {
    "colab": {
     "base_uri": "https://localhost:8080/",
     "height": 150
    },
    "colab_type": "code",
    "id": "oO4dLTgrvTNt",
    "outputId": "33943583-9f1f-4781-8c87-8bd89f08aa1e"
   },
   "outputs": [
    {
     "name": "stdout",
     "output_type": "stream",
     "text": [
      "Music time signature: 3/4\n",
      "Expected music key: F major\n",
      "Music key confidence: 0.7651530448908335\n",
      "Other music key alternatives:\n",
      "C major\n",
      "d minor\n",
      "B- major\n",
      "c minor\n"
     ]
    }
   ],
   "source": [
    "timeSignature = notes_to_parse.getTimeSignatures()[0]\n",
    "music_analysis = notes_to_parse.analyze('key')\n",
    "print(\"Music time signature: {0}/{1}\".format(timeSignature.beatCount, timeSignature.denominator))\n",
    "print(\"Expected music key: {0}\".format(music_analysis))\n",
    "print(\"Music key confidence: {0}\".format(music_analysis.correlationCoefficient))\n",
    "print(\"Other music key alternatives:\")\n",
    "for analysis in music_analysis.alternateInterpretations:\n",
    "    if (analysis.correlationCoefficient > 0.5):\n",
    "        print(analysis)"
   ]
  },
  {
   "cell_type": "markdown",
   "metadata": {
    "colab_type": "text",
    "id": "_CYvMtPDcXgY"
   },
   "source": [
    "### Inter-onset Intervals"
   ]
  },
  {
   "cell_type": "code",
   "execution_count": null,
   "metadata": {
    "colab": {},
    "colab_type": "code",
    "id": "B5nYraO3YtCj"
   },
   "outputs": [],
   "source": [
    "interonsets=[]\n",
    "diff=0\n",
    "for stream in ssstreams:\n",
    "  for el in stream:\n",
    "    if isinstance(el,(note.Note,note.Rest)):\n",
    "      diff=el.offset-diff\n",
    "      if diff>0:\n",
    "        interonsets.append(diff)\n",
    "      diff=el.offset"
   ]
  },
  {
   "cell_type": "code",
   "execution_count": null,
   "metadata": {
    "colab": {},
    "colab_type": "code",
    "id": "OoeLqjlAa9pb"
   },
   "outputs": [],
   "source": [
    "elements,counts=np.unique(interonsets,return_counts=True)\n",
    "interonsets_hist=dict(zip(elements,counts))"
   ]
  },
  {
   "cell_type": "code",
   "execution_count": null,
   "metadata": {
    "colab": {
     "base_uri": "https://localhost:8080/",
     "height": 1000
    },
    "colab_type": "code",
    "id": "_UE8UepVb5rG",
    "outputId": "f221792f-0667-475c-932a-62cd46f6ab16"
   },
   "outputs": [
    {
     "data": {
      "text/plain": [
       "{0.08333333333325754: 171,\n",
       " 0.08333333333331439: 5138,\n",
       " 0.0833333333333286: 4749,\n",
       " 0.08333333333333215: 961,\n",
       " 0.08333333333333304: 47,\n",
       " 0.08333333333333326: 8,\n",
       " 0.08333333333333331: 1,\n",
       " Fraction(1, 12): 5661,\n",
       " 0.08333333333333337: 2,\n",
       " 0.08333333333333348: 15,\n",
       " 0.08333333333333393: 261,\n",
       " 0.0833333333333357: 2549,\n",
       " 0.08333333333334281: 6979,\n",
       " 0.08333333333337123: 1764,\n",
       " 0.16666666666662877: 2159,\n",
       " 0.1666666666666572: 6999,\n",
       " 0.1666666666666643: 2582,\n",
       " 0.16666666666666607: 302,\n",
       " 0.16666666666666652: 21,\n",
       " 0.16666666666666663: 7,\n",
       " Fraction(1, 6): 696,\n",
       " 0.16666666666666669: 4,\n",
       " 0.16666666666666674: 9,\n",
       " 0.16666666666666696: 57,\n",
       " 0.16666666666666785: 1058,\n",
       " 0.1666666666666714: 4978,\n",
       " 0.16666666666668561: 5956,\n",
       " 0.16666666666674246: 193,\n",
       " 0.25: 49362,\n",
       " 0.33333333333325754: 294,\n",
       " 0.3333333333333144: 8016,\n",
       " 0.3333333333333286: 6340,\n",
       " 0.33333333333333215: 1413,\n",
       " 0.33333333333333304: 79,\n",
       " 0.33333333333333326: 6,\n",
       " 0.3333333333333333: 6,\n",
       " Fraction(1, 3): 5342,\n",
       " 0.33333333333333337: 6,\n",
       " 0.3333333333333335: 27,\n",
       " 0.3333333333333339: 364,\n",
       " 0.3333333333333357: 3319,\n",
       " 0.3333333333333428: 8866,\n",
       " 0.33333333333337123: 3177,\n",
       " 0.41666666666662877: 426,\n",
       " 0.4166666666666572: 1294,\n",
       " 0.4166666666666643: 539,\n",
       " 0.4166666666666661: 51,\n",
       " 0.4166666666666665: 2,\n",
       " Fraction(5, 12): 85,\n",
       " 0.4166666666666667: 1,\n",
       " 0.41666666666666696: 16,\n",
       " 0.41666666666666785: 232,\n",
       " 0.4166666666666714: 1005,\n",
       " 0.4166666666666856: 1207,\n",
       " 0.41666666666674246: 48,\n",
       " 0.5: 37073,\n",
       " 0.5833333333332575: 6,\n",
       " 0.5833333333333144: 219,\n",
       " 0.5833333333333286: 202,\n",
       " 0.5833333333333321: 53,\n",
       " 0.583333333333333: 3,\n",
       " Fraction(7, 12): 108,\n",
       " 0.5833333333333339: 13,\n",
       " 0.5833333333333357: 107,\n",
       " 0.5833333333333428: 312,\n",
       " 0.5833333333333712: 83,\n",
       " 0.6666666666666288: 696,\n",
       " 0.6666666666666572: 2200,\n",
       " 0.6666666666666643: 890,\n",
       " 0.6666666666666661: 117,\n",
       " 0.6666666666666665: 2,\n",
       " Fraction(2, 3): 1060,\n",
       " 0.6666666666666667: 2,\n",
       " 0.666666666666667: 20,\n",
       " 0.6666666666666679: 410,\n",
       " 0.6666666666666714: 1629,\n",
       " 0.6666666666666856: 1769,\n",
       " 0.6666666666667425: 42,\n",
       " 0.75: 5138,\n",
       " 0.8333333333332575: 2,\n",
       " 0.8333333333333144: 88,\n",
       " 0.8333333333333286: 70,\n",
       " 0.8333333333333321: 22,\n",
       " 0.833333333333333: 1,\n",
       " Fraction(5, 6): 43,\n",
       " 0.8333333333333335: 1,\n",
       " 0.8333333333333339: 3,\n",
       " 0.8333333333333357: 43,\n",
       " 0.8333333333333428: 96,\n",
       " 0.8333333333333712: 30,\n",
       " 0.9166666666666288: 41,\n",
       " 0.9166666666666572: 101,\n",
       " 0.9166666666666643: 41,\n",
       " 0.9166666666666661: 3,\n",
       " Fraction(11, 12): 14,\n",
       " 0.916666666666667: 1,\n",
       " 0.9166666666666679: 25,\n",
       " 0.9166666666666714: 75,\n",
       " 0.9166666666666856: 78,\n",
       " 0.9166666666667425: 3,\n",
       " Fraction(1, 1): 3839,\n",
       " 1.0833333333333144: 75,\n",
       " 1.0833333333333286: 67,\n",
       " 1.0833333333333321: 15,\n",
       " Fraction(13, 12): 33,\n",
       " 1.083333333333334: 1,\n",
       " 1.0833333333333357: 25,\n",
       " 1.0833333333333428: 68,\n",
       " 1.0833333333333712: 28,\n",
       " 1.1666666666666288: 22,\n",
       " 1.1666666666666572: 82,\n",
       " 1.1666666666666643: 41,\n",
       " 1.166666666666666: 6,\n",
       " Fraction(7, 6): 16,\n",
       " 1.166666666666667: 1,\n",
       " 1.1666666666666679: 15,\n",
       " 1.1666666666666714: 85,\n",
       " 1.1666666666666856: 88,\n",
       " 1.25: 1758,\n",
       " 1.3333333333332575: 5,\n",
       " 1.3333333333333144: 243,\n",
       " 1.3333333333333286: 234,\n",
       " 1.3333333333333321: 62,\n",
       " 1.333333333333333: 2,\n",
       " 1.3333333333333333: 2,\n",
       " Fraction(4, 3): 151,\n",
       " 1.333333333333334: 17,\n",
       " 1.3333333333333357: 122,\n",
       " 1.3333333333333428: 265,\n",
       " 1.3333333333333712: 94,\n",
       " 1.4166666666666288: 19,\n",
       " 1.4166666666666572: 73,\n",
       " 1.4166666666666643: 23,\n",
       " 1.416666666666666: 4,\n",
       " Fraction(17, 12): 13,\n",
       " 1.4166666666666679: 17,\n",
       " 1.4166666666666714: 48,\n",
       " 1.4166666666666856: 55,\n",
       " 1.4166666666667425: 1,\n",
       " 1.5: 1317,\n",
       " 1.5833333333333144: 38,\n",
       " 1.5833333333333286: 32,\n",
       " 1.5833333333333321: 10,\n",
       " Fraction(19, 12): 12,\n",
       " 1.583333333333334: 3,\n",
       " 1.5833333333333357: 18,\n",
       " 1.5833333333333428: 42,\n",
       " 1.5833333333333712: 24,\n",
       " 1.6666666666666288: 54,\n",
       " 1.6666666666666572: 169,\n",
       " 1.6666666666666643: 90,\n",
       " 1.666666666666666: 8,\n",
       " Fraction(5, 3): 86,\n",
       " 1.666666666666667: 1,\n",
       " 1.6666666666666679: 28,\n",
       " 1.6666666666666714: 133,\n",
       " 1.6666666666666856: 125,\n",
       " 1.6666666666667425: 6,\n",
       " 1.75: 844,\n",
       " 1.8333333333332575: 3,\n",
       " 1.8333333333333144: 34,\n",
       " 1.8333333333333286: 32,\n",
       " 1.8333333333333321: 8,\n",
       " Fraction(11, 6): 18,\n",
       " 1.833333333333334: 3,\n",
       " 1.8333333333333357: 15,\n",
       " 1.8333333333333428: 48,\n",
       " 1.8333333333333712: 13,\n",
       " 1.9166666666666288: 14,\n",
       " 1.9166666666666572: 35,\n",
       " 1.9166666666666643: 19,\n",
       " 1.916666666666666: 3,\n",
       " Fraction(23, 12): 3,\n",
       " 1.9166666666666679: 5,\n",
       " 1.9166666666666714: 37,\n",
       " 1.9166666666666856: 42,\n",
       " 1.9166666666667425: 2,\n",
       " 2.0: 869,\n",
       " 2.0833333333332575: 1,\n",
       " 2.0833333333333144: 33,\n",
       " 2.0833333333333286: 23,\n",
       " 2.083333333333332: 5,\n",
       " 2.083333333333333: 1,\n",
       " Fraction(25, 12): 20,\n",
       " 2.083333333333334: 2,\n",
       " 2.0833333333333357: 13,\n",
       " 2.083333333333343: 37,\n",
       " 2.0833333333333712: 11,\n",
       " 2.1666666666666288: 12,\n",
       " 2.166666666666657: 46,\n",
       " 2.1666666666666643: 12,\n",
       " 2.166666666666666: 3,\n",
       " Fraction(13, 6): 13,\n",
       " 2.166666666666668: 9,\n",
       " 2.1666666666666714: 30,\n",
       " 2.1666666666666856: 35,\n",
       " 2.1666666666667425: 6,\n",
       " 2.25: 428,\n",
       " 2.3333333333332575: 5,\n",
       " 2.3333333333333144: 55,\n",
       " 2.3333333333333286: 48,\n",
       " 2.333333333333332: 15,\n",
       " Fraction(7, 3): 30,\n",
       " 2.3333333333333335: 2,\n",
       " 2.333333333333334: 5,\n",
       " 2.3333333333333357: 29,\n",
       " 2.333333333333343: 60,\n",
       " 2.3333333333333712: 19,\n",
       " 2.4166666666666288: 10,\n",
       " 2.416666666666657: 36,\n",
       " 2.4166666666666643: 13,\n",
       " Fraction(29, 12): 9,\n",
       " 2.416666666666668: 7,\n",
       " 2.4166666666666714: 20,\n",
       " 2.4166666666666856: 30,\n",
       " 2.4166666666667425: 3,\n",
       " 2.5: 349,\n",
       " 2.5833333333332575: 3,\n",
       " 2.5833333333333144: 25,\n",
       " 2.5833333333333286: 14,\n",
       " 2.583333333333332: 5,\n",
       " Fraction(31, 12): 11,\n",
       " 2.5833333333333357: 4,\n",
       " 2.583333333333343: 20,\n",
       " 2.5833333333333712: 9,\n",
       " 2.6666666666666288: 16,\n",
       " 2.666666666666657: 48,\n",
       " 2.6666666666666643: 24,\n",
       " 2.666666666666666: 3,\n",
       " Fraction(8, 3): 29,\n",
       " 2.666666666666668: 11,\n",
       " 2.6666666666666714: 42,\n",
       " 2.6666666666666856: 43,\n",
       " 2.6666666666667425: 3,\n",
       " 2.75: 256,\n",
       " 2.8333333333333144: 20,\n",
       " 2.8333333333333286: 16,\n",
       " 2.833333333333332: 2,\n",
       " Fraction(17, 6): 8,\n",
       " 2.8333333333333357: 8,\n",
       " 2.833333333333343: 17,\n",
       " 2.8333333333333712: 10,\n",
       " 2.9166666666666288: 7,\n",
       " 2.916666666666657: 25,\n",
       " 2.9166666666666643: 8,\n",
       " Fraction(35, 12): 4,\n",
       " 2.916666666666667: 1,\n",
       " 2.916666666666668: 5,\n",
       " 2.9166666666666714: 21,\n",
       " 2.9166666666666856: 16,\n",
       " 2.9166666666667425: 2,\n",
       " 3.0: 274,\n",
       " 3.0833333333332575: 2,\n",
       " 3.0833333333333144: 13,\n",
       " 3.0833333333333286: 17,\n",
       " 3.083333333333332: 5,\n",
       " 3.083333333333333: 1,\n",
       " Fraction(37, 12): 8,\n",
       " 3.083333333333334: 1,\n",
       " 3.0833333333333357: 12,\n",
       " 3.083333333333343: 12,\n",
       " 3.0833333333333712: 5,\n",
       " 3.1666666666666288: 6,\n",
       " 3.166666666666657: 26,\n",
       " 3.1666666666666643: 8,\n",
       " 3.166666666666666: 3,\n",
       " Fraction(19, 6): 7,\n",
       " 3.166666666666668: 1,\n",
       " 3.1666666666666714: 34,\n",
       " 3.1666666666666856: 28,\n",
       " 3.1666666666667425: 2,\n",
       " Fraction(13, 4): 193,\n",
       " 3.3333333333332575: 3,\n",
       " 3.3333333333333144: 25,\n",
       " 3.3333333333333286: 22,\n",
       " 3.333333333333332: 8,\n",
       " 3.333333333333333: 1,\n",
       " Fraction(10, 3): 13,\n",
       " 3.333333333333334: 2,\n",
       " 3.3333333333333357: 7,\n",
       " 3.333333333333343: 27,\n",
       " 3.3333333333333712: 11,\n",
       " 3.4166666666666288: 2,\n",
       " 3.416666666666657: 12,\n",
       " 3.4166666666666643: 6,\n",
       " Fraction(41, 12): 3,\n",
       " 3.416666666666668: 5,\n",
       " 3.4166666666666714: 7,\n",
       " 3.4166666666666856: 13,\n",
       " 3.4166666666667425: 1,\n",
       " Fraction(7, 2): 139,\n",
       " 3.5833333333333144: 8,\n",
       " 3.5833333333333286: 6,\n",
       " 3.583333333333332: 5,\n",
       " Fraction(43, 12): 6,\n",
       " 3.5833333333333357: 7,\n",
       " 3.583333333333343: 15,\n",
       " 3.5833333333333712: 5,\n",
       " 3.6666666666666288: 5,\n",
       " 3.666666666666657: 26,\n",
       " 3.6666666666666643: 17,\n",
       " 3.6666666666666665: 1,\n",
       " Fraction(11, 3): 11,\n",
       " 3.666666666666668: 3,\n",
       " 3.6666666666666714: 17,\n",
       " 3.6666666666666856: 16,\n",
       " 3.6666666666667425: 1,\n",
       " 3.75: 154,\n",
       " 3.8333333333332575: 2,\n",
       " 3.8333333333333144: 9,\n",
       " 3.8333333333333286: 6,\n",
       " 3.833333333333332: 3,\n",
       " Fraction(23, 6): 6,\n",
       " 3.833333333333334: 1,\n",
       " 3.8333333333333357: 3,\n",
       " 3.833333333333343: 10,\n",
       " 3.8333333333333712: 1,\n",
       " 3.9166666666666288: 3,\n",
       " 3.916666666666657: 13,\n",
       " 3.9166666666666643: 2,\n",
       " Fraction(47, 12): 2,\n",
       " 3.916666666666668: 2,\n",
       " 3.9166666666666714: 4,\n",
       " 3.9166666666666856: 10,\n",
       " 3.9166666666667425: 1,\n",
       " 4.0: 128,\n",
       " 4.083333333333314: 5,\n",
       " 4.083333333333329: 9,\n",
       " 4.083333333333332: 2,\n",
       " Fraction(49, 12): 5,\n",
       " 4.083333333333336: 10,\n",
       " 4.083333333333343: 11,\n",
       " 4.083333333333371: 3,\n",
       " 4.166666666666629: 3,\n",
       " 4.166666666666657: 10,\n",
       " 4.166666666666664: 7,\n",
       " 4.166666666666666: 1,\n",
       " Fraction(25, 6): 3,\n",
       " 4.166666666666668: 1,\n",
       " 4.166666666666671: 2,\n",
       " 4.166666666666686: 8,\n",
       " 4.25: 87,\n",
       " 4.3333333333332575: 2,\n",
       " 4.333333333333314: 15,\n",
       " 4.333333333333329: 9,\n",
       " 4.333333333333332: 2,\n",
       " Fraction(13, 3): 5,\n",
       " 4.333333333333334: 1,\n",
       " 4.333333333333336: 3,\n",
       " 4.333333333333343: 18,\n",
       " 4.333333333333371: 2,\n",
       " 4.416666666666629: 3,\n",
       " 4.416666666666657: 8,\n",
       " 4.416666666666664: 3,\n",
       " Fraction(53, 12): 1,\n",
       " 4.416666666666668: 2,\n",
       " 4.416666666666671: 5,\n",
       " 4.416666666666686: 7,\n",
       " 4.5: 69,\n",
       " 4.583333333333314: 3,\n",
       " 4.583333333333329: 7,\n",
       " 4.583333333333332: 2,\n",
       " Fraction(55, 12): 2,\n",
       " 4.583333333333336: 4,\n",
       " 4.583333333333343: 11,\n",
       " 4.666666666666629: 4,\n",
       " 4.666666666666657: 11,\n",
       " 4.666666666666664: 5,\n",
       " Fraction(14, 3): 4,\n",
       " 4.666666666666667: 4,\n",
       " 4.666666666666671: 8,\n",
       " 4.666666666666686: 8,\n",
       " 4.75: 70,\n",
       " 4.833333333333314: 5,\n",
       " 4.833333333333329: 9,\n",
       " 4.833333333333333: 1,\n",
       " Fraction(29, 6): 2,\n",
       " 4.833333333333336: 2,\n",
       " 4.833333333333343: 4,\n",
       " 4.833333333333371: 2,\n",
       " 4.916666666666629: 4,\n",
       " 4.916666666666657: 15,\n",
       " 4.916666666666664: 2,\n",
       " Fraction(59, 12): 3,\n",
       " 4.916666666666668: 2,\n",
       " 4.916666666666671: 7,\n",
       " 4.916666666666686: 7,\n",
       " 5.0: 82,\n",
       " 5.083333333333314: 6,\n",
       " 5.083333333333329: 4,\n",
       " Fraction(61, 12): 4,\n",
       " 5.083333333333336: 5,\n",
       " 5.083333333333343: 9,\n",
       " 5.166666666666629: 1,\n",
       " 5.166666666666657: 7,\n",
       " 5.166666666666664: 3,\n",
       " 5.166666666666668: 1,\n",
       " 5.166666666666671: 5,\n",
       " 5.166666666666686: 5,\n",
       " Fraction(21, 4): 50,\n",
       " 5.333333333333314: 5,\n",
       " 5.333333333333329: 2,\n",
       " 5.333333333333332: 1,\n",
       " Fraction(16, 3): 3,\n",
       " 5.333333333333334: 1,\n",
       " 5.333333333333336: 2,\n",
       " 5.333333333333343: 8,\n",
       " 5.416666666666629: 2,\n",
       " 5.416666666666657: 6,\n",
       " 5.416666666666664: 2,\n",
       " Fraction(65, 12): 1,\n",
       " 5.416666666666668: 2,\n",
       " 5.416666666666671: 1,\n",
       " 5.416666666666686: 3,\n",
       " 5.5: 57,\n",
       " 5.583333333333314: 3,\n",
       " 5.583333333333329: 2,\n",
       " 5.583333333333332: 1,\n",
       " Fraction(67, 12): 2,\n",
       " 5.583333333333336: 3,\n",
       " 5.583333333333343: 4,\n",
       " 5.666666666666657: 5,\n",
       " 5.666666666666664: 6,\n",
       " Fraction(17, 3): 2,\n",
       " 5.666666666666667: 2,\n",
       " 5.666666666666671: 5,\n",
       " 5.666666666666686: 8,\n",
       " 5.75: 50,\n",
       " 5.833333333333314: 4,\n",
       " 5.833333333333332: 3,\n",
       " Fraction(35, 6): 1,\n",
       " 5.833333333333336: 1,\n",
       " 5.833333333333343: 6,\n",
       " 5.833333333333371: 2,\n",
       " 5.916666666666629: 1,\n",
       " 5.916666666666657: 6,\n",
       " 5.916666666666664: 2,\n",
       " 5.916666666666671: 3,\n",
       " 5.916666666666686: 4,\n",
       " 5.9166666666667425: 1,\n",
       " Fraction(6, 1): 41,\n",
       " 6.083333333333314: 4,\n",
       " 6.083333333333329: 1,\n",
       " 6.083333333333332: 1,\n",
       " Fraction(73, 12): 1,\n",
       " 6.083333333333343: 5,\n",
       " 6.083333333333371: 1,\n",
       " 6.166666666666629: 2,\n",
       " 6.166666666666657: 3,\n",
       " 6.166666666666664: 1,\n",
       " 6.166666666666671: 4,\n",
       " 6.166666666666686: 5,\n",
       " 6.25: 34,\n",
       " 6.333333333333314: 4,\n",
       " 6.333333333333329: 2,\n",
       " 6.333333333333332: 1,\n",
       " 6.333333333333333: 1,\n",
       " Fraction(19, 3): 2,\n",
       " 6.333333333333336: 3,\n",
       " 6.333333333333343: 3,\n",
       " 6.416666666666657: 1,\n",
       " 6.416666666666664: 2,\n",
       " 6.416666666666668: 1,\n",
       " 6.416666666666671: 1,\n",
       " 6.416666666666686: 1,\n",
       " 6.5: 31,\n",
       " 6.583333333333314: 1,\n",
       " 6.583333333333329: 1,\n",
       " Fraction(79, 12): 1,\n",
       " 6.583333333333336: 1,\n",
       " 6.583333333333343: 2,\n",
       " 6.666666666666629: 1,\n",
       " 6.666666666666657: 2,\n",
       " Fraction(20, 3): 4,\n",
       " 6.666666666666667: 1,\n",
       " 6.666666666666671: 4,\n",
       " 6.666666666666686: 2,\n",
       " 6.75: 19,\n",
       " 6.833333333333314: 1,\n",
       " 6.833333333333329: 2,\n",
       " 6.833333333333343: 2,\n",
       " 6.916666666666629: 1,\n",
       " 6.916666666666657: 1,\n",
       " 6.916666666666671: 1,\n",
       " 6.916666666666686: 4,\n",
       " 7.0: 19,\n",
       " 7.083333333333329: 4,\n",
       " Fraction(85, 12): 1,\n",
       " 7.083333333333343: 4,\n",
       " 7.083333333333371: 1,\n",
       " 7.166666666666629: 1,\n",
       " 7.166666666666657: 1,\n",
       " Fraction(43, 6): 1,\n",
       " 7.166666666666686: 1,\n",
       " 7.25: 13,\n",
       " 7.333333333333314: 1,\n",
       " 7.333333333333336: 1,\n",
       " 7.333333333333343: 5,\n",
       " 7.333333333333371: 1,\n",
       " 7.416666666666671: 1,\n",
       " 7.416666666666686: 2,\n",
       " 7.5: 9,\n",
       " Fraction(91, 12): 1,\n",
       " 7.583333333333336: 1,\n",
       " 7.583333333333343: 2,\n",
       " 7.666666666666629: 1,\n",
       " 7.666666666666657: 4,\n",
       " 7.666666666666667: 1,\n",
       " 7.666666666666671: 2,\n",
       " 7.75: 12,\n",
       " 7.833333333333314: 1,\n",
       " Fraction(47, 6): 1,\n",
       " 7.916666666666657: 2,\n",
       " 7.916666666666671: 1,\n",
       " 7.916666666666686: 2,\n",
       " 8.0: 13,\n",
       " 8.083333333333329: 1,\n",
       " Fraction(97, 12): 1,\n",
       " 8.083333333333343: 1,\n",
       " 8.083333333333371: 1,\n",
       " 8.166666666666657: 2,\n",
       " 8.166666666666664: 1,\n",
       " 8.166666666666671: 1,\n",
       " 8.166666666666686: 1,\n",
       " 8.25: 13,\n",
       " 8.333333333333314: 1,\n",
       " 8.333333333333332: 1,\n",
       " 8.333333333333336: 1,\n",
       " 8.333333333333343: 1,\n",
       " 8.416666666666657: 1,\n",
       " 8.416666666666664: 2,\n",
       " 8.5: 8,\n",
       " 8.583333333333334: 1,\n",
       " 8.666666666666666: 1,\n",
       " 8.666666666666671: 1,\n",
       " 8.666666666666686: 1,\n",
       " 8.75: 4,\n",
       " 8.833333333333329: 1,\n",
       " 8.916666666666657: 1,\n",
       " 9.0: 10,\n",
       " 9.166666666666664: 1,\n",
       " 9.166666666666686: 2,\n",
       " 9.25: 10,\n",
       " 9.333333333333329: 1,\n",
       " 9.333333333333334: 2,\n",
       " 9.333333333333343: 2,\n",
       " 9.416666666666657: 2,\n",
       " 9.5: 4,\n",
       " 9.583333333333314: 1,\n",
       " 9.666666666666666: 2,\n",
       " 9.75: 4,\n",
       " 9.833333333333329: 1,\n",
       " Fraction(59, 6): 1,\n",
       " 9.833333333333343: 1,\n",
       " 9.916666666666664: 1,\n",
       " Fraction(10, 1): 9,\n",
       " 10.166666666666686: 1,\n",
       " 10.25: 1,\n",
       " Fraction(31, 3): 2,\n",
       " 10.333333333333334: 2,\n",
       " 10.333333333333343: 1,\n",
       " 10.416666666666671: 1,\n",
       " 10.5: 5,\n",
       " 10.583333333333343: 1,\n",
       " 10.666666666666666: 2,\n",
       " Fraction(43, 4): 11,\n",
       " 10.833333333333314: 1,\n",
       " 10.916666666666657: 1,\n",
       " 11.0: 10,\n",
       " 11.25: 5,\n",
       " 11.333333333333334: 3,\n",
       " 11.333333333333336: 1,\n",
       " 11.416666666666671: 1,\n",
       " 11.5: 5,\n",
       " 11.666666666666666: 1,\n",
       " 11.75: 4,\n",
       " 11.833333333333343: 1,\n",
       " 11.916666666666671: 1,\n",
       " 12.0: 10,\n",
       " 12.25: 5,\n",
       " Fraction(37, 3): 1,\n",
       " 12.333333333333334: 1,\n",
       " Fraction(25, 2): 4,\n",
       " 12.666666666666666: 1,\n",
       " 12.75: 8,\n",
       " 13.0: 1,\n",
       " 13.166666666666686: 2,\n",
       " 13.25: 3,\n",
       " 13.333333333333334: 3,\n",
       " 13.5: 6,\n",
       " 13.666666666666666: 2,\n",
       " 13.75: 3,\n",
       " 13.833333333333371: 1,\n",
       " 14.0: 7,\n",
       " 14.083333333333314: 1,\n",
       " 14.25: 5,\n",
       " 14.333333333333334: 5,\n",
       " 14.5: 4,\n",
       " 14.666666666666666: 1,\n",
       " 14.75: 5,\n",
       " 15.0: 8,\n",
       " 15.25: 1,\n",
       " 15.333333333333334: 4,\n",
       " 15.5: 2,\n",
       " 15.583333333333371: 1,\n",
       " 15.666666666666666: 1,\n",
       " 15.75: 7,\n",
       " 16.0: 3,\n",
       " 16.166666666666657: 1,\n",
       " 16.25: 1,\n",
       " 16.5: 3,\n",
       " 16.666666666666668: 1,\n",
       " 16.66666666666667: 1,\n",
       " 16.75: 3,\n",
       " 17.0: 6,\n",
       " 17.333333333333332: 2,\n",
       " 17.5: 3,\n",
       " 17.666666666666668: 1,\n",
       " 17.66666666666667: 1,\n",
       " 17.75: 3,\n",
       " 18.0: 3,\n",
       " 18.333333333333332: 2,\n",
       " 18.5: 3,\n",
       " 18.666666666666657: 1,\n",
       " 18.666666666666668: 1,\n",
       " 18.75: 4,\n",
       " 19.0: 3,\n",
       " 19.25: 1,\n",
       " 19.333333333333332: 4,\n",
       " 19.416666666666686: 1,\n",
       " 19.666666666666668: 1,\n",
       " 19.75: 1,\n",
       " 20.0: 4,\n",
       " 20.25: 3,\n",
       " 20.333333333333332: 1,\n",
       " 20.5: 1,\n",
       " 20.666666666666668: 3,\n",
       " 20.75: 1,\n",
       " 21.0: 1,\n",
       " 21.25: 3,\n",
       " 21.333333333333332: 1,\n",
       " 21.5: 2,\n",
       " 21.75: 1,\n",
       " 22.0: 2,\n",
       " 22.25: 2,\n",
       " 22.5: 1,\n",
       " 22.666666666666668: 1,\n",
       " 23.0: 2,\n",
       " 23.25: 2,\n",
       " 23.75: 1,\n",
       " 24.0: 3,\n",
       " 24.25: 2,\n",
       " 24.333333333333332: 1,\n",
       " 24.5: 1,\n",
       " 24.666666666666668: 1,\n",
       " 24.75: 1,\n",
       " 25.5: 1,\n",
       " 25.666666666666668: 1,\n",
       " 25.75: 2,\n",
       " 26.25: 1,\n",
       " 26.333333333333332: 1,\n",
       " 26.5: 3,\n",
       " 26.75: 2,\n",
       " 27.25: 1,\n",
       " 27.5: 2,\n",
       " 27.666666666666668: 1,\n",
       " 28.0: 1,\n",
       " 28.25: 1,\n",
       " Fraction(29, 1): 2,\n",
       " 29.333333333333332: 1,\n",
       " 30.0: 3,\n",
       " 30.5: 1,\n",
       " 30.666666666666668: 1,\n",
       " 31.5: 1,\n",
       " 32.5: 1,\n",
       " 34.0: 1,\n",
       " 34.25: 1,\n",
       " 35.0: 1,\n",
       " 36.75: 1,\n",
       " 37.333333333333336: 1,\n",
       " 37.75: 1,\n",
       " 39.5: 1,\n",
       " 45.25: 1,\n",
       " 95.0: 1,\n",
       " 144.75: 1}"
      ]
     },
     "execution_count": 97,
     "metadata": {
      "tags": []
     },
     "output_type": "execute_result"
    }
   ],
   "source": [
    "interonsets_hist"
   ]
  },
  {
   "cell_type": "code",
   "execution_count": null,
   "metadata": {
    "colab": {
     "base_uri": "https://localhost:8080/",
     "height": 34
    },
    "colab_type": "code",
    "id": "gwE3hGm-dub0",
    "outputId": "b17c0368-3f5d-41f5-f0eb-0dbe02f4ca77"
   },
   "outputs": [
    {
     "data": {
      "text/plain": [
       "Fraction(1, 3)"
      ]
     },
     "execution_count": 56,
     "metadata": {
      "tags": []
     },
     "output_type": "execute_result"
    }
   ],
   "source": [
    "from fractions import Fraction\n",
    "\n",
    "Fraction(1, 3)"
   ]
  },
  {
   "cell_type": "code",
   "execution_count": null,
   "metadata": {
    "colab": {
     "base_uri": "https://localhost:8080/",
     "height": 282
    },
    "colab_type": "code",
    "id": "Bb3EXERrbja4",
    "outputId": "0f4410d1-97ec-42ba-b5f3-01ca06306132"
   },
   "outputs": [
    {
     "data": {
      "text/plain": [
       "<BarContainer object of 685 artists>"
      ]
     },
     "execution_count": 98,
     "metadata": {
      "tags": []
     },
     "output_type": "execute_result"
    },
    {
     "data": {
      "image/png": "[encoded data removed]",
      "text/plain": [
       "<Figure size 432x288 with 1 Axes>"
      ]
     },
     "metadata": {
      "image/png": {
       "height": 248,
       "width": 388
      },
      "needs_background": "light",
      "tags": []
     },
     "output_type": "display_data"
    }
   ],
   "source": [
    "plt.bar(interonsets_hist.keys(),interonsets_hist.values())"
   ]
  },
  {
   "cell_type": "code",
   "execution_count": null,
   "metadata": {
    "colab": {},
    "colab_type": "code",
    "id": "kjawduzIpZ0X"
   },
   "outputs": [],
   "source": [
    "def bleh(stream):\n",
    "  for el in stream:\n",
    "    if isinstance(el,(note.Note,note.Rest)):\n",
    "      if el.quarterLength<8:\n",
    "        return stream"
   ]
  },
  {
   "cell_type": "markdown",
   "metadata": {
    "colab_type": "text",
    "id": "7ky9Mfyvce-s"
   },
   "source": [
    "### Note Durations"
   ]
  },
  {
   "cell_type": "code",
   "execution_count": null,
   "metadata": {
    "colab": {},
    "colab_type": "code",
    "id": "nqknEDTyZ9C7"
   },
   "outputs": [],
   "source": [
    "durations=[]\n",
    "big=[]\n",
    "for stream in sstreams:\n",
    "  for el in stream:\n",
    "    if isinstance(el,(note.Note,note.Rest)):\n",
    "      if el.quarterLength>8:\n",
    "        big.append(stream)\n",
    "      durations.append(el.quarterLength)"
   ]
  },
  {
   "cell_type": "code",
   "execution_count": null,
   "metadata": {
    "colab": {
     "base_uri": "https://localhost:8080/",
     "height": 34
    },
    "colab_type": "code",
    "id": "HuMuq-IpkOs4",
    "outputId": "a93d81ef-57f2-4f00-9aea-c6db9aa3194c"
   },
   "outputs": [
    {
     "data": {
      "text/plain": [
       "32"
      ]
     },
     "execution_count": 29,
     "metadata": {
      "tags": []
     },
     "output_type": "execute_result"
    }
   ],
   "source": [
    "len(big)"
   ]
  },
  {
   "cell_type": "code",
   "execution_count": null,
   "metadata": {
    "colab": {
     "base_uri": "https://localhost:8080/",
     "height": 1000
    },
    "colab_type": "code",
    "id": "gTjptuvLgHuz",
    "outputId": "c6e2617a-9ce5-461e-deb1-3551ff9819d8"
   },
   "outputs": [
    {
     "name": "stdout",
     "output_type": "stream",
     "text": [
      "{9.5} <music21.note.Note B->\n",
      "{10.5} <music21.note.Note B->\n",
      "{11.3333} <music21.note.Note B->\n",
      "{12.75} <music21.note.Note C>\n",
      "{13.3333} <music21.note.Note C#>\n",
      "{14.0} <music21.note.Note G>\n",
      "{14.75} <music21.note.Note B->\n",
      "{15.3333} <music21.note.Note A>\n",
      "{18.5} <music21.note.Note C#>\n",
      "{19.0} <music21.note.Note D>\n",
      "{19.6667} <music21.note.Note E->\n",
      "{20.5} <music21.note.Note D>\n",
      "{21.0} <music21.note.Note E->\n",
      "{21.75} <music21.note.Note D>\n",
      "{22.5} <music21.note.Note D>\n",
      "{23.5} <music21.note.Note G>\n",
      "{24.75} <music21.note.Note B->\n",
      "{26.0} <music21.note.Note B->\n",
      "{26.5} <music21.note.Note B->\n",
      "{26.75} <music21.note.Note A>\n",
      "{27.3333} <music21.note.Note G>\n",
      "{28.5} <music21.note.Note E->\n",
      "{31.0} <music21.note.Note C#>\n",
      "{31.3333} <music21.note.Note D>\n",
      "{31.75} <music21.note.Note C#>\n",
      "{32.25} <music21.note.Note D>\n",
      "{32.75} <music21.note.Note C>\n",
      "{33.3333} <music21.note.Note G>\n",
      "{34.25} <music21.note.Note B->\n",
      "{35.5} <music21.note.Note G>\n",
      "{36.25} <music21.note.Note F>\n",
      "{36.6667} <music21.note.Note E>\n",
      "{37.3333} <music21.note.Note G>\n",
      "{38.0} <music21.note.Note A>\n",
      "{38.5} <music21.note.Note G>\n",
      "{39.25} <music21.note.Note E->\n",
      "{40.75} <music21.note.Note D>\n",
      "{41.3333} <music21.note.Note G>\n",
      "{41.75} <music21.note.Note A>\n",
      "{42.5} <music21.note.Note G>\n",
      "{43.25} <music21.note.Note E->\n",
      "{44.75} <music21.note.Note C#>\n",
      "{45.3333} <music21.note.Note D>\n",
      "{46.3333} <music21.note.Note F>\n",
      "{49.75} <music21.note.Note C#>\n",
      "{50.0} <music21.note.Note D>\n",
      "{50.6667} <music21.note.Note E->\n",
      "{51.25} <music21.note.Note D>\n",
      "{52.0} <music21.note.Note C>\n",
      "{53.0} <music21.note.Note G>\n",
      "{53.3333} <music21.note.Note E->\n",
      "{54.0} <music21.note.Note C>\n",
      "{55.5} <music21.note.Note C>\n",
      "{56.0} <music21.note.Note B->\n",
      "{56.5} <music21.note.Note A>\n",
      "{57.3333} <music21.note.Note A>\n",
      "{58.0} <music21.note.Note F#>\n",
      "{58.3333} <music21.note.Note D>\n",
      "{59.0} <music21.note.Note E>\n",
      "{59.75} <music21.note.Note A>\n",
      "{60.6667} <music21.note.Note G>\n",
      "{64.0} <music21.note.Note F>\n",
      "{64.3333} <music21.note.Note G>\n",
      "{83.3333} <music21.note.Note F>\n",
      "{83.6667} <music21.note.Note G>\n",
      "{84.0} <music21.note.Note A>\n",
      "{85.0} <music21.note.Note A>\n",
      "{85.75} <music21.note.Note A>\n",
      "{87.0} <music21.note.Note G>\n",
      "{87.75} <music21.note.Note G>\n",
      "{88.6667} <music21.note.Note D>\n",
      "{89.25} <music21.note.Note F>\n",
      "{89.6667} <music21.note.Note E>\n",
      "{90.0} <music21.note.Note E->\n",
      "{90.75} <music21.note.Note D>\n",
      "{91.6667} <music21.note.Note D>\n",
      "{93.25} <music21.note.Note C>\n",
      "{94.0} <music21.note.Note C>\n",
      "{94.6667} <music21.note.Note B->\n",
      "{95.6667} <music21.note.Note G>\n",
      "{96.0} <music21.note.Note B->\n",
      "{96.6667} <music21.note.Note G>\n",
      "{97.25} <music21.note.Note G#>\n",
      "{97.6667} <music21.note.Note A>\n",
      "{98.75} <music21.note.Note G>\n",
      "{99.5} <music21.note.Note F>\n",
      "{99.75} <music21.note.Note E->\n",
      "{102.0} <music21.note.Note C#>\n",
      "{102.5} <music21.note.Note D>\n",
      "{103.0} <music21.note.Note C#>\n",
      "{103.3333} <music21.note.Note D>\n",
      "{103.75} <music21.note.Note C>\n",
      "{104.6667} <music21.note.Note G>\n",
      "{105.3333} <music21.note.Note B->\n",
      "{107.0} <music21.note.Note G>\n",
      "{107.5} <music21.note.Note F>\n",
      "{107.75} <music21.note.Note E>\n",
      "{108.6667} <music21.note.Note G>\n",
      "{109.25} <music21.note.Note B->\n",
      "{109.75} <music21.note.Note A>\n",
      "{110.6667} <music21.note.Note G>\n",
      "{111.5} <music21.note.Note A>\n",
      "{112.5} <music21.note.Note E->\n",
      "{116.75} <music21.note.Note D>\n",
      "{117.25} <music21.note.Note E->\n",
      "{117.3333} <music21.note.Note E>\n",
      "{117.6667} <music21.note.Note F>\n",
      "{119.25} <music21.note.Note E>\n",
      "{119.5} <music21.note.Note E->\n",
      "{119.6667} <music21.note.Note D>\n",
      "{120.75} <music21.note.Note C#>\n",
      "{121.25} <music21.note.Note D>\n",
      "{121.75} <music21.note.Note E->\n",
      "{122.3333} <music21.note.Note D>\n",
      "{123.3333} <music21.note.Note C>\n",
      "{124.6667} <music21.note.Note G>\n",
      "{125.6667} <music21.note.Note B->\n",
      "{126.75} <music21.note.Note B->\n",
      "{127.25} <music21.note.Note A>\n",
      "{129.25} <music21.note.Note F>\n",
      "{129.5} <music21.note.Note F#>\n",
      "{129.6667} <music21.note.Note G#>\n",
      "{133.25} <music21.note.Note G>\n",
      "{133.6667} <music21.note.Note F>\n",
      "{134.6667} <music21.note.Note E->\n",
      "{135.3333} <music21.note.Note C#>\n",
      "{136.25} <music21.note.Note D>\n",
      "{137.0} <music21.note.Note F>\n",
      "{137.75} <music21.note.Note D>\n",
      "{138.3333} <music21.note.Note F>\n",
      "{138.75} <music21.note.Note E>\n",
      "{139.25} <music21.note.Note E->\n",
      "{139.75} <music21.note.Note D>\n",
      "{140.0} <music21.note.Note C#>\n",
      "{140.75} <music21.note.Note D>\n",
      "{141.0} <music21.note.Note C#>\n",
      "{141.6667} <music21.note.Note D>\n",
      "{142.25} <music21.note.Note C#>\n",
      "{142.6667} <music21.note.Note D>\n",
      "{143.0} <music21.note.Note C>\n",
      "{144.0} <music21.note.Note G>\n",
      "{144.75} <music21.note.Note B->\n",
      "{146.25} <music21.note.Note G>\n",
      "{147.25} <music21.note.Note C#>\n",
      "{147.6667} <music21.note.Note D>\n",
      "{148.0} <music21.note.Note C#>\n",
      "{148.5} <music21.note.Note D>\n",
      "{149.0} <music21.note.Note F>\n",
      "{149.6667} <music21.note.Note D>\n",
      "{150.5} <music21.note.Note B->\n",
      "{152.0} <music21.note.Note B->\n",
      "{152.5} <music21.note.Note B->\n",
      "{152.75} <music21.note.Note A>\n",
      "{153.5} <music21.note.Note A>\n",
      "{154.0} <music21.note.Note G>\n",
      "{155.0} <music21.note.Note F>\n"
     ]
    }
   ],
   "source": [
    "big[10].show('text')"
   ]
  },
  {
   "cell_type": "code",
   "execution_count": null,
   "metadata": {
    "colab": {},
    "colab_type": "code",
    "id": "9mLGf72-dKgq"
   },
   "outputs": [],
   "source": [
    "elements,counts=np.unique(durations,return_counts=True)\n",
    "durations_hist=dict(zip(elements,counts))"
   ]
  },
  {
   "cell_type": "code",
   "execution_count": null,
   "metadata": {
    "colab": {
     "base_uri": "https://localhost:8080/",
     "height": 34
    },
    "colab_type": "code",
    "id": "YIGu22DXFHZb",
    "outputId": "5797db26-cdd6-4705-b92e-e14cb068a09e"
   },
   "outputs": [
    {
     "data": {
      "text/plain": [
       "0.6666666666666666"
      ]
     },
     "execution_count": 99,
     "metadata": {
      "tags": []
     },
     "output_type": "execute_result"
    }
   ],
   "source": [
    "1/3 *2"
   ]
  },
  {
   "cell_type": "code",
   "execution_count": null,
   "metadata": {
    "colab": {
     "base_uri": "https://localhost:8080/",
     "height": 1000
    },
    "colab_type": "code",
    "id": "hE0q4G9YfK0a",
    "outputId": "b2fef3cc-eb25-4727-f268-3e5add1fdd66"
   },
   "outputs": [
    {
     "data": {
      "text/plain": [
       "{0.0: 14174,\n",
       " 0.25: 65419,\n",
       " Fraction(1, 3): 45087,\n",
       " 0.5: 44940,\n",
       " Fraction(2, 3): 10707,\n",
       " 0.75: 5703,\n",
       " 1.0: 4547,\n",
       " 1.25: 1751,\n",
       " Fraction(4, 3): 1251,\n",
       " 1.5: 1267,\n",
       " Fraction(5, 3): 629,\n",
       " 1.75: 686,\n",
       " 2.0: 730,\n",
       " 2.25: 285,\n",
       " Fraction(7, 3): 164,\n",
       " 2.5: 189,\n",
       " Fraction(8, 3): 124,\n",
       " 2.75: 141,\n",
       " 3.0: 177,\n",
       " 3.25: 81,\n",
       " Fraction(10, 3): 64,\n",
       " 3.5: 51,\n",
       " Fraction(11, 3): 43,\n",
       " 3.75: 56,\n",
       " 4.0: 69,\n",
       " 4.25: 36,\n",
       " Fraction(13, 3): 24,\n",
       " 4.5: 25,\n",
       " Fraction(14, 3): 14,\n",
       " 4.75: 20,\n",
       " 5.0: 36,\n",
       " 5.25: 17,\n",
       " Fraction(16, 3): 11,\n",
       " 5.5: 21,\n",
       " Fraction(17, 3): 6,\n",
       " 5.75: 7,\n",
       " 6.0: 13,\n",
       " 6.25: 9,\n",
       " Fraction(19, 3): 5,\n",
       " 6.5: 6,\n",
       " Fraction(20, 3): 4,\n",
       " 6.75: 8,\n",
       " 7.0: 6,\n",
       " 7.25: 4,\n",
       " Fraction(22, 3): 2,\n",
       " 7.5: 4,\n",
       " Fraction(23, 3): 3,\n",
       " 7.75: 1,\n",
       " 8.0: 7,\n",
       " 8.25: 2,\n",
       " Fraction(25, 3): 1,\n",
       " 8.75: 3,\n",
       " 9.0: 1,\n",
       " 9.25: 2,\n",
       " Fraction(28, 3): 3,\n",
       " Fraction(31, 3): 2,\n",
       " 10.75: 3,\n",
       " 11.0: 2,\n",
       " Fraction(34, 3): 1,\n",
       " 12.25: 1,\n",
       " 12.5: 1,\n",
       " Fraction(38, 3): 1,\n",
       " 12.75: 1,\n",
       " 14.25: 1,\n",
       " Fraction(43, 3): 1,\n",
       " 15.5: 1,\n",
       " 16.25: 2,\n",
       " Fraction(50, 3): 1,\n",
       " 28.25: 1,\n",
       " 30.0: 1}"
      ]
     },
     "execution_count": 31,
     "metadata": {
      "tags": []
     },
     "output_type": "execute_result"
    }
   ],
   "source": [
    "durations_hist"
   ]
  },
  {
   "cell_type": "code",
   "execution_count": null,
   "metadata": {
    "colab": {
     "base_uri": "https://localhost:8080/",
     "height": 34
    },
    "colab_type": "code",
    "id": "UUQgF_E9vPGv",
    "outputId": "db466925-bc70-46d4-bbec-1dcc16b9228e"
   },
   "outputs": [
    {
     "data": {
      "text/plain": [
       "0.5"
      ]
     },
     "execution_count": 64,
     "metadata": {
      "tags": []
     },
     "output_type": "execute_result"
    }
   ],
   "source": [
    "0.125*4"
   ]
  },
  {
   "cell_type": "code",
   "execution_count": null,
   "metadata": {
    "colab": {
     "base_uri": "https://localhost:8080/",
     "height": 282
    },
    "colab_type": "code",
    "id": "Zy1ZR_npdR79",
    "outputId": "046206cb-090a-4e16-f3d5-64fca845f5c3"
   },
   "outputs": [
    {
     "data": {
      "text/plain": [
       "<BarContainer object of 30 artists>"
      ]
     },
     "execution_count": 35,
     "metadata": {
      "tags": []
     },
     "output_type": "execute_result"
    },
    {
     "data": {
      "image/png": "[encoded data removed]",
      "text/plain": [
       "<Figure size 432x288 with 1 Axes>"
      ]
     },
     "metadata": {
      "image/png": {
       "height": 248,
       "width": 388
      },
      "needs_background": "light",
      "tags": []
     },
     "output_type": "display_data"
    }
   ],
   "source": [
    "plt.bar(elements[elements<5],counts[elements<5])"
   ]
  },
  {
   "cell_type": "markdown",
   "metadata": {
    "colab_type": "text",
    "id": "5MCi0igGcmV3"
   },
   "source": [
    "### Piece Durations"
   ]
  },
  {
   "cell_type": "code",
   "execution_count": null,
   "metadata": {
    "colab": {},
    "colab_type": "code",
    "id": "mGtQbukPaCQ5"
   },
   "outputs": [],
   "source": [
    "piece_durations=[]\n",
    "small=[]\n",
    "big=[]\n",
    "late=[]\n",
    "total_duration=0\n",
    "for song in tstreams:\n",
    "  try:\n",
    "    s2 = instrument.partitionByInstrument(song) #Change to only grab the piano???\n",
    "    stream = s2.parts[0].recurse()\n",
    "  except:\n",
    "    stream=song.flat\n",
    "  el=stream[-1]\n",
    "  try:\n",
    "    if (el.offset+el.quarterLength)<500:\n",
    "      small.append(el.offset+el.quarterLength)\n",
    "    if (el.offset+el.quarterLength)>500:\n",
    "      big.append(stream)\n",
    "    piece_durations.append(el.offset+el.quarterLength)\n",
    "    total_duration+=(el.offset+el.quarterLength)\n",
    "  except:\n",
    "    piece_durations.append(el.offset)\n",
    "    total_duration+=(el.offset)\n",
    "  if stream[0].offset>0:\n",
    "      late.append(stream)\n",
    "    \n",
    "    "
   ]
  },
  {
   "cell_type": "code",
   "execution_count": null,
   "metadata": {
    "colab": {
     "base_uri": "https://localhost:8080/",
     "height": 34
    },
    "colab_type": "code",
    "id": "YqmRc-rboIHc",
    "outputId": "cfc05c3d-ab3b-4068-8bea-a21043995f03"
   },
   "outputs": [
    {
     "data": {
      "text/plain": [
       "392"
      ]
     },
     "execution_count": 74,
     "metadata": {
      "tags": []
     },
     "output_type": "execute_result"
    }
   ],
   "source": [
    "len(late)"
   ]
  },
  {
   "cell_type": "code",
   "execution_count": null,
   "metadata": {
    "colab": {},
    "colab_type": "code",
    "id": "K0hKLoR99Rav"
   },
   "outputs": [],
   "source": [
    "big[5].show('text')"
   ]
  },
  {
   "cell_type": "code",
   "execution_count": null,
   "metadata": {
    "colab": {
     "base_uri": "https://localhost:8080/",
     "height": 34
    },
    "colab_type": "code",
    "id": "C3NU5rjW8RJX",
    "outputId": "665021f2-8d3a-4636-b24c-17bb5a89168b"
   },
   "outputs": [
    {
     "data": {
      "text/plain": [
       "41.123020833333335"
      ]
     },
     "execution_count": 30,
     "metadata": {
      "tags": []
     },
     "output_type": "execute_result"
    }
   ],
   "source": [
    "np.sum(small)/120/60"
   ]
  },
  {
   "cell_type": "code",
   "execution_count": null,
   "metadata": {
    "colab": {
     "base_uri": "https://localhost:8080/",
     "height": 34
    },
    "colab_type": "code",
    "id": "XDEUI5oTCc23",
    "outputId": "cb82a544-67e7-4910-d155-18df835e3498"
   },
   "outputs": [
    {
     "data": {
      "text/plain": [
       "47.502604166666664"
      ]
     },
     "execution_count": 31,
     "metadata": {
      "tags": []
     },
     "output_type": "execute_result"
    }
   ],
   "source": [
    "total_duration/120/60"
   ]
  },
  {
   "cell_type": "code",
   "execution_count": null,
   "metadata": {
    "colab": {},
    "colab_type": "code",
    "id": "e01rxeXRlP7e"
   },
   "outputs": [],
   "source": [
    "elements,counts=np.unique(piece_durations,return_counts=True)\n",
    "piece_durations_hist=dict(zip(elements,counts))"
   ]
  },
  {
   "cell_type": "code",
   "execution_count": null,
   "metadata": {
    "colab": {
     "base_uri": "https://localhost:8080/",
     "height": 34
    },
    "colab_type": "code",
    "id": "Y4yX8gXh8jtv",
    "outputId": "e18ce742-1f82-484c-acb0-cf1e9fb517c6"
   },
   "outputs": [
    {
     "data": {
      "text/plain": [
       "453"
      ]
     },
     "execution_count": 51,
     "metadata": {
      "tags": []
     },
     "output_type": "execute_result"
    }
   ],
   "source": [
    "sum(counts)"
   ]
  },
  {
   "cell_type": "code",
   "execution_count": null,
   "metadata": {
    "colab": {
     "base_uri": "https://localhost:8080/",
     "height": 1000
    },
    "colab_type": "code",
    "id": "bfFoRp4OlVOg",
    "outputId": "e902328e-f759-4c72-a19a-55970000600a"
   },
   "outputs": [
    {
     "data": {
      "text/plain": [
       "{6.0: 3,\n",
       " 7.0: 1,\n",
       " 8.0: 16,\n",
       " 8.5: 2,\n",
       " 9.0: 1,\n",
       " 10.0: 6,\n",
       " 10.5: 1,\n",
       " 11.0: 2,\n",
       " 12.0: 100,\n",
       " 12.5: 4,\n",
       " 13.0: 4,\n",
       " 13.5: 2,\n",
       " 14.0: 13,\n",
       " 15.0: 21,\n",
       " 15.25: 1,\n",
       " 16.0: 324,\n",
       " 16.5: 18,\n",
       " 17.0: 12,\n",
       " 17.5: 2,\n",
       " 18.0: 155,\n",
       " 18.25: 1,\n",
       " 18.5: 2,\n",
       " 19.0: 6,\n",
       " 19.5: 4,\n",
       " 20.0: 185,\n",
       " 20.5: 7,\n",
       " 21.0: 42,\n",
       " 21.5: 3,\n",
       " 22.0: 41,\n",
       " 22.5: 23,\n",
       " 23.0: 12,\n",
       " 23.5: 5,\n",
       " 24.0: 1015,\n",
       " 24.5: 12,\n",
       " 25.0: 6,\n",
       " 25.5: 10,\n",
       " 25.75: 1,\n",
       " 26.0: 40,\n",
       " 26.5: 5,\n",
       " 27.0: 79,\n",
       " 27.5: 2,\n",
       " 28.0: 144,\n",
       " 28.5: 9,\n",
       " 28.75: 1,\n",
       " 29.0: 8,\n",
       " 29.5: 2,\n",
       " 30.0: 208,\n",
       " 30.5: 7,\n",
       " 30.75: 2,\n",
       " 31.0: 16,\n",
       " 31.5: 5,\n",
       " 31.75: 1,\n",
       " 32.0: 694,\n",
       " 32.5: 6,\n",
       " 33.0: 47,\n",
       " 33.5: 1,\n",
       " 34.0: 28,\n",
       " 34.5: 4,\n",
       " 35.0: 4,\n",
       " 35.5: 1,\n",
       " 36.0: 531,\n",
       " 36.25: 1,\n",
       " 36.375: 1,\n",
       " 36.5: 6,\n",
       " 36.75: 1,\n",
       " 37.0: 13,\n",
       " 37.5: 9,\n",
       " 37.75: 1,\n",
       " 38.0: 24,\n",
       " 38.25: 1,\n",
       " 38.5: 2,\n",
       " 39.0: 43,\n",
       " 39.5: 2,\n",
       " 40.0: 225,\n",
       " 40.5: 9,\n",
       " 41.0: 10,\n",
       " 42.0: 107,\n",
       " 42.25: 1,\n",
       " 42.5: 3,\n",
       " 43.0: 5,\n",
       " 43.5: 1,\n",
       " 44.0: 51,\n",
       " 44.5: 5,\n",
       " 44.75: 1,\n",
       " 45.0: 31,\n",
       " 46.0: 13,\n",
       " 46.5: 2,\n",
       " 47.0: 7,\n",
       " 47.5: 2,\n",
       " 48.0: 846,\n",
       " 48.25: 1,\n",
       " 48.5: 8,\n",
       " 49.0: 24,\n",
       " 49.5: 2,\n",
       " 50.0: 16,\n",
       " 50.5: 1,\n",
       " 51.0: 28,\n",
       " 51.5: 1,\n",
       " 52.0: 46,\n",
       " 52.5: 1,\n",
       " 53.0: 6,\n",
       " 53.5: 1,\n",
       " 54.0: 77,\n",
       " 54.25: 1,\n",
       " 54.5: 2,\n",
       " 55.0: 4,\n",
       " 55.5: 1,\n",
       " 56.0: 105,\n",
       " 56.25: 1,\n",
       " 56.5: 2,\n",
       " 57.0: 16,\n",
       " 58.0: 12,\n",
       " 59.0: 6,\n",
       " 59.5: 1,\n",
       " 60.0: 140,\n",
       " 60.5: 1,\n",
       " 61.0: 6,\n",
       " 61.5: 1,\n",
       " 62.0: 1,\n",
       " 62.5: 1,\n",
       " 63.0: 16,\n",
       " 63.5: 2,\n",
       " 63.75: 1,\n",
       " 64.0: 324,\n",
       " 64.5: 4,\n",
       " 65.0: 14,\n",
       " 65.5: 1,\n",
       " 66.0: 19,\n",
       " 66.5: 1,\n",
       " 68.0: 28,\n",
       " 69.0: 10,\n",
       " 70.0: 4,\n",
       " 70.5: 1,\n",
       " 71.5: 1,\n",
       " 72.0: 171,\n",
       " 73.0: 7,\n",
       " 73.5: 1,\n",
       " 73.75: 1,\n",
       " 74.0: 5,\n",
       " 74.5: 1,\n",
       " 75.0: 12,\n",
       " 75.33333333333333: 1,\n",
       " 76.0: 20,\n",
       " 76.5: 1,\n",
       " 77.0: 4,\n",
       " 77.75: 1,\n",
       " 78.0: 16,\n",
       " 78.5: 3,\n",
       " 78.66666666666667: 1,\n",
       " 80.0: 79,\n",
       " 80.5: 1,\n",
       " 81.0: 3,\n",
       " 81.5: 1,\n",
       " 82.0: 2,\n",
       " 82.5: 1,\n",
       " 83.0: 1,\n",
       " 84.0: 36,\n",
       " 84.5: 1,\n",
       " 85.0: 5,\n",
       " 85.5: 3,\n",
       " 86.0: 3,\n",
       " 86.5: 1,\n",
       " 87.0: 2,\n",
       " 88.0: 25,\n",
       " 90.0: 9,\n",
       " 91.0: 3,\n",
       " 92.0: 12,\n",
       " 93.0: 7,\n",
       " 94.0: 3,\n",
       " 95.0: 1,\n",
       " 96.0: 107,\n",
       " 98.0: 2,\n",
       " 99.0: 1,\n",
       " 100.0: 14,\n",
       " 102.0: 10,\n",
       " 104.0: 13,\n",
       " 105.0: 1,\n",
       " 106.0: 1,\n",
       " 108.0: 14,\n",
       " 109.0: 1,\n",
       " 111.33333333333333: 1,\n",
       " 112.0: 24,\n",
       " 113.0: 1,\n",
       " 114.0: 1,\n",
       " 116.0: 5,\n",
       " 120.0: 28,\n",
       " 120.625: 1,\n",
       " 122.0: 1,\n",
       " 123.0: 1,\n",
       " 124.0: 5,\n",
       " 126.0: 2,\n",
       " 128.0: 31,\n",
       " 129.0: 2,\n",
       " 131.0: 1,\n",
       " 132.0: 10,\n",
       " 133.0: 2,\n",
       " 134.0: 1,\n",
       " 136.0: 10,\n",
       " 138.0: 4,\n",
       " 140.0: 4,\n",
       " 142.0: 1,\n",
       " 144.0: 30,\n",
       " 146.0: 1,\n",
       " 148.0: 6,\n",
       " 150.0: 1,\n",
       " 152.0: 8,\n",
       " 154.0: 2,\n",
       " 156.0: 4,\n",
       " 156.66666666666666: 1,\n",
       " 158.0: 2,\n",
       " 160.0: 30,\n",
       " 162.0: 4,\n",
       " 164.0: 6,\n",
       " 166.0: 1,\n",
       " 168.0: 18,\n",
       " 170.0: 1,\n",
       " 172.0: 8,\n",
       " 174.0: 1,\n",
       " 176.0: 9,\n",
       " 178.0: 1,\n",
       " 180.0: 9,\n",
       " 182.0: 1,\n",
       " 184.0: 6,\n",
       " 188.0: 3,\n",
       " 192.0: 14,\n",
       " 196.0: 4,\n",
       " 198.0: 1,\n",
       " 200.0: 3,\n",
       " 204.0: 1,\n",
       " 208.0: 7,\n",
       " 214.0: 1,\n",
       " 216.0: 5,\n",
       " 220.0: 1,\n",
       " 222.0: 1,\n",
       " 224.0: 2,\n",
       " 228.0: 3,\n",
       " 232.0: 2,\n",
       " 236.0: 1,\n",
       " 240.0: 6,\n",
       " 248.0: 6,\n",
       " 256.0: 1,\n",
       " 264.0: 2,\n",
       " 272.0: 4,\n",
       " 276.0: 1,\n",
       " 282.0: 1,\n",
       " 288.0: 4,\n",
       " 290.0: 2,\n",
       " 296.0: 1,\n",
       " 320.0: 1,\n",
       " 334.0: 1,\n",
       " 336.0: 2,\n",
       " 348.0: 2,\n",
       " 352.0: 1,\n",
       " 356.0: 1,\n",
       " 380.0: 1,\n",
       " 416.0: 1,\n",
       " 432.0: 1,\n",
       " 448.0: 1,\n",
       " 468.0: 1,\n",
       " 476.0: 1,\n",
       " 480.0: 1,\n",
       " 496.0: 2,\n",
       " 508.0: 1,\n",
       " 512.0: 1,\n",
       " 528.0: 1,\n",
       " 552.0: 1,\n",
       " 608.0: 1,\n",
       " 696.0: 1}"
      ]
     },
     "execution_count": 33,
     "metadata": {
      "tags": []
     },
     "output_type": "execute_result"
    }
   ],
   "source": [
    "piece_durations_hist"
   ]
  },
  {
   "cell_type": "code",
   "execution_count": null,
   "metadata": {
    "colab": {
     "base_uri": "https://localhost:8080/",
     "height": 487
    },
    "colab_type": "code",
    "id": "zix47sYvN4_p",
    "outputId": "e04e3511-a2e6-4e0a-acc6-1487f823db2a"
   },
   "outputs": [
    {
     "data": {
      "text/plain": [
       "array([ 51.        ,  52.        ,  52.5       ,  53.        ,\n",
       "        54.        ,  54.5       ,  55.        ,  55.5       ,\n",
       "        56.        ,  56.5       ,  57.        ,  58.        ,\n",
       "        59.        ,  60.        ,  61.        ,  62.5       ,\n",
       "        63.        ,  63.5       ,  64.        ,  65.        ,\n",
       "        66.        ,  68.        ,  69.        ,  70.        ,\n",
       "        71.5       ,  72.        ,  73.        ,  73.5       ,\n",
       "        74.        ,  75.        ,  75.33333333,  76.        ,\n",
       "        76.5       ,  77.        ,  77.75      ,  78.        ,\n",
       "        78.5       ,  78.66666667,  80.        ,  81.        ,\n",
       "        81.5       ,  82.        ,  82.5       ,  83.        ,\n",
       "        84.        ,  85.        ,  85.5       ,  86.        ,\n",
       "        86.5       ,  87.        ,  88.        ,  90.        ,\n",
       "        91.        ,  92.        ,  93.        ,  94.        ,\n",
       "        95.        ,  96.        ,  98.        , 100.        ,\n",
       "       102.        , 104.        , 105.        , 106.        ,\n",
       "       108.        , 111.33333333, 112.        , 113.        ,\n",
       "       114.        , 116.        , 120.        , 122.        ,\n",
       "       123.        , 124.        , 126.        , 128.        ,\n",
       "       129.        , 131.        , 132.        , 133.        ,\n",
       "       134.        , 136.        , 138.        , 140.        ,\n",
       "       142.        , 144.        , 146.        , 148.        ,\n",
       "       150.        , 152.        , 154.        , 156.        ,\n",
       "       156.66666667, 158.        , 160.        , 162.        ,\n",
       "       164.        , 166.        , 168.        , 170.        ,\n",
       "       172.        , 174.        , 176.        , 178.        ,\n",
       "       180.        , 182.        , 184.        , 188.        ,\n",
       "       192.        , 196.        , 198.        ])"
      ]
     },
     "execution_count": 28,
     "metadata": {
      "tags": []
     },
     "output_type": "execute_result"
    }
   ],
   "source": [
    "a=elements[elements<200]\n",
    "b=a[a>50]\n",
    "b"
   ]
  },
  {
   "cell_type": "code",
   "execution_count": null,
   "metadata": {
    "colab": {
     "base_uri": "https://localhost:8080/",
     "height": 282
    },
    "colab_type": "code",
    "id": "GjsQ0073lsec",
    "outputId": "7b48adfd-3005-41d1-e5b6-48e45e18f3a1"
   },
   "outputs": [
    {
     "data": {
      "text/plain": [
       "<BarContainer object of 227 artists>"
      ]
     },
     "execution_count": 34,
     "metadata": {
      "tags": []
     },
     "output_type": "execute_result"
    },
    {
     "data": {
      "image/png": "[encoded data removed]",
      "text/plain": [
       "<Figure size 432x288 with 1 Axes>"
      ]
     },
     "metadata": {
      "image/png": {
       "height": 248,
       "width": 381
      },
      "needs_background": "light",
      "tags": []
     },
     "output_type": "display_data"
    }
   ],
   "source": [
    "plt.bar(elements[elements<200],counts[elements<200])"
   ]
  },
  {
   "cell_type": "markdown",
   "metadata": {
    "colab_type": "text",
    "id": "5iAQ5WbWUo41"
   },
   "source": [
    "## Work with midi note vectors"
   ]
  },
  {
   "cell_type": "code",
   "execution_count": null,
   "metadata": {
    "colab": {},
    "colab_type": "code",
    "id": "xYsdPi_hUxkY"
   },
   "outputs": [],
   "source": [
    "notes=pd.read_pickle('data/notes_midi')"
   ]
  },
  {
   "cell_type": "code",
   "execution_count": null,
   "metadata": {
    "colab": {
     "base_uri": "https://localhost:8080/",
     "height": 34
    },
    "colab_type": "code",
    "id": "fZX3hAQtVHX7",
    "outputId": "1d528639-919a-472f-ed01-9f58d32c6977"
   },
   "outputs": [
    {
     "data": {
      "text/plain": [
       "(6213,)"
      ]
     },
     "execution_count": 6,
     "metadata": {
      "tags": []
     },
     "output_type": "execute_result"
    }
   ],
   "source": [
    "notes.shape"
   ]
  },
  {
   "cell_type": "code",
   "execution_count": null,
   "metadata": {
    "colab": {
     "base_uri": "https://localhost:8080/",
     "height": 348
    },
    "colab_type": "code",
    "id": "zuR3cAYhysFS",
    "outputId": "bdb31f70-8a95-4063-8816-25f7e51b29b7"
   },
   "outputs": [
    {
     "data": {
      "image/png": "[encoded data removed]",
      "text/plain": [
       "<Figure size 864x360 with 1 Axes>"
      ]
     },
     "metadata": {
      "image/png": {
       "height": 331,
       "width": 717
      },
      "needs_background": "light",
      "tags": []
     },
     "output_type": "display_data"
    }
   ],
   "source": [
    "import matplotlib.pyplot as plt\n",
    "import matplotlib.lines as mlines\n",
    "\n",
    "def extract_notes(midi_part):\n",
    "    parent_element = []\n",
    "    ret = []\n",
    "    for nt in midi_part.flat.notes:        \n",
    "        if isinstance(nt, note.Note):\n",
    "            ret.append(max(0.0, nt.pitch.ps))\n",
    "            parent_element.append(nt)\n",
    "        elif isinstance(nt, chord.Chord):\n",
    "            for pitch in nt.pitches:\n",
    "                ret.append(max(0.0, pitch.ps))\n",
    "                parent_element.append(nt)\n",
    "    \n",
    "    return ret, parent_element\n",
    "\n",
    "def print_parts_countour(midi):\n",
    "    fig = plt.figure(figsize=(12, 5))\n",
    "    ax = fig.add_subplot(1, 1, 1)\n",
    "    minPitch = pitch.Pitch('C10').ps\n",
    "    maxPitch = 0\n",
    "    xMax = 0\n",
    "    \n",
    "    # Drawing notes.\n",
    "    for i in range(len(midi.parts)):\n",
    "        top = midi.parts[i].flat.notes                  \n",
    "        y, parent_element = extract_notes(top)\n",
    "        if (len(y) < 1): continue\n",
    "            \n",
    "        x = [n.offset for n in parent_element]\n",
    "        ax.scatter(x, y, alpha=0.6, s=7)\n",
    "        \n",
    "        aux = min(y)\n",
    "        if (aux < minPitch): minPitch = aux\n",
    "            \n",
    "        aux = max(y)\n",
    "        if (aux > maxPitch): maxPitch = aux\n",
    "            \n",
    "        aux = max(x)\n",
    "        if (aux > xMax): xMax = aux\n",
    "    \n",
    "    for i in range(1, 10):\n",
    "        linePitch = pitch.Pitch('C{0}'.format(i)).ps\n",
    "        if (linePitch > minPitch and linePitch < maxPitch):\n",
    "            ax.add_line(mlines.Line2D([0, xMax], [linePitch, linePitch], color='red', alpha=0.1))            \n",
    "\n",
    "    plt.ylabel(\"Note index (each octave has 12 notes)\")\n",
    "    plt.xlabel(\"Number of quarter notes (beats)\")\n",
    "    plt.title('Voices motion approximation, each color is a different instrument, red lines show each octave')\n",
    "    plt.show()\n",
    "\n",
    "# Focusing only on 6 first measures to make it easier to understand.\n",
    "print_parts_countour(midi.measures(0, 6))"
   ]
  },
  {
   "cell_type": "code",
   "execution_count": null,
   "metadata": {
    "colab": {
     "base_uri": "https://localhost:8080/",
     "height": 33
    },
    "colab_type": "code",
    "id": "tPzZ09cevurs",
    "outputId": "7674352e-e415-4aa5-fd21-2b0a6718056e"
   },
   "outputs": [
    {
     "data": {
      "text/plain": [
       "<music21.meter.TimeSignature 3/4>"
      ]
     },
     "execution_count": 47,
     "metadata": {
      "tags": []
     },
     "output_type": "execute_result"
    }
   ],
   "source": [
    "notes_to_parse.getTimeSignatures()[0]"
   ]
  },
  {
   "cell_type": "code",
   "execution_count": null,
   "metadata": {
    "colab": {},
    "colab_type": "code",
    "id": "dfVRD-4yCD-9"
   },
   "outputs": [],
   "source": [
    "#load a pickled file containing extracted notes from dataset\n",
    "object = pd.read_pickle(r'data/notes_hot')\n",
    "notes_hot=object\n",
    "n_vocab=128"
   ]
  },
  {
   "cell_type": "code",
   "execution_count": null,
   "metadata": {
    "colab": {},
    "colab_type": "code",
    "id": "wFBnDVoRHQF5"
   },
   "outputs": [],
   "source": [
    "notes=get_notes_hot()"
   ]
  },
  {
   "cell_type": "code",
   "execution_count": null,
   "metadata": {
    "colab": {
     "base_uri": "https://localhost:8080/",
     "height": 88
    },
    "colab_type": "code",
    "id": "xiLLnShCm9Cj",
    "outputId": "f5f4d50f-f45b-4559-f0a6-b96bae542ef2"
   },
   "outputs": [
    {
     "name": "stdout",
     "output_type": "stream",
     "text": [
      "6213\n",
      "(84, 128)\n",
      "(128, 128)\n",
      "(80, 128)\n"
     ]
    }
   ],
   "source": [
    "print(len(notes))\n",
    "print(notes[0].shape)\n",
    "print(notes[1].shape)\n",
    "print(notes[2].shape)"
   ]
  },
  {
   "cell_type": "code",
   "execution_count": null,
   "metadata": {
    "colab": {
     "base_uri": "https://localhost:8080/",
     "height": 376
    },
    "colab_type": "code",
    "id": "zz0AIkrfnOLk",
    "outputId": "55292714-ea32-4b4d-bc59-23b0f1abef30"
   },
   "outputs": [
    {
     "data": {
      "image/png": "[encoded data removed]",
      "text/plain": [
       "<Figure size 1152x432 with 1 Axes>"
      ]
     },
     "metadata": {
      "image/png": {
       "height": 359,
       "width": 933
      },
      "needs_background": "light",
      "tags": []
     },
     "output_type": "display_data"
    }
   ],
   "source": [
    "plt.figure(figsize=(16, 6))\n",
    "plt.imshow(notes_hot[13].T, aspect='auto')\n",
    "plt.set_cmap('gray_r')\n",
    "plt.grid(True)\n"
   ]
  },
  {
   "cell_type": "markdown",
   "metadata": {
    "colab_type": "text",
    "id": "dvy2tFOwtbK3"
   },
   "source": [
    "Plotting the number of notes in each piece in the dataset. We keep pieces with 50-500 notes (notes or rests)."
   ]
  },
  {
   "cell_type": "code",
   "execution_count": null,
   "metadata": {
    "colab": {
     "base_uri": "https://localhost:8080/",
     "height": 162
    },
    "colab_type": "code",
    "id": "wDPZa_6CB8jC",
    "outputId": "45a3f36c-26f3-4e90-eb7a-1e22c4fc9024"
   },
   "outputs": [
    {
     "ename": "NameError",
     "evalue": "ignored",
     "output_type": "error",
     "traceback": [
      "\u001b[0;31m---------------------------------------------------------------------------\u001b[0m",
      "\u001b[0;31mNameError\u001b[0m                                 Traceback (most recent call last)",
      "\u001b[0;32m<ipython-input-20-4fec5ca76e48>\u001b[0m in \u001b[0;36m<module>\u001b[0;34m()\u001b[0m\n\u001b[0;32m----> 1\u001b[0;31m \u001b[0mnotes_hot\u001b[0m\u001b[0;34m=\u001b[0m\u001b[0mnotes_mid\u001b[0m\u001b[0;34m\u001b[0m\u001b[0;34m\u001b[0m\u001b[0m\n\u001b[0m",
      "\u001b[0;31mNameError\u001b[0m: name 'notes_mid' is not defined"
     ]
    }
   ],
   "source": [
    "notes_hot=notes_mid"
   ]
  },
  {
   "cell_type": "code",
   "execution_count": null,
   "metadata": {
    "colab": {},
    "colab_type": "code",
    "id": "PF4nE5nQbjpR"
   },
   "outputs": [],
   "source": []
  },
  {
   "cell_type": "markdown",
   "metadata": {
    "colab_type": "text",
    "id": "FpPtxsuJbkqV"
   },
   "source": [
    "# Transpose All Streams"
   ]
  },
  {
   "cell_type": "code",
   "execution_count": null,
   "metadata": {
    "colab": {},
    "colab_type": "code",
    "id": "A8DC-KK_bpwP"
   },
   "outputs": [],
   "source": [
    "tstreams = pd.read_pickle(r'data/transposed_streams_C')"
   ]
  },
  {
   "cell_type": "code",
   "execution_count": null,
   "metadata": {
    "colab": {},
    "colab_type": "code",
    "id": "OC5Qw65CdJ0U"
   },
   "outputs": [],
   "source": [
    "#The following preprocessing step isolates one part of each stream\n",
    "#Since they are all monophonic, thus having only one part, this serves as to retain only the needed information in a flat structure\n",
    "sstreams=[]\n",
    "for midi in streams:\n",
    "  try: # file has instrument parts\n",
    "    s2 = instrument.partitionByInstrument(midi) #Change to only grab the piano???\n",
    "    notes_to_parse = s2.parts[0].recurse() \n",
    "    if len(s2.parts)!=1:\n",
    "      print(notes_to_parse[0])\n",
    "  except: # file has notes in a flat structure\n",
    "    notes_to_parse = midi.flat.notes\n",
    "  sstreams.append(notes_to_parse)"
   ]
  },
  {
   "cell_type": "code",
   "execution_count": null,
   "metadata": {
    "colab": {},
    "colab_type": "code",
    "id": "BG-koEw6RhqC"
   },
   "outputs": [],
   "source": [
    "notes=[]\n",
    "good=[]\n",
    "bad=[]\n",
    "for s in tstreams:\n",
    "  out=0\n",
    "  for n in s.flat.notes:\n",
    "    if isinstance(n,note.Note):\n",
    "      if n.pitch.pitchClass in [0,2,4,5,7,9,11]:\n",
    "        notes.append(n.pitch.pitchClass)\n",
    "      else:\n",
    "        out=1\n",
    "  if out==1:\n",
    "    bad.append(s)\n",
    "  else:\n",
    "    good.append(s)\n",
    "  out=0\n"
   ]
  },
  {
   "cell_type": "code",
   "execution_count": null,
   "metadata": {
    "colab": {
     "base_uri": "https://localhost:8080/",
     "height": 34
    },
    "colab_type": "code",
    "id": "C4k1XxHgFT3m",
    "outputId": "cb9cf7f3-f5da-4861-9503-4f6019e7ce31"
   },
   "outputs": [
    {
     "data": {
      "text/plain": [
       "<music21.key.Key of e minor>"
      ]
     },
     "execution_count": 23,
     "metadata": {
      "tags": []
     },
     "output_type": "execute_result"
    }
   ],
   "source": [
    "s=streams[2].flat\n",
    "k=s.getElementsByClass(key.Key)\n",
    "k[0]"
   ]
  },
  {
   "cell_type": "code",
   "execution_count": null,
   "metadata": {
    "colab": {
     "base_uri": "https://localhost:8080/",
     "height": 34
    },
    "colab_type": "code",
    "id": "s7xAtJnRFx35",
    "outputId": "b49add36-5617-43c6-e2f8-e398162ecfdb"
   },
   "outputs": [
    {
     "data": {
      "text/plain": [
       "<music21.key.Key of a minor>"
      ]
     },
     "execution_count": 24,
     "metadata": {
      "tags": []
     },
     "output_type": "execute_result"
    }
   ],
   "source": [
    "s=streams[2].flat\n",
    "k=s.analyze('key')\n",
    "k"
   ]
  },
  {
   "cell_type": "code",
   "execution_count": null,
   "metadata": {
    "colab": {},
    "colab_type": "code",
    "id": "t7VoiebbdMnE"
   },
   "outputs": [],
   "source": [
    "keys=[]\n",
    "tstreams=[]\n",
    "for s in streams:\n",
    "  temp=s.flat\n",
    "  k=temp.getElementsByClass(key.Key)\n",
    "  keys.append(k[0])\n",
    "  iM = interval.Interval(k[0].tonic, pitch.Pitch('C4'))\n",
    "  im = interval.Interval(k[0].tonic, pitch.Pitch('A3'))\n",
    "  if k[0].mode=='minor':\n",
    "    sNew = s.transpose(im)\n",
    "  else:\n",
    "    sNew = s.transpose(iM)\n",
    "\n",
    "  tstreams.append(sNew)\n",
    "  "
   ]
  },
  {
   "cell_type": "code",
   "execution_count": null,
   "metadata": {
    "colab": {
     "base_uri": "https://localhost:8080/",
     "height": 34
    },
    "colab_type": "code",
    "id": "-tmwg8GIPN9a",
    "outputId": "8e086643-2930-4214-c79d-db73ddd4a62f"
   },
   "outputs": [
    {
     "data": {
      "text/plain": [
       "7264"
      ]
     },
     "execution_count": 8,
     "metadata": {
      "tags": []
     },
     "output_type": "execute_result"
    }
   ],
   "source": [
    "len(tstreams)"
   ]
  },
  {
   "cell_type": "code",
   "execution_count": null,
   "metadata": {
    "colab": {
     "base_uri": "https://localhost:8080/",
     "height": 34
    },
    "colab_type": "code",
    "id": "iHQ0KbHmUqR0",
    "outputId": "4895b5c5-fbf6-4a42-d617-0922216efc0b"
   },
   "outputs": [
    {
     "data": {
      "text/plain": [
       "0"
      ]
     },
     "execution_count": 24,
     "metadata": {
      "tags": []
     },
     "output_type": "execute_result"
    }
   ],
   "source": [
    "import gc\n",
    "gc.collect()\n"
   ]
  },
  {
   "cell_type": "code",
   "execution_count": null,
   "metadata": {
    "colab": {},
    "colab_type": "code",
    "id": "cjwwpJPWU_3o"
   },
   "outputs": [],
   "source": [
    "del streams"
   ]
  },
  {
   "cell_type": "code",
   "execution_count": null,
   "metadata": {
    "colab": {},
    "colab_type": "code",
    "id": "Ed9eiT-cQDU2"
   },
   "outputs": [],
   "source": [
    "for s in tstreams:\n",
    "  s.transpose(1,inPlace=True)"
   ]
  },
  {
   "cell_type": "code",
   "execution_count": null,
   "metadata": {
    "colab": {},
    "colab_type": "code",
    "id": "EiRYJVUzhXEc"
   },
   "outputs": [],
   "source": [
    "with open('data/transposed_streams_Dsharp', 'wb') as filepath:\n",
    "    pickle.dump(tstreams, filepath)"
   ]
  },
  {
   "cell_type": "code",
   "execution_count": null,
   "metadata": {
    "colab": {
     "base_uri": "https://localhost:8080/",
     "height": 354
    },
    "colab_type": "code",
    "id": "w4aeOngGI3-I",
    "outputId": "b9c13057-5704-4fe8-945f-4de991b1ce71"
   },
   "outputs": [
    {
     "ename": "KeyboardInterrupt",
     "evalue": "ignored",
     "output_type": "error",
     "traceback": [
      "\u001b[0;31m---------------------------------------------------------------------------\u001b[0m",
      "\u001b[0;31mKeyboardInterrupt\u001b[0m                         Traceback (most recent call last)",
      "\u001b[0;32m<ipython-input-73-6eb9b3860621>\u001b[0m in \u001b[0;36m<module>\u001b[0;34m()\u001b[0m\n\u001b[1;32m      2\u001b[0m \u001b[0;32mfor\u001b[0m \u001b[0ms\u001b[0m \u001b[0;32min\u001b[0m \u001b[0mtstreams\u001b[0m\u001b[0;34m:\u001b[0m\u001b[0;34m\u001b[0m\u001b[0;34m\u001b[0m\u001b[0m\n\u001b[1;32m      3\u001b[0m   \u001b[0;32mfor\u001b[0m \u001b[0mi\u001b[0m \u001b[0;32min\u001b[0m \u001b[0mrange\u001b[0m\u001b[0;34m(\u001b[0m\u001b[0;36m12\u001b[0m\u001b[0;34m)\u001b[0m\u001b[0;34m:\u001b[0m\u001b[0;34m\u001b[0m\u001b[0;34m\u001b[0m\u001b[0m\n\u001b[0;32m----> 4\u001b[0;31m     \u001b[0msNew\u001b[0m\u001b[0;34m=\u001b[0m\u001b[0ms\u001b[0m\u001b[0;34m.\u001b[0m\u001b[0mtranspose\u001b[0m\u001b[0;34m(\u001b[0m\u001b[0mi\u001b[0m\u001b[0;34m)\u001b[0m\u001b[0;34m\u001b[0m\u001b[0;34m\u001b[0m\u001b[0m\n\u001b[0m\u001b[1;32m      5\u001b[0m     \u001b[0mttstreams\u001b[0m\u001b[0;34m.\u001b[0m\u001b[0mappend\u001b[0m\u001b[0;34m(\u001b[0m\u001b[0msNew\u001b[0m\u001b[0;34m)\u001b[0m\u001b[0;34m\u001b[0m\u001b[0;34m\u001b[0m\u001b[0m\n",
      "\u001b[0;32m/usr/local/lib/python3.6/dist-packages/music21/stream/__init__.py\u001b[0m in \u001b[0;36mtranspose\u001b[0;34m(self, value, inPlace, recurse, classFilterList)\u001b[0m\n\u001b[1;32m   7935\u001b[0m                             \u001b[0mvalue\u001b[0m\u001b[0;34m.\u001b[0m\u001b[0mtransposePitchKeyAware\u001b[0m\u001b[0;34m(\u001b[0m\u001b[0mp\u001b[0m\u001b[0;34m,\u001b[0m \u001b[0mk\u001b[0m\u001b[0;34m,\u001b[0m \u001b[0minPlace\u001b[0m\u001b[0;34m=\u001b[0m\u001b[0;32mTrue\u001b[0m\u001b[0;34m)\u001b[0m\u001b[0;34m\u001b[0m\u001b[0;34m\u001b[0m\u001b[0m\n\u001b[1;32m   7936\u001b[0m                 \u001b[0;32melse\u001b[0m\u001b[0;34m:\u001b[0m\u001b[0;34m\u001b[0m\u001b[0;34m\u001b[0m\u001b[0m\n\u001b[0;32m-> 7937\u001b[0;31m                     \u001b[0me\u001b[0m\u001b[0;34m.\u001b[0m\u001b[0mtranspose\u001b[0m\u001b[0;34m(\u001b[0m\u001b[0mvalue\u001b[0m\u001b[0;34m,\u001b[0m \u001b[0minPlace\u001b[0m\u001b[0;34m=\u001b[0m\u001b[0;32mTrue\u001b[0m\u001b[0;34m)\u001b[0m\u001b[0;34m\u001b[0m\u001b[0;34m\u001b[0m\u001b[0m\n\u001b[0m\u001b[1;32m   7938\u001b[0m         \u001b[0;32mif\u001b[0m \u001b[0;32mnot\u001b[0m \u001b[0minPlace\u001b[0m\u001b[0;34m:\u001b[0m\u001b[0;34m\u001b[0m\u001b[0;34m\u001b[0m\u001b[0m\n\u001b[1;32m   7939\u001b[0m             \u001b[0;32mreturn\u001b[0m \u001b[0mpost\u001b[0m\u001b[0;34m\u001b[0m\u001b[0;34m\u001b[0m\u001b[0m\n",
      "\u001b[0;32m/usr/local/lib/python3.6/dist-packages/music21/note.py\u001b[0m in \u001b[0;36mtranspose\u001b[0;34m(self, value, inPlace)\u001b[0m\n\u001b[1;32m   1330\u001b[0m             \u001b[0mintervalObj\u001b[0m \u001b[0;34m=\u001b[0m \u001b[0mvalue\u001b[0m\u001b[0;34m\u001b[0m\u001b[0;34m\u001b[0m\u001b[0m\n\u001b[1;32m   1331\u001b[0m         \u001b[0;32melse\u001b[0m\u001b[0;34m:\u001b[0m \u001b[0;31m# try to process\u001b[0m\u001b[0;34m\u001b[0m\u001b[0;34m\u001b[0m\u001b[0m\n\u001b[0;32m-> 1332\u001b[0;31m             \u001b[0mintervalObj\u001b[0m \u001b[0;34m=\u001b[0m \u001b[0minterval\u001b[0m\u001b[0;34m.\u001b[0m\u001b[0mInterval\u001b[0m\u001b[0;34m(\u001b[0m\u001b[0mvalue\u001b[0m\u001b[0;34m)\u001b[0m\u001b[0;34m\u001b[0m\u001b[0;34m\u001b[0m\u001b[0m\n\u001b[0m\u001b[1;32m   1333\u001b[0m \u001b[0;34m\u001b[0m\u001b[0m\n\u001b[1;32m   1334\u001b[0m         \u001b[0;32mif\u001b[0m \u001b[0;32mnot\u001b[0m \u001b[0minPlace\u001b[0m\u001b[0;34m:\u001b[0m\u001b[0;34m\u001b[0m\u001b[0;34m\u001b[0m\u001b[0m\n",
      "\u001b[0;32m/usr/local/lib/python3.6/dist-packages/music21/interval.py\u001b[0m in \u001b[0;36m__init__\u001b[0;34m(self, *arguments, **keywords)\u001b[0m\n\u001b[1;32m   1903\u001b[0m         \u001b[0;31m#        _noteEnd = Pitch (or Note) object\u001b[0m\u001b[0;34m\u001b[0m\u001b[0;34m\u001b[0m\u001b[0;34m\u001b[0m\u001b[0m\n\u001b[1;32m   1904\u001b[0m         \u001b[0;31m#     in which case it figures out the diatonic and chromatic intervals itself\u001b[0m\u001b[0;34m\u001b[0m\u001b[0;34m\u001b[0m\u001b[0;34m\u001b[0m\u001b[0m\n\u001b[0;32m-> 1905\u001b[0;31m         \u001b[0msuper\u001b[0m\u001b[0;34m(\u001b[0m\u001b[0;34m)\u001b[0m\u001b[0;34m.\u001b[0m\u001b[0m__init__\u001b[0m\u001b[0;34m(\u001b[0m\u001b[0;34m)\u001b[0m\u001b[0;34m\u001b[0m\u001b[0;34m\u001b[0m\u001b[0m\n\u001b[0m\u001b[1;32m   1906\u001b[0m         \u001b[0mself\u001b[0m\u001b[0;34m.\u001b[0m\u001b[0mdiatonic\u001b[0m \u001b[0;34m=\u001b[0m \u001b[0;32mNone\u001b[0m\u001b[0;34m\u001b[0m\u001b[0;34m\u001b[0m\u001b[0m\n\u001b[1;32m   1907\u001b[0m         \u001b[0mself\u001b[0m\u001b[0;34m.\u001b[0m\u001b[0mchromatic\u001b[0m \u001b[0;34m=\u001b[0m \u001b[0;32mNone\u001b[0m\u001b[0;34m\u001b[0m\u001b[0;34m\u001b[0m\u001b[0m\n",
      "\u001b[0;32m/usr/local/lib/python3.6/dist-packages/music21/base.py\u001b[0m in \u001b[0;36m__init__\u001b[0;34m(self, *arguments, **keywords)\u001b[0m\n\u001b[1;32m    389\u001b[0m             \u001b[0mself\u001b[0m\u001b[0;34m.\u001b[0m\u001b[0msites\u001b[0m \u001b[0;34m=\u001b[0m \u001b[0mkeywords\u001b[0m\u001b[0;34m[\u001b[0m\u001b[0;34m'sites'\u001b[0m\u001b[0;34m]\u001b[0m\u001b[0;34m\u001b[0m\u001b[0;34m\u001b[0m\u001b[0m\n\u001b[1;32m    390\u001b[0m         \u001b[0;32melse\u001b[0m\u001b[0;34m:\u001b[0m\u001b[0;34m\u001b[0m\u001b[0;34m\u001b[0m\u001b[0m\n\u001b[0;32m--> 391\u001b[0;31m             \u001b[0mself\u001b[0m\u001b[0;34m.\u001b[0m\u001b[0msites\u001b[0m \u001b[0;34m=\u001b[0m \u001b[0msites\u001b[0m\u001b[0;34m.\u001b[0m\u001b[0mSites\u001b[0m\u001b[0;34m(\u001b[0m\u001b[0;34m)\u001b[0m\u001b[0;34m\u001b[0m\u001b[0;34m\u001b[0m\u001b[0m\n\u001b[0m\u001b[1;32m    392\u001b[0m \u001b[0;34m\u001b[0m\u001b[0m\n\u001b[1;32m    393\u001b[0m         \u001b[0;31m# a duration object is not created until the .duration property is\u001b[0m\u001b[0;34m\u001b[0m\u001b[0;34m\u001b[0m\u001b[0;34m\u001b[0m\u001b[0m\n",
      "\u001b[0;32m/usr/local/lib/python3.6/dist-packages/music21/sites.py\u001b[0m in \u001b[0;36m__init__\u001b[0;34m(self)\u001b[0m\n\u001b[1;32m    163\u001b[0m     \u001b[0;32mdef\u001b[0m \u001b[0m__init__\u001b[0m\u001b[0;34m(\u001b[0m\u001b[0mself\u001b[0m\u001b[0;34m)\u001b[0m\u001b[0;34m:\u001b[0m\u001b[0;34m\u001b[0m\u001b[0;34m\u001b[0m\u001b[0m\n\u001b[1;32m    164\u001b[0m         \u001b[0;31m# .siteDict is a dictionary of siteRefs.  None is a singleton.\u001b[0m\u001b[0;34m\u001b[0m\u001b[0;34m\u001b[0m\u001b[0;34m\u001b[0m\u001b[0m\n\u001b[0;32m--> 165\u001b[0;31m         \u001b[0mself\u001b[0m\u001b[0;34m.\u001b[0m\u001b[0msiteDict\u001b[0m \u001b[0;34m=\u001b[0m \u001b[0mcollections\u001b[0m\u001b[0;34m.\u001b[0m\u001b[0mOrderedDict\u001b[0m\u001b[0;34m(\u001b[0m\u001b[0;34m[\u001b[0m\u001b[0;34m(\u001b[0m\u001b[0;32mNone\u001b[0m\u001b[0;34m,\u001b[0m \u001b[0m_NoneSiteRef\u001b[0m\u001b[0;34m)\u001b[0m\u001b[0;34m,\u001b[0m\u001b[0;34m]\u001b[0m\u001b[0;34m)\u001b[0m\u001b[0;34m\u001b[0m\u001b[0;34m\u001b[0m\u001b[0m\n\u001b[0m\u001b[1;32m    166\u001b[0m \u001b[0;34m\u001b[0m\u001b[0m\n\u001b[1;32m    167\u001b[0m         \u001b[0;31m# store an index of numbers for tagging the order of creation of defined contexts;\u001b[0m\u001b[0;34m\u001b[0m\u001b[0;34m\u001b[0m\u001b[0;34m\u001b[0m\u001b[0m\n",
      "\u001b[0;31mKeyboardInterrupt\u001b[0m: "
     ]
    }
   ],
   "source": [
    "ttstreams=[]\n",
    "for s in tstreams:\n",
    "    sNew=s.transpose(1)\n",
    "    ttstreams.append(sNew)"
   ]
  },
  {
   "cell_type": "code",
   "execution_count": null,
   "metadata": {
    "colab": {},
    "colab_type": "code",
    "id": "LYoEVewhbu1C"
   },
   "outputs": [],
   "source": [
    "def transpose_streamsC4_inplace(streams):\n",
    "  print('First Pass')\n",
    "  for s in streams:\n",
    "    k = s.analyze('key')\n",
    "    print(k.tonicPitchNameWithCase)\n",
    "    i = interval.Interval(k.tonic, pitch.Pitch('C4'))\n",
    "    sNew = s.transpose(i,inPlace=True)\n",
    "  print('Second Pass')\n",
    "  for s in streams:\n",
    "    k = s.analyze('key')\n",
    "    print(k.tonicPitchNameWithCase)\n",
    "    i = interval.Interval(k.tonic, pitch.Pitch('A3'))\n",
    "    if k.mode=='minor':\n",
    "      sNew = s.transpose(i,inPlace=True)"
   ]
  },
  {
   "cell_type": "code",
   "execution_count": null,
   "metadata": {
    "colab": {},
    "colab_type": "code",
    "id": "RFUPtbtv65Dk"
   },
   "outputs": [],
   "source": [
    "def transpose_sstreamsC4_inplace(sstreams):\n",
    "  for s in sstreams:\n",
    "    k=s.getElementsByClass(key.Key)[0]\n",
    "    iM = interval.Interval(k.tonic, pitch.Pitch('C4'))\n",
    "    im = interval.Interval(k.tonic, pitch.Pitch('A3'))\n",
    "    if k.mode=='minor':\n",
    "      sNew = s.transpose(im,inPlace=True)\n",
    "    else:\n",
    "      sNew = s.transpose(iM,inPlace=True)\n",
    "  "
   ]
  },
  {
   "cell_type": "code",
   "execution_count": null,
   "metadata": {
    "colab": {},
    "colab_type": "code",
    "id": "uhnN1JGzcA3r"
   },
   "outputs": [],
   "source": [
    "transpose_sstreamsC4_inplace(sstreams[0:100])"
   ]
  },
  {
   "cell_type": "code",
   "execution_count": null,
   "metadata": {
    "colab": {},
    "colab_type": "code",
    "id": "UUKOq2LYiJM_"
   },
   "outputs": [],
   "source": [
    " ssstreams=tstreams[0:100]"
   ]
  },
  {
   "cell_type": "code",
   "execution_count": null,
   "metadata": {
    "colab": {
     "base_uri": "https://localhost:8080/",
     "height": 505
    },
    "colab_type": "code",
    "id": "QiU1DtfAyok5",
    "outputId": "d09b4967-d7ca-4e69-cd13-6b41b95d490d"
   },
   "outputs": [
    {
     "ename": "KeyError",
     "evalue": "ignored",
     "output_type": "error",
     "traceback": [
      "\u001b[0;31m---------------------------------------------------------------------------\u001b[0m",
      "\u001b[0;31mKeyError\u001b[0m                                  Traceback (most recent call last)",
      "\u001b[0;32m/usr/local/lib/python3.6/dist-packages/music21/stream/__init__.py\u001b[0m in \u001b[0;36melementOffset\u001b[0;34m(self, element, stringReturns)\u001b[0m\n\u001b[1;32m   1581\u001b[0m         \u001b[0;32mtry\u001b[0m\u001b[0;34m:\u001b[0m\u001b[0;34m\u001b[0m\u001b[0;34m\u001b[0m\u001b[0m\n\u001b[0;32m-> 1582\u001b[0;31m             \u001b[0mo\u001b[0m \u001b[0;34m=\u001b[0m \u001b[0mself\u001b[0m\u001b[0;34m.\u001b[0m\u001b[0m_offsetDict\u001b[0m\u001b[0;34m[\u001b[0m\u001b[0mid\u001b[0m\u001b[0;34m(\u001b[0m\u001b[0melement\u001b[0m\u001b[0;34m)\u001b[0m\u001b[0;34m]\u001b[0m\u001b[0;34m[\u001b[0m\u001b[0;36m0\u001b[0m\u001b[0;34m]\u001b[0m \u001b[0;31m# 2.3 million times found in TestStream\u001b[0m\u001b[0;34m\u001b[0m\u001b[0;34m\u001b[0m\u001b[0m\n\u001b[0m\u001b[1;32m   1583\u001b[0m             \u001b[0;31m#if returnedElement is not element: # stale reference...\u001b[0m\u001b[0;34m\u001b[0m\u001b[0;34m\u001b[0m\u001b[0;34m\u001b[0m\u001b[0m\n",
      "\u001b[0;31mKeyError\u001b[0m: 140563237982672",
      "\nDuring handling of the above exception, another exception occurred:\n",
      "\u001b[0;31mSitesException\u001b[0m                            Traceback (most recent call last)",
      "\u001b[0;32m/usr/local/lib/python3.6/dist-packages/music21/stream/iterator.py\u001b[0m in \u001b[0;36mstream\u001b[0;34m(self, returnStreamSubClass)\u001b[0m\n\u001b[1;32m    675\u001b[0m             \u001b[0;32mtry\u001b[0m\u001b[0;34m:\u001b[0m\u001b[0;34m\u001b[0m\u001b[0;34m\u001b[0m\u001b[0m\n\u001b[0;32m--> 676\u001b[0;31m                 \u001b[0mo\u001b[0m \u001b[0;34m=\u001b[0m \u001b[0mss\u001b[0m\u001b[0;34m.\u001b[0m\u001b[0melementOffset\u001b[0m\u001b[0;34m(\u001b[0m\u001b[0me\u001b[0m\u001b[0;34m,\u001b[0m \u001b[0mstringReturns\u001b[0m\u001b[0;34m=\u001b[0m\u001b[0;32mTrue\u001b[0m\u001b[0;34m)\u001b[0m\u001b[0;34m\u001b[0m\u001b[0;34m\u001b[0m\u001b[0m\n\u001b[0m\u001b[1;32m    677\u001b[0m             \u001b[0;32mexcept\u001b[0m \u001b[0mSitesException\u001b[0m\u001b[0;34m:\u001b[0m\u001b[0;34m\u001b[0m\u001b[0;34m\u001b[0m\u001b[0m\n",
      "\u001b[0;32m/usr/local/lib/python3.6/dist-packages/music21/stream/__init__.py\u001b[0m in \u001b[0;36melementOffset\u001b[0;34m(self, element, stringReturns)\u001b[0m\n\u001b[1;32m   1592\u001b[0m                     \u001b[0;34m\"an entry for this object 0x%x is not stored in stream %s\"\u001b[0m \u001b[0;34m%\u001b[0m\u001b[0;34m\u001b[0m\u001b[0;34m\u001b[0m\u001b[0m\n\u001b[0;32m-> 1593\u001b[0;31m                     (id(element), self))\n\u001b[0m\u001b[1;32m   1594\u001b[0m \u001b[0;34m\u001b[0m\u001b[0m\n",
      "\u001b[0;31mSitesException\u001b[0m: an entry for this object 0x7fd76dde51d0 is not stored in stream <music21.stream.Part spine_0>",
      "\nDuring handling of the above exception, another exception occurred:\n",
      "\u001b[0;31mKeyError\u001b[0m                                  Traceback (most recent call last)",
      "\u001b[0;32m<ipython-input-60-7e487c8d5453>\u001b[0m in \u001b[0;36m<module>\u001b[0;34m()\u001b[0m\n\u001b[0;32m----> 1\u001b[0;31m \u001b[0mstreams\u001b[0m\u001b[0;34m[\u001b[0m\u001b[0;36m0\u001b[0m\u001b[0;34m]\u001b[0m\u001b[0;34m.\u001b[0m\u001b[0mparts\u001b[0m\u001b[0;34m[\u001b[0m\u001b[0;36m0\u001b[0m\u001b[0;34m]\u001b[0m\u001b[0;34m.\u001b[0m\u001b[0mrecurse\u001b[0m\u001b[0;34m(\u001b[0m\u001b[0;34m)\u001b[0m\u001b[0;34m.\u001b[0m\u001b[0manalyze\u001b[0m\u001b[0;34m(\u001b[0m\u001b[0;34m'key'\u001b[0m\u001b[0;34m)\u001b[0m\u001b[0;34m\u001b[0m\u001b[0;34m\u001b[0m\u001b[0m\n\u001b[0m",
      "\u001b[0;32m/usr/local/lib/python3.6/dist-packages/music21/stream/iterator.py\u001b[0m in \u001b[0;36m__getattr__\u001b[0;34m(self, attr)\u001b[0m\n\u001b[1;32m    264\u001b[0m             stacklevel=2)\n\u001b[1;32m    265\u001b[0m \u001b[0;34m\u001b[0m\u001b[0m\n\u001b[0;32m--> 266\u001b[0;31m         \u001b[0msOut\u001b[0m \u001b[0;34m=\u001b[0m \u001b[0mself\u001b[0m\u001b[0;34m.\u001b[0m\u001b[0mstream\u001b[0m\u001b[0;34m(\u001b[0m\u001b[0;34m)\u001b[0m\u001b[0;34m\u001b[0m\u001b[0;34m\u001b[0m\u001b[0m\n\u001b[0m\u001b[1;32m    267\u001b[0m         \u001b[0;32mreturn\u001b[0m \u001b[0mgetattr\u001b[0m\u001b[0;34m(\u001b[0m\u001b[0msOut\u001b[0m\u001b[0;34m,\u001b[0m \u001b[0mattr\u001b[0m\u001b[0;34m)\u001b[0m\u001b[0;34m\u001b[0m\u001b[0;34m\u001b[0m\u001b[0m\n\u001b[1;32m    268\u001b[0m \u001b[0;34m\u001b[0m\u001b[0m\n",
      "\u001b[0;32m/usr/local/lib/python3.6/dist-packages/music21/stream/iterator.py\u001b[0m in \u001b[0;36mstream\u001b[0;34m(self, returnStreamSubClass)\u001b[0m\n\u001b[1;32m    678\u001b[0m                 \u001b[0;31m# this can happen in the case of, s.recurse().notes.stream() -- need to do new\u001b[0m\u001b[0;34m\u001b[0m\u001b[0;34m\u001b[0m\u001b[0;34m\u001b[0m\u001b[0m\n\u001b[1;32m    679\u001b[0m                 \u001b[0;31m# stream...\u001b[0m\u001b[0;34m\u001b[0m\u001b[0;34m\u001b[0m\u001b[0;34m\u001b[0m\u001b[0m\n\u001b[0;32m--> 680\u001b[0;31m                 \u001b[0mo\u001b[0m \u001b[0;34m=\u001b[0m \u001b[0me\u001b[0m\u001b[0;34m.\u001b[0m\u001b[0mgetOffsetInHierarchy\u001b[0m\u001b[0;34m(\u001b[0m\u001b[0mss\u001b[0m\u001b[0;34m)\u001b[0m\u001b[0;34m\u001b[0m\u001b[0;34m\u001b[0m\u001b[0m\n\u001b[0m\u001b[1;32m    681\u001b[0m                 \u001b[0mclearIsSorted\u001b[0m \u001b[0;34m=\u001b[0m \u001b[0;32mTrue\u001b[0m \u001b[0;31m# now the stream is probably not sorted...\u001b[0m\u001b[0;34m\u001b[0m\u001b[0;34m\u001b[0m\u001b[0m\n\u001b[1;32m    682\u001b[0m \u001b[0;34m\u001b[0m\u001b[0m\n",
      "\u001b[0;32m/usr/local/lib/python3.6/dist-packages/music21/base.py\u001b[0m in \u001b[0;36mgetOffsetInHierarchy\u001b[0;34m(self, site)\u001b[0m\n\u001b[1;32m   1086\u001b[0m         \u001b[0;31m# do not use priorityTarget, just slows things down because will need to search\u001b[0m\u001b[0;34m\u001b[0m\u001b[0;34m\u001b[0m\u001b[0;34m\u001b[0m\u001b[0m\n\u001b[1;32m   1087\u001b[0m         \u001b[0;31m# all anyhow, since site is not in self.sites.yieldSites()\u001b[0m\u001b[0;34m\u001b[0m\u001b[0;34m\u001b[0m\u001b[0;34m\u001b[0m\u001b[0m\n\u001b[0;32m-> 1088\u001b[0;31m         \u001b[0;32mfor\u001b[0m \u001b[0mcs\u001b[0m \u001b[0;32min\u001b[0m \u001b[0mself\u001b[0m\u001b[0;34m.\u001b[0m\u001b[0mcontextSites\u001b[0m\u001b[0;34m(\u001b[0m\u001b[0;34m)\u001b[0m\u001b[0;34m:\u001b[0m\u001b[0;34m\u001b[0m\u001b[0;34m\u001b[0m\u001b[0m\n\u001b[0m\u001b[1;32m   1089\u001b[0m             \u001b[0;32mif\u001b[0m \u001b[0mcs\u001b[0m\u001b[0;34m.\u001b[0m\u001b[0msite\u001b[0m \u001b[0;32mis\u001b[0m \u001b[0msite\u001b[0m\u001b[0;34m:\u001b[0m\u001b[0;34m\u001b[0m\u001b[0;34m\u001b[0m\u001b[0m\n\u001b[1;32m   1090\u001b[0m                 \u001b[0;32mreturn\u001b[0m \u001b[0mcs\u001b[0m\u001b[0;34m.\u001b[0m\u001b[0moffset\u001b[0m\u001b[0;34m\u001b[0m\u001b[0;34m\u001b[0m\u001b[0m\n",
      "\u001b[0;32m/usr/local/lib/python3.6/dist-packages/music21/base.py\u001b[0m in \u001b[0;36mcontextSites\u001b[0;34m(self, callerFirst, memo, offsetAppend, sortByCreationTime, priorityTarget, returnSortTuples, followDerivation)\u001b[0m\n\u001b[1;32m   1724\u001b[0m                                               \u001b[0moffsetAppend\u001b[0m\u001b[0;34m=\u001b[0m\u001b[0mpositionInStream\u001b[0m\u001b[0;34m.\u001b[0m\u001b[0moffset\u001b[0m\u001b[0;34m,\u001b[0m\u001b[0;34m\u001b[0m\u001b[0;34m\u001b[0m\u001b[0m\n\u001b[1;32m   1725\u001b[0m                                               \u001b[0mreturnSortTuples\u001b[0m\u001b[0;34m=\u001b[0m\u001b[0;32mTrue\u001b[0m\u001b[0;34m,\u001b[0m \u001b[0;31m# ALWAYS\u001b[0m\u001b[0;34m\u001b[0m\u001b[0;34m\u001b[0m\u001b[0m\n\u001b[0;32m-> 1726\u001b[0;31m                                               sortByCreationTime=sortByCreationTime):\n\u001b[0m\u001b[1;32m   1727\u001b[0m                                 \u001b[0;31m# get activeSite unless sortByCreationTime\u001b[0m\u001b[0;34m\u001b[0m\u001b[0;34m\u001b[0m\u001b[0;34m\u001b[0m\u001b[0m\n\u001b[1;32m   1728\u001b[0m                 \u001b[0minStreamOffset\u001b[0m \u001b[0;34m=\u001b[0m \u001b[0minStreamPos\u001b[0m\u001b[0;34m.\u001b[0m\u001b[0moffset\u001b[0m\u001b[0;34m\u001b[0m\u001b[0;34m\u001b[0m\u001b[0m\n",
      "\u001b[0;32m/usr/local/lib/python3.6/dist-packages/music21/base.py\u001b[0m in \u001b[0;36mcontextSites\u001b[0;34m(self, callerFirst, memo, offsetAppend, sortByCreationTime, priorityTarget, returnSortTuples, followDerivation)\u001b[0m\n\u001b[1;32m   1752\u001b[0m                                               \u001b[0moffsetAppend\u001b[0m\u001b[0;34m=\u001b[0m\u001b[0;36m0.0\u001b[0m\u001b[0;34m,\u001b[0m\u001b[0;34m\u001b[0m\u001b[0;34m\u001b[0m\u001b[0m\n\u001b[1;32m   1753\u001b[0m                                               \u001b[0mreturnSortTuples\u001b[0m\u001b[0;34m=\u001b[0m\u001b[0;32mTrue\u001b[0m\u001b[0;34m,\u001b[0m\u001b[0;34m\u001b[0m\u001b[0;34m\u001b[0m\u001b[0m\n\u001b[0;32m-> 1754\u001b[0;31m                                               sortByCreationTime=sortByCreationTime):\n\u001b[0m\u001b[1;32m   1755\u001b[0m                                             \u001b[0;31m# get activeSite unless sortByCreationTime\u001b[0m\u001b[0;34m\u001b[0m\u001b[0;34m\u001b[0m\u001b[0;34m\u001b[0m\u001b[0m\n\u001b[1;32m   1756\u001b[0m                     \u001b[0;32mif\u001b[0m \u001b[0mderivedCsTuple\u001b[0m\u001b[0;34m.\u001b[0m\u001b[0msite\u001b[0m \u001b[0;32min\u001b[0m \u001b[0mmemo\u001b[0m\u001b[0;34m:\u001b[0m\u001b[0;34m\u001b[0m\u001b[0;34m\u001b[0m\u001b[0m\n",
      "\u001b[0;32m/usr/local/lib/python3.6/dist-packages/music21/base.py\u001b[0m in \u001b[0;36mcontextSites\u001b[0;34m(self, callerFirst, memo, offsetAppend, sortByCreationTime, priorityTarget, returnSortTuples, followDerivation)\u001b[0m\n\u001b[1;32m   1675\u001b[0m                                                                 callerFirst, offsetAppend))\n\u001b[1;32m   1676\u001b[0m                 \u001b[0;32mif\u001b[0m \u001b[0mreturnSortTuples\u001b[0m\u001b[0;34m:\u001b[0m\u001b[0;34m\u001b[0m\u001b[0;34m\u001b[0m\u001b[0m\n\u001b[0;32m-> 1677\u001b[0;31m                     \u001b[0mselfSortTuple\u001b[0m \u001b[0;34m=\u001b[0m \u001b[0mself\u001b[0m\u001b[0;34m.\u001b[0m\u001b[0msortTuple\u001b[0m\u001b[0;34m(\u001b[0m\u001b[0;34m)\u001b[0m\u001b[0;34m.\u001b[0m\u001b[0mmodify\u001b[0m\u001b[0;34m(\u001b[0m\u001b[0moffset\u001b[0m\u001b[0;34m=\u001b[0m\u001b[0;36m0.0\u001b[0m\u001b[0;34m,\u001b[0m \u001b[0mpriority\u001b[0m\u001b[0;34m=\u001b[0m\u001b[0mfloat\u001b[0m\u001b[0;34m(\u001b[0m\u001b[0;34m'-inf'\u001b[0m\u001b[0;34m)\u001b[0m\u001b[0;34m)\u001b[0m\u001b[0;34m\u001b[0m\u001b[0;34m\u001b[0m\u001b[0m\n\u001b[0m\u001b[1;32m   1678\u001b[0m                     \u001b[0;32myield\u001b[0m \u001b[0mContextTuple\u001b[0m\u001b[0;34m(\u001b[0m\u001b[0mself\u001b[0m\u001b[0;34m,\u001b[0m \u001b[0mselfSortTuple\u001b[0m\u001b[0;34m,\u001b[0m \u001b[0mrecursionType\u001b[0m\u001b[0;34m)\u001b[0m\u001b[0;34m\u001b[0m\u001b[0;34m\u001b[0m\u001b[0m\n\u001b[1;32m   1679\u001b[0m                 \u001b[0;32melse\u001b[0m\u001b[0;34m:\u001b[0m\u001b[0;34m\u001b[0m\u001b[0;34m\u001b[0m\u001b[0m\n",
      "\u001b[0;32m/usr/local/lib/python3.6/dist-packages/music21/base.py\u001b[0m in \u001b[0;36msortTuple\u001b[0;34m(self, useSite, raiseExceptionOnMiss)\u001b[0m\n\u001b[1;32m   2374\u001b[0m             \u001b[0minsertIndex\u001b[0m \u001b[0;34m=\u001b[0m \u001b[0mself\u001b[0m\u001b[0;34m.\u001b[0m\u001b[0msites\u001b[0m\u001b[0;34m.\u001b[0m\u001b[0msiteDict\u001b[0m\u001b[0;34m[\u001b[0m\u001b[0mid\u001b[0m\u001b[0;34m(\u001b[0m\u001b[0museSite\u001b[0m\u001b[0;34m)\u001b[0m\u001b[0;34m]\u001b[0m\u001b[0;34m.\u001b[0m\u001b[0mglobalSiteIndex\u001b[0m\u001b[0;34m\u001b[0m\u001b[0;34m\u001b[0m\u001b[0m\n\u001b[1;32m   2375\u001b[0m         \u001b[0;32melif\u001b[0m \u001b[0mself\u001b[0m\u001b[0;34m.\u001b[0m\u001b[0mactiveSite\u001b[0m \u001b[0;32mis\u001b[0m \u001b[0;32mnot\u001b[0m \u001b[0;32mNone\u001b[0m\u001b[0;34m:\u001b[0m\u001b[0;34m\u001b[0m\u001b[0;34m\u001b[0m\u001b[0m\n\u001b[0;32m-> 2376\u001b[0;31m             \u001b[0minsertIndex\u001b[0m \u001b[0;34m=\u001b[0m \u001b[0mself\u001b[0m\u001b[0;34m.\u001b[0m\u001b[0msites\u001b[0m\u001b[0;34m.\u001b[0m\u001b[0msiteDict\u001b[0m\u001b[0;34m[\u001b[0m\u001b[0mid\u001b[0m\u001b[0;34m(\u001b[0m\u001b[0mself\u001b[0m\u001b[0;34m.\u001b[0m\u001b[0mactiveSite\u001b[0m\u001b[0;34m)\u001b[0m\u001b[0;34m]\u001b[0m\u001b[0;34m.\u001b[0m\u001b[0mglobalSiteIndex\u001b[0m\u001b[0;34m\u001b[0m\u001b[0;34m\u001b[0m\u001b[0m\n\u001b[0m\u001b[1;32m   2377\u001b[0m         \u001b[0;32melse\u001b[0m\u001b[0;34m:\u001b[0m\u001b[0;34m\u001b[0m\u001b[0;34m\u001b[0m\u001b[0m\n\u001b[1;32m   2378\u001b[0m             \u001b[0minsertIndex\u001b[0m \u001b[0;34m=\u001b[0m \u001b[0;36m0\u001b[0m\u001b[0;34m\u001b[0m\u001b[0;34m\u001b[0m\u001b[0m\n",
      "\u001b[0;31mKeyError\u001b[0m: 140563246857968"
     ]
    }
   ],
   "source": [
    "streams[0].parts[0].recurse().analyze('key')"
   ]
  },
  {
   "cell_type": "code",
   "execution_count": null,
   "metadata": {
    "colab": {
     "base_uri": "https://localhost:8080/",
     "height": 840
    },
    "colab_type": "code",
    "id": "G1bgE2dG6e3N",
    "outputId": "bbc48a35-e840-4cf5-ad99-91c2d247f089"
   },
   "outputs": [
    {
     "name": "stdout",
     "output_type": "stream",
     "text": [
      "{0.0} <music21.stream.Measure 0 offset=0.0>\n",
      "    {0.0} <music21.instrument.Vocalist Voice>\n",
      "    {0.0} <music21.instrument.Vocalist Voice>\n",
      "    {0.0} <music21.meter.TimeSignature 2/4>\n",
      "    {0.0} <music21.key.KeySignature of 2 sharps>\n",
      "    {0.0} <music21.key.Key of D major>\n",
      "    {0.0} <music21.note.Note B>\n",
      "    {1.0} <music21.note.Note B>\n",
      "    {1.5} <music21.note.Note C>\n",
      "{0.0} <music21.humdrum.spineParser.MiscTandem **kern humdrum control>\n",
      "{2.0} <music21.stream.Measure 1 offset=2.0>\n",
      "    {0.0} <music21.meter.TimeSignature 3/4>\n",
      "    {0.0} <music21.note.Note D>\n",
      "    {1.0} <music21.note.Note E>\n",
      "    {2.0} <music21.note.Note D>\n",
      "    {2.5} <music21.note.Note C>\n",
      "    {3.0} <music21.bar.Barline style=regular>\n",
      "{5.0} <music21.stream.Measure 2 offset=5.0>\n",
      "    {0.0} <music21.meter.TimeSignature 2/4>\n",
      "    {0.0} <music21.note.Note B>\n",
      "    {1.0} <music21.note.Note C>\n",
      "    {2.0} <music21.bar.Barline style=regular>\n",
      "{7.0} <music21.stream.Measure 3 offset=7.0>\n",
      "    {0.0} <music21.note.Note A>\n",
      "    {1.0} <music21.note.Note C>\n",
      "    {1.75} <music21.note.Note D>\n",
      "    {2.0} <music21.bar.Barline style=regular>\n",
      "{9.0} <music21.stream.Measure 4 offset=9.0>\n",
      "    {0.0} <music21.note.Note E>\n",
      "    {2.0} <music21.bar.Barline style=regular>\n",
      "{11.0} <music21.stream.Measure 5 offset=11.0>\n",
      "    {0.0} <music21.note.Note E>\n",
      "    {1.5} <music21.note.Note F>\n",
      "    {2.0} <music21.bar.Barline style=regular>\n",
      "{13.0} <music21.stream.Measure 6 offset=13.0>\n",
      "    {0.0} <music21.note.Note E>\n",
      "    {1.0} <music21.note.Note D>\n",
      "    {2.0} <music21.bar.Barline style=regular>\n",
      "{15.0} <music21.stream.Measure 7 offset=15.0>\n",
      "    {0.0} <music21.note.Note C>\n",
      "    {1.0} <music21.note.Note E>\n",
      "    {2.0} <music21.bar.Barline style=regular>\n",
      "{17.0} <music21.stream.Measure 8 offset=17.0>\n",
      "    {0.0} <music21.note.Note D>\n",
      "    {1.5} <music21.note.Note C#>\n",
      "    {2.0} <music21.bar.Barline style=regular>\n",
      "{19.0} <music21.stream.Measure 9 offset=19.0>\n",
      "    {0.0} <music21.note.Note D>\n",
      "    {2.0} <music21.bar.Barline style=double>\n"
     ]
    }
   ],
   "source": [
    "streams[0].parts[0].show('text')"
   ]
  },
  {
   "cell_type": "code",
   "execution_count": null,
   "metadata": {
    "colab": {},
    "colab_type": "code",
    "id": "Y3l9KHxQ6p-K"
   },
   "outputs": [],
   "source": []
  },
  {
   "cell_type": "markdown",
   "metadata": {
    "colab_type": "text",
    "id": "_nlE-aCLMLRz"
   },
   "source": [
    "# Gather .krn to one .txt\n",
    "\n"
   ]
  },
  {
   "cell_type": "code",
   "execution_count": null,
   "metadata": {
    "colab": {},
    "colab_type": "code",
    "id": "p3h2bekVMRnB"
   },
   "outputs": [],
   "source": [
    "import glob\n",
    "\n",
    "read_files = glob.glob(\"/content/gdrive/My Drive/MusicRep/kern_scores/**/*.krn\", recursive=True)\n",
    "\n",
    "with open(\"data/kern.txt\", \"wb\") as outfile:\n",
    "    for f in read_files:\n",
    "        with open(f, \"rb\") as infile:\n",
    "            outfile.write(infile.read())"
   ]
  },
  {
   "cell_type": "code",
   "execution_count": null,
   "metadata": {
    "colab": {
     "base_uri": "https://localhost:8080/"
    },
    "colab_type": "code",
    "id": "7PNC3PH9Mcth",
    "outputId": "06be6c66-c032-4ce1-fc99-f19bfa06abf8"
   },
   "outputs": [
    {
     "ename": "UnsupportedOperation",
     "evalue": "ignored",
     "output_type": "error",
     "traceback": [
      "\u001b[0;31m---------------------------------------------------------------------------\u001b[0m",
      "\u001b[0;31mUnsupportedOperation\u001b[0m                      Traceback (most recent call last)",
      "\u001b[0;32m<ipython-input-18-12adad80e7b5>\u001b[0m in \u001b[0;36m<module>\u001b[0;34m()\u001b[0m\n\u001b[1;32m      1\u001b[0m \u001b[0;32mwith\u001b[0m \u001b[0mopen\u001b[0m\u001b[0;34m(\u001b[0m\u001b[0;34m\"data/kern.txt\"\u001b[0m\u001b[0;34m,\u001b[0m \u001b[0;34m\"wb\"\u001b[0m\u001b[0;34m)\u001b[0m \u001b[0;32mas\u001b[0m \u001b[0moutfile\u001b[0m\u001b[0;34m:\u001b[0m\u001b[0;34m\u001b[0m\u001b[0;34m\u001b[0m\u001b[0m\n\u001b[0;32m----> 2\u001b[0;31m   \u001b[0mkern\u001b[0m\u001b[0;34m=\u001b[0m\u001b[0moutfile\u001b[0m\u001b[0;34m.\u001b[0m\u001b[0mread\u001b[0m\u001b[0;34m(\u001b[0m\u001b[0;34m)\u001b[0m\u001b[0;34m\u001b[0m\u001b[0;34m\u001b[0m\u001b[0m\n\u001b[0m",
      "\u001b[0;31mUnsupportedOperation\u001b[0m: read"
     ]
    }
   ],
   "source": [
    "with open(\"data/kern.txt\", \"wb\") as outfile:\n",
    "  kern=outfile.read()"
   ]
  },
  {
   "cell_type": "code",
   "execution_count": null,
   "metadata": {
    "colab": {},
    "colab_type": "code",
    "id": "5VFNFRBhjDoj"
   },
   "outputs": [],
   "source": []
  }
 ],
 "metadata": {
  "colab": {
   "collapsed_sections": [],
   "machine_shape": "hm",
   "name": "analysis",
   "provenance": [],
   "toc_visible": true
  },
  "kernelspec": {
   "display_name": "Python 3",
   "language": "python",
   "name": "python3"
  },
  "language_info": {
   "codemirror_mode": {
    "name": "ipython",
    "version": 3
   },
   "file_extension": ".py",
   "mimetype": "text/x-python",
   "name": "python",
   "nbconvert_exporter": "python",
   "pygments_lexer": "ipython3",
   "version": "3.7.7"
  }
 },
 "nbformat": 4,
 "nbformat_minor": 1
}
